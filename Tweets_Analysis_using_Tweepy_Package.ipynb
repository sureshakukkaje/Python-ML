{
  "nbformat": 4,
  "nbformat_minor": 0,
  "metadata": {
    "colab": {
      "name": "Tweets Analysis using Tweepy Package.ipynb",
      "version": "0.3.2",
      "provenance": [],
      "collapsed_sections": [],
      "include_colab_link": true
    },
    "kernelspec": {
      "name": "python3",
      "display_name": "Python 3"
    }
  },
  "cells": [
    {
      "cell_type": "markdown",
      "metadata": {
        "id": "view-in-github",
        "colab_type": "text"
      },
      "source": [
        "<a href=\"https://colab.research.google.com/github/sureshakukkaje/Python/blob/master/Tweets_Analysis_using_Tweepy_Package.ipynb\" target=\"_parent\"><img src=\"https://colab.research.google.com/assets/colab-badge.svg\" alt=\"Open In Colab\"/></a>"
      ]
    },
    {
      "cell_type": "code",
      "metadata": {
        "id": "EsSHQty3Y78V",
        "colab_type": "code",
        "colab": {
          "base_uri": "https://localhost:8080/",
          "height": 82
        },
        "outputId": "b781ab8b-d638-4c8b-9fc9-1e7a0310a0c0"
      },
      "source": [
        "# import necessary packages\n",
        "import numpy as np\n",
        "import pandas as pd\n",
        "import tweepy as tw\n",
        "import re\n",
        "import nltk\n",
        "nltk.download('stopwords')\n",
        "nltk.download('wordnet')\n",
        "from nltk.corpus import stopwords\n",
        "from nltk.stem.porter import PorterStemmer\n",
        "from nltk.stem import WordNetLemmatizer\n",
        "import matplotlib.pyplot as plt\n",
        "import seaborn as sns\n",
        "import itertools\n",
        "import collections\n",
        "from textblob import TextBlob\n",
        "from nltk.corpus import stopwords"
      ],
      "execution_count": 145,
      "outputs": [
        {
          "output_type": "stream",
          "text": [
            "[nltk_data] Downloading package stopwords to /root/nltk_data...\n",
            "[nltk_data]   Package stopwords is already up-to-date!\n",
            "[nltk_data] Downloading package wordnet to /root/nltk_data...\n",
            "[nltk_data]   Package wordnet is already up-to-date!\n"
          ],
          "name": "stdout"
        }
      ]
    },
    {
      "cell_type": "code",
      "metadata": {
        "id": "szAkA7IgZF50",
        "colab_type": "code",
        "colab": {}
      },
      "source": [
        "# get Twitter connection keys from your Twitter account\n",
        "consumer_key='mMxWtFrsc1ZH852lpM0MSOYDl'\n",
        "consumer_secret='T0Fn40YQKLEEFF4iemOmoIpN2v1Bxz3zmzlky0WFfpHi47B0b7'\n",
        "access_token='298436620-cuJ8a4VCJTPFLPzJMqGclJQu0EqHTpjdE21I4l3c'\n",
        "access_token_secret='MJKAtZpMCLyyAD9EekIQ6g1nyBfUXn5DjgUyS1vjT6ZGJ'"
      ],
      "execution_count": 0,
      "outputs": []
    },
    {
      "cell_type": "code",
      "metadata": {
        "id": "SErxyD4OZF8b",
        "colab_type": "code",
        "colab": {}
      },
      "source": [
        "# connect to Twitter API using OAuthHandler\n",
        "auth=tw.OAuthHandler(consumer_key,consumer_secret)\n",
        "auth.set_access_token(access_token,access_token_secret)\n",
        "api=tw.API(auth,wait_on_rate_limit=True)"
      ],
      "execution_count": 0,
      "outputs": []
    },
    {
      "cell_type": "code",
      "metadata": {
        "id": "FQsZ4QdeZF_T",
        "colab_type": "code",
        "colab": {
          "base_uri": "https://localhost:8080/",
          "height": 407
        },
        "outputId": "ed8aae69-3911-4418-8af2-997920ae3a42"
      },
      "source": [
        "# display the latest 20 tweets from the homepage\n",
        "public_tweets=api.home_timeline()\n",
        "for tweet in public_tweets:\n",
        "  print(tweet.text)"
      ],
      "execution_count": 117,
      "outputs": [
        {
          "output_type": "stream",
          "text": [
            "Before #NewTraffic#Rules, truck driver was fined Rs. 6 lakh in Odisha https://t.co/abgec7RD3P https://t.co/x1NRbKdvYQ\n",
            "Inaugurated the Kishori Mohan Das Memorial Public Stage at Dakshin Barsajai Maidam Durga Mandir, Lalmati along with… https://t.co/V08UI3T4Dd\n",
            "Visited the exhibition gallery showcasing the journey of Hon'ble PM Shri @narendramodi and his commitment for the w… https://t.co/4urjnl03ll\n",
            "One smart, creative idea can make a huge difference. @PLGreenChalleng has selected five finalists – each one workin… https://t.co/ZkuKEG2iOO\n",
            "Now we have Mr. Akshay Kulkarni, Lead Data Scientist, Sapient who will be sharing his knowledge on the topic of Int… https://t.co/lvu4l6AWE3\n",
            "Lindner believes music helps him connect with the people better and is key to a #diplomat’s success\n",
            "\n",
            "https://t.co/S8SRYrWSdJ\n",
            "The genetic analysis of a 4,500 year old skeleton that belonged to a woman from #Rakhigarhi, the largest town in th… https://t.co/mF9mC8GEJF\n",
            "आप सभी को #हिंदी_दिवस की हार्दिक बधाई एवं शुभकामनाएं। #HindiDiwas https://t.co/WYzWtAFGbn\n",
            "Glimpses of the #SevaSaptah celebrations. https://t.co/AABwKcLiRr\n",
            "Death toll rises in #Spain after heavy rainfall resulted in floods; weather situation expected to stabilize soon… https://t.co/nUcd5fXVrN\n",
            "RT @Ostrov_A: Where is the outrage? #Iran MUST release the 3 innocent #Australians it is holding hostage and imprisoned in the notorious Ev…\n",
            "From one political party to the other and back. Lok Sabha MP @DrSTHasan talks about his journey, impact of circumst… https://t.co/KmQPpi9h2U\n",
            "RT @Sports_NDTV: #SourabhVerma beats #MinoruKoga of Japan 22-20, 21-15 to reach the final of #VietnamOpenSuper100 \n",
            "\n",
            "https://t.co/iQ7Yc5KEV6\n",
            "RT @SalmanSima: Toronto stands for women's rights in Iran.We held flowers &amp; candles for #BlueGirl.We held pictures of women political priso…\n",
            "#Live | Indian Cricket team Captain @imVkohli addresses the media ahead of the 3 match series against South Africa.… https://t.co/yfHPPfViDI\n",
            "Seven More Squadrons Of Indian Air Force To Be Equipped With Akash MRSAM Missile Defence System In Rs 5,357 Crore D… https://t.co/aTsZRbyu2j\n",
            "देश के करोड़ों लोगों को एक सूत्र में बांधने वाली, भारत के बाहर विभिन्न देशों में भारतीयों को भारतीयता से जोड़ने वा… https://t.co/sbt7JqrUE9\n",
            "Hmm ..But @priyankagandhi Ji I am neither Rahul Gandhi who knows “Zero” about anything nor am I MR Vadra who knows… https://t.co/6yM1NnrBP9\n",
            "RT @airnews_ghy: Complementary Feeding Importance Programme and Awareness on Pradhan Mantri Matritva Vandana Yojana was organised at Tapatt…\n",
            "Extremely happy to see people coming forward for the cause of our environment. Administered the  oath to serve the… https://t.co/sMQYBGijF4\n"
          ],
          "name": "stdout"
        }
      ]
    },
    {
      "cell_type": "code",
      "metadata": {
        "id": "UCBoW3-RZGBy",
        "colab_type": "code",
        "colab": {
          "base_uri": "https://localhost:8080/",
          "height": 82
        },
        "outputId": "bd84bd16-0d01-4a4a-e9ba-e4988221256d"
      },
      "source": [
        "# get Twitter user details such as screen name and followers counts\n",
        "user=api.get_user('@sureshkukkaje')\n",
        "print(\"User Screen Name\")\n",
        "print(user.screen_name)\n",
        "print(\"User Followers Count\")\n",
        "print(user.followers_count)"
      ],
      "execution_count": 118,
      "outputs": [
        {
          "output_type": "stream",
          "text": [
            "User Screen Name\n",
            "sureshkukkaje\n",
            "User Followers Count\n",
            "97\n"
          ],
          "name": "stdout"
        }
      ]
    },
    {
      "cell_type": "code",
      "metadata": {
        "id": "d2DJCoHEZGEa",
        "colab_type": "code",
        "colab": {
          "base_uri": "https://localhost:8080/",
          "height": 82
        },
        "outputId": "4af8f7cc-4147-4b89-ed66-b9f50943098d"
      },
      "source": [
        "# find friends' screen names\n",
        "user=api.get_user('@shinuabhi')\n",
        "print(\"User Screen Name\")\n",
        "print(user.screen_name)\n",
        "print(\"User Followers Count\")\n",
        "print(user.followers_count)"
      ],
      "execution_count": 119,
      "outputs": [
        {
          "output_type": "stream",
          "text": [
            "User Screen Name\n",
            "shinuabhi\n",
            "User Followers Count\n",
            "328\n"
          ],
          "name": "stdout"
        }
      ]
    },
    {
      "cell_type": "code",
      "metadata": {
        "id": "tCE_01zIZGGa",
        "colab_type": "code",
        "colab": {
          "base_uri": "https://localhost:8080/",
          "height": 342
        },
        "outputId": "d86b17b7-dfa8-495f-d47d-ec38faab09c3"
      },
      "source": [
        "for friend in user.friends():\n",
        "  print(friend.screen_name)"
      ],
      "execution_count": 120,
      "outputs": [
        {
          "output_type": "stream",
          "text": [
            "isro\n",
            "Bhuvan_Bam\n",
            "satyanadella\n",
            "nikesharora\n",
            "VivekKundra\n",
            "vkhosla\n",
            "nixxin\n",
            "vijayshekhar\n",
            "denharsh\n",
            "vsikka\n",
            "ramavshree\n",
            "deepaklalan\n",
            "sgmammen\n",
            "kanchanbell\n",
            "tinucherian\n",
            "PratibhaNair5\n",
            "ANSHU_live\n",
            "Bharadwaaj_S\n",
            "HnShylaja\n",
            "connectvj\n"
          ],
          "name": "stdout"
        }
      ]
    },
    {
      "cell_type": "code",
      "metadata": {
        "id": "yp0qc49OajW9",
        "colab_type": "code",
        "colab": {
          "base_uri": "https://localhost:8080/",
          "height": 342
        },
        "outputId": "2169013e-1717-4637-8708-0b3104b1e21f"
      },
      "source": [
        "# find followers screen names\n",
        "for followers in user.followers():\n",
        "  print(followers.screen_name)"
      ],
      "execution_count": 121,
      "outputs": [
        {
          "output_type": "stream",
          "text": [
            "pradmishra1\n",
            "Bengaluru2050\n",
            "sureshkukkaje\n",
            "Satyaji27316446\n",
            "ChetanNiloor\n",
            "Prakash14238074\n",
            "HarishK79713526\n",
            "SNEHASISHBANIK6\n",
            "brajeshonline\n",
            "kabirsingh27121\n",
            "manmohandoijode\n",
            "Kirthiraj191\n",
            "tinucherian\n",
            "Vinumakino\n",
            "CelebrityPhani\n",
            "Nithya_tweet\n",
            "sureshhp1\n",
            "rmadhukar\n",
            "TilakMuthusamy\n",
            "saumyadipsarkar\n"
          ],
          "name": "stdout"
        }
      ]
    },
    {
      "cell_type": "code",
      "metadata": {
        "id": "R5xe2BL2ajaa",
        "colab_type": "code",
        "colab": {
          "base_uri": "https://localhost:8080/",
          "height": 53
        },
        "outputId": "b2cc7e8a-a056-457b-cf39-4a202df1d34f"
      },
      "source": [
        "# post a Tweet using Python\n",
        "api.update_status(\"Sample Tweet from #Python and #Tweepy\")"
      ],
      "execution_count": 122,
      "outputs": [
        {
          "output_type": "execute_result",
          "data": {
            "text/plain": [
              "Status(_api=<tweepy.api.API object at 0x7fa5ef514748>, _json={'created_at': 'Sat Sep 14 09:01:30 +0000 2019', 'id': 1172797509653147648, 'id_str': '1172797509653147648', 'text': 'Sample Tweet from #Python and #Tweepy', 'truncated': False, 'entities': {'hashtags': [{'text': 'Python', 'indices': [18, 25]}, {'text': 'Tweepy', 'indices': [30, 37]}], 'symbols': [], 'user_mentions': [], 'urls': []}, 'source': '<a href=\"https://github.com/sureshakukkaje\" rel=\"nofollow\">Suresha</a>', 'in_reply_to_status_id': None, 'in_reply_to_status_id_str': None, 'in_reply_to_user_id': None, 'in_reply_to_user_id_str': None, 'in_reply_to_screen_name': None, 'user': {'id': 298436620, 'id_str': '298436620', 'name': 'Suresha Kukkaje', 'screen_name': 'sureshkukkaje', 'location': 'Bengaluru', 'description': '', 'url': None, 'entities': {'description': {'urls': []}}, 'protected': False, 'followers_count': 97, 'friends_count': 410, 'listed_count': 0, 'created_at': 'Sat May 14 09:36:05 +0000 2011', 'favourites_count': 275, 'utc_offset': None, 'time_zone': None, 'geo_enabled': False, 'verified': False, 'statuses_count': 330, 'lang': None, 'contributors_enabled': False, 'is_translator': False, 'is_translation_enabled': False, 'profile_background_color': 'C0DEED', 'profile_background_image_url': 'http://abs.twimg.com/images/themes/theme1/bg.png', 'profile_background_image_url_https': 'https://abs.twimg.com/images/themes/theme1/bg.png', 'profile_background_tile': False, 'profile_image_url': 'http://pbs.twimg.com/profile_images/1043712522476371969/zcW6kjwC_normal.jpg', 'profile_image_url_https': 'https://pbs.twimg.com/profile_images/1043712522476371969/zcW6kjwC_normal.jpg', 'profile_banner_url': 'https://pbs.twimg.com/profile_banners/298436620/1537708256', 'profile_link_color': '1DA1F2', 'profile_sidebar_border_color': 'C0DEED', 'profile_sidebar_fill_color': 'DDEEF6', 'profile_text_color': '333333', 'profile_use_background_image': True, 'has_extended_profile': False, 'default_profile': True, 'default_profile_image': False, 'following': False, 'follow_request_sent': False, 'notifications': False, 'translator_type': 'none'}, 'geo': None, 'coordinates': None, 'place': None, 'contributors': None, 'is_quote_status': False, 'retweet_count': 0, 'favorite_count': 0, 'favorited': False, 'retweeted': False, 'lang': 'en'}, created_at=datetime.datetime(2019, 9, 14, 9, 1, 30), id=1172797509653147648, id_str='1172797509653147648', text='Sample Tweet from #Python and #Tweepy', truncated=False, entities={'hashtags': [{'text': 'Python', 'indices': [18, 25]}, {'text': 'Tweepy', 'indices': [30, 37]}], 'symbols': [], 'user_mentions': [], 'urls': []}, source='Suresha', source_url='https://github.com/sureshakukkaje', in_reply_to_status_id=None, in_reply_to_status_id_str=None, in_reply_to_user_id=None, in_reply_to_user_id_str=None, in_reply_to_screen_name=None, author=User(_api=<tweepy.api.API object at 0x7fa5ef514748>, _json={'id': 298436620, 'id_str': '298436620', 'name': 'Suresha Kukkaje', 'screen_name': 'sureshkukkaje', 'location': 'Bengaluru', 'description': '', 'url': None, 'entities': {'description': {'urls': []}}, 'protected': False, 'followers_count': 97, 'friends_count': 410, 'listed_count': 0, 'created_at': 'Sat May 14 09:36:05 +0000 2011', 'favourites_count': 275, 'utc_offset': None, 'time_zone': None, 'geo_enabled': False, 'verified': False, 'statuses_count': 330, 'lang': None, 'contributors_enabled': False, 'is_translator': False, 'is_translation_enabled': False, 'profile_background_color': 'C0DEED', 'profile_background_image_url': 'http://abs.twimg.com/images/themes/theme1/bg.png', 'profile_background_image_url_https': 'https://abs.twimg.com/images/themes/theme1/bg.png', 'profile_background_tile': False, 'profile_image_url': 'http://pbs.twimg.com/profile_images/1043712522476371969/zcW6kjwC_normal.jpg', 'profile_image_url_https': 'https://pbs.twimg.com/profile_images/1043712522476371969/zcW6kjwC_normal.jpg', 'profile_banner_url': 'https://pbs.twimg.com/profile_banners/298436620/1537708256', 'profile_link_color': '1DA1F2', 'profile_sidebar_border_color': 'C0DEED', 'profile_sidebar_fill_color': 'DDEEF6', 'profile_text_color': '333333', 'profile_use_background_image': True, 'has_extended_profile': False, 'default_profile': True, 'default_profile_image': False, 'following': False, 'follow_request_sent': False, 'notifications': False, 'translator_type': 'none'}, id=298436620, id_str='298436620', name='Suresha Kukkaje', screen_name='sureshkukkaje', location='Bengaluru', description='', url=None, entities={'description': {'urls': []}}, protected=False, followers_count=97, friends_count=410, listed_count=0, created_at=datetime.datetime(2011, 5, 14, 9, 36, 5), favourites_count=275, utc_offset=None, time_zone=None, geo_enabled=False, verified=False, statuses_count=330, lang=None, contributors_enabled=False, is_translator=False, is_translation_enabled=False, profile_background_color='C0DEED', profile_background_image_url='http://abs.twimg.com/images/themes/theme1/bg.png', profile_background_image_url_https='https://abs.twimg.com/images/themes/theme1/bg.png', profile_background_tile=False, profile_image_url='http://pbs.twimg.com/profile_images/1043712522476371969/zcW6kjwC_normal.jpg', profile_image_url_https='https://pbs.twimg.com/profile_images/1043712522476371969/zcW6kjwC_normal.jpg', profile_banner_url='https://pbs.twimg.com/profile_banners/298436620/1537708256', profile_link_color='1DA1F2', profile_sidebar_border_color='C0DEED', profile_sidebar_fill_color='DDEEF6', profile_text_color='333333', profile_use_background_image=True, has_extended_profile=False, default_profile=True, default_profile_image=False, following=False, follow_request_sent=False, notifications=False, translator_type='none'), user=User(_api=<tweepy.api.API object at 0x7fa5ef514748>, _json={'id': 298436620, 'id_str': '298436620', 'name': 'Suresha Kukkaje', 'screen_name': 'sureshkukkaje', 'location': 'Bengaluru', 'description': '', 'url': None, 'entities': {'description': {'urls': []}}, 'protected': False, 'followers_count': 97, 'friends_count': 410, 'listed_count': 0, 'created_at': 'Sat May 14 09:36:05 +0000 2011', 'favourites_count': 275, 'utc_offset': None, 'time_zone': None, 'geo_enabled': False, 'verified': False, 'statuses_count': 330, 'lang': None, 'contributors_enabled': False, 'is_translator': False, 'is_translation_enabled': False, 'profile_background_color': 'C0DEED', 'profile_background_image_url': 'http://abs.twimg.com/images/themes/theme1/bg.png', 'profile_background_image_url_https': 'https://abs.twimg.com/images/themes/theme1/bg.png', 'profile_background_tile': False, 'profile_image_url': 'http://pbs.twimg.com/profile_images/1043712522476371969/zcW6kjwC_normal.jpg', 'profile_image_url_https': 'https://pbs.twimg.com/profile_images/1043712522476371969/zcW6kjwC_normal.jpg', 'profile_banner_url': 'https://pbs.twimg.com/profile_banners/298436620/1537708256', 'profile_link_color': '1DA1F2', 'profile_sidebar_border_color': 'C0DEED', 'profile_sidebar_fill_color': 'DDEEF6', 'profile_text_color': '333333', 'profile_use_background_image': True, 'has_extended_profile': False, 'default_profile': True, 'default_profile_image': False, 'following': False, 'follow_request_sent': False, 'notifications': False, 'translator_type': 'none'}, id=298436620, id_str='298436620', name='Suresha Kukkaje', screen_name='sureshkukkaje', location='Bengaluru', description='', url=None, entities={'description': {'urls': []}}, protected=False, followers_count=97, friends_count=410, listed_count=0, created_at=datetime.datetime(2011, 5, 14, 9, 36, 5), favourites_count=275, utc_offset=None, time_zone=None, geo_enabled=False, verified=False, statuses_count=330, lang=None, contributors_enabled=False, is_translator=False, is_translation_enabled=False, profile_background_color='C0DEED', profile_background_image_url='http://abs.twimg.com/images/themes/theme1/bg.png', profile_background_image_url_https='https://abs.twimg.com/images/themes/theme1/bg.png', profile_background_tile=False, profile_image_url='http://pbs.twimg.com/profile_images/1043712522476371969/zcW6kjwC_normal.jpg', profile_image_url_https='https://pbs.twimg.com/profile_images/1043712522476371969/zcW6kjwC_normal.jpg', profile_banner_url='https://pbs.twimg.com/profile_banners/298436620/1537708256', profile_link_color='1DA1F2', profile_sidebar_border_color='C0DEED', profile_sidebar_fill_color='DDEEF6', profile_text_color='333333', profile_use_background_image=True, has_extended_profile=False, default_profile=True, default_profile_image=False, following=False, follow_request_sent=False, notifications=False, translator_type='none'), geo=None, coordinates=None, place=None, contributors=None, is_quote_status=False, retweet_count=0, favorite_count=0, favorited=False, retweeted=False, lang='en')"
            ]
          },
          "metadata": {
            "tags": []
          },
          "execution_count": 122
        }
      ]
    },
    {
      "cell_type": "code",
      "metadata": {
        "id": "ramTkE0wajce",
        "colab_type": "code",
        "colab": {}
      },
      "source": [
        "# pull the latest Tweets on any topics by using the cursor method and removing the re-Tweets\n",
        "tweets=tw.Cursor(api.search, q='@isro-filter:retweets',lang='en',since='2019-01-01').items(1000)"
      ],
      "execution_count": 0,
      "outputs": []
    },
    {
      "cell_type": "code",
      "metadata": {
        "id": "cbUIMbuTajfW",
        "colab_type": "code",
        "colab": {
          "base_uri": "https://localhost:8080/",
          "height": 1000
        },
        "outputId": "aa5536fb-dfe7-4cd9-d840-ed551955e1b9"
      },
      "source": [
        "# pull the text of the Tweets using list comprehension\n",
        "tweets_text = [x.text for x in tweets]\n",
        "tweets_text"
      ],
      "execution_count": 125,
      "outputs": [
        {
          "output_type": "execute_result",
          "data": {
            "text/plain": [
              "['@BangaloreMirror @NASA @isro Prayer of crores of Indians will come up shortly.',\n",
              " '@Being_Wendigo @TeamYouTube @YouTubeIndia @isro @YouTube I hope after my tweet to @YouTube @YouTubeIndia… https://t.co/y50SSzDsyx',\n",
              " '@isro Must Check sabotage angle https://t.co/ypl0EOF6S2',\n",
              " '@isro @ISRO_News we many achieve a communication contact with  lander and Vikram today..',\n",
              " '@AmhiDombivlikar @starindia @narendramodi @isro @Dev_Fadnavis @RahulGandhi @aajtak @ZeeNews @aliaa08 @akshaykumar… https://t.co/9RI3ZrczsN',\n",
              " '@isro why dont we think in different way to land on moon \\nproperly the landers lands on four legs , create four esc… https://t.co/MB1tq1sJha',\n",
              " '@isro I respect for this Scientists.....\\nGreet man....',\n",
              " '@TweetsOfVipin @NASA @isro @ANI @IndianExpress @narendramodi This screen shot was probably during the time when lan… https://t.co/q6nG4bQ2fu',\n",
              " 'That’s really great news 👍🏼👍🏼\\n@NASA @isro https://t.co/E90gbgrPDG',\n",
              " '@DodgerSpace @TeamYouTube @YouTubeIndia @isro @YouTube Video is working fine on my device',\n",
              " '@discomoulvi @NagpurPolice @POHAA__ @isro Abhinandan downed one F-16 and returned two days later.   If that is fail… https://t.co/I9Bimo1VY3',\n",
              " 'Orbiter responds to NASA’s signals, Vikram still elusive.\\n\\n@NASA @isro\\n\\nhttps://t.co/vxEA3v2KJG',\n",
              " 'which constantly motivate us in the development of space technology, pushing our limits across interstellar space a… https://t.co/YNXLpx1mh5',\n",
              " '@FuturisingIN @RPJaiswal8 @isro Will see about that :)',\n",
              " 'Dear #Chandrayaan2, \\n\\nAll India are still waiting for your response with our whole heart.. \\n\\n@isro  is trying to co… https://t.co/Z1Y3YOpg9d',\n",
              " \"@ARanganathan72 @isro ISRO chief also went to temple before chandrayaan 2. He must know something others don't.\\n\\nCa… https://t.co/IcsMFVXD1Z\",\n",
              " 'NASA is helping ISRO to make contact with #vikramlander .\\nKinda good gesture from @NASA !!\\n\\n#Chandrayaan2 #NASA… https://t.co/mGEsySw4Yr',\n",
              " '@ChanakyaaTv @RangarajPandeyR @isro @narendramodi Negatives....',\n",
              " '@isro Pregyan Lander plz Replay plz',\n",
              " '@isro 👍India is 4th nation to softland on moon with help of NASA. Gaganyan- v must list bandwidth as part of hardwa… https://t.co/TNrg0doizo',\n",
              " '@republic Dont hail team, hail @isro',\n",
              " '@isro scientists handed a pay cut https://t.co/wQmi0rUjro',\n",
              " 'THIS is how ISRO will find why Vikram failed\\n\\n@isro\\n #ISRO #IsroPerGarvHai #ISROweareproudofyou\\nhttps://t.co/MXTumtwHt8',\n",
              " '@IamVinodBhagat @Sana_Jamal @DanyalGilani @isro @Faizanbukharii Vinod Byghret.....Mom...Cow, Dad... Bull. You peopl… https://t.co/npuqLjz43W',\n",
              " '@Hena19 @isro Ye information Already pta h Sab Study kiye h..👍',\n",
              " '@isro Definetely @ISRO will establish communication with lander soon.',\n",
              " \"@Diagona12 @Sana_Jamal @Natsecjeff @isro @Faizanbukharii what's wrong we did to Kashmiri Pandits. Say thanks to Kas… https://t.co/2BMIdsg7fP\",\n",
              " \"@EmmanuelMacron chandrayan 2 softlanded NASA helped India...I'll send masala dosa/Puri samosa n kenco cofi for u/ur… https://t.co/5OzZ8sclN7\",\n",
              " '@ARanganathan72 @isro You forgot to mention that Madhavan Nair joined BJP. https://t.co/S0y7XtkZKp',\n",
              " \"@isro It's good news for vikaram lander\",\n",
              " '@isro Is connection established to Vikram today??? There Are rumoursspreading...',\n",
              " '@mahesh12340987 @Sana_Jamal @marvisirmed @isro @Faizanbukharii Mahesh You sound me a pure hindu bullshit. Kashmiri… https://t.co/2C3nmmKE0L',\n",
              " '@indiatvnews @isro Because NASA is Boss of you',\n",
              " '@nascom1 @NASA @isro @esa Dear ISRO director &amp; scientists team, there is no use of crying over split milk. Take it… https://t.co/K6ocA5cfxF',\n",
              " 'ISRO to simulate varied scenarios to find why Vikram failed\\n\\n#ISRO #VikramLander @isro \\n\\nhttps://t.co/7LYaXw8YF9',\n",
              " '@isro Let ISRO become  leader in space missions in the world. Congrats  Dr Sivan sir for Chandrayan 2 &amp; future adventures  missions.',\n",
              " \"@isro \\n#Chandrayaan2 \\n\\nSir/Ma'am, \\nAny update on communication with #vikramlander \\n\\nPlease provide Public Notice fo… https://t.co/tWqCZztE44\",\n",
              " 'THIS is how ISRO will find why Vikram failed\\n\\n@isro #ISRO #IsroPerGarvHai #ISROweareproudofyou \\n\\nhttps://t.co/a2NuKKOkzh',\n",
              " '@isro Communication start with lander?',\n",
              " \"@ARanganathan72 @isro 'Puspak Viman '.............................bhi rakh lo bhiya.😂 Why to give credit to  The Wr… https://t.co/hztQU1mOGy\",\n",
              " '@DodgerSpace @throughjhankar @isro @GoldstoneDSN @CanberraDSN why they stopped signal sending before 2 hours even t… https://t.co/W1TuIQ0pPR',\n",
              " '@VandanaJayrajan @isro 2/ I hold above vu even as I realise dat Jap r far advanced &amp; recently have softlanded a pro… https://t.co/0PUCfujbBr',\n",
              " '@COMRADEXAH @RPJaiswal8 @isro With such dreams, how can a country progress',\n",
              " '@sonakshisinha @akshaykumar @vidya_balan @taapsee @IamKirtiKulhari @MenenNithya @Jaganshakti @foxstarhindi @isro Will u marry me sonakshi?',\n",
              " 'Dear @isro  if u need any SS of Vikram lander aks ram SS\\n\\n#HD_RIP_UNTOUCHED_Available',\n",
              " '@isro Can you please share any further updates regarding Chnadrayan2. All Indians are waiting for any news from ISRO..',\n",
              " '@jytkoul @smritiirani @isro @PMOIndia @narendramodi_in Wonderful .. amazing lines..... And what a writing',\n",
              " \"@M19Sen @Mariappan0487 @dinesh_navada @BlackBallBoy1 @holatombola @isro Because we can't have it printed in 452 lan… https://t.co/VYkNp6c8OP\",\n",
              " '@FuturisingIN @RPJaiswal8 @isro Dreams come true just like humiliating india on 27 feb came true lols 😂',\n",
              " \"@COMRADEXAH @RPJaiswal8 @isro And in your case it's all just. ....\\nDreams,, 🤣🤣🤣\",\n",
              " '@shivaiyer2017 @Mariappan0487 @dinesh_navada @BlackBallBoy1 @holatombola @isro Even safety instruction in gas cylin… https://t.co/vfX3U6ZJlK',\n",
              " '@shakkuiyer @Saru81589968 @hd_kumaraswamy @DeccanHerald They should have hung this fellow’s pic at the @isro HQ. He… https://t.co/WRO8eUqVll',\n",
              " '@VandanaJayrajan The article hilights xcellent caliber of scientists @ISRO who had 95% success with placement &amp; ope… https://t.co/LcMvDAUA86',\n",
              " '@peaceforchange @isro Love you sir Pakistan army zindabad',\n",
              " '@isro i want to go in space with gaganyan mission 2022 select me .',\n",
              " '@Subhrapr lauds a film on the country’s first interplanetary craft, the Mars Orbiter Mission.… https://t.co/zUfKqeGKWq',\n",
              " '@PrernaG26345926 @Astro_Neel @isro @chandrayan2 only when there is a \"morcha\" or \"dharana\" on streets or twitter ou… https://t.co/qJGm2efpUz',\n",
              " '@IAF_MCC @isro @adgpi @SpokespersonMoD @PIB_India @MIB_India @indiannavy @DDNewsLive I want to go with this mission… https://t.co/LVAAqoWbY5',\n",
              " \"@adityanarayanh8 @isro It does not that is the problem silly. It is already taking help from NASA. Can't you see th… https://t.co/Sx33sAdJzd\",\n",
              " '@vidya_balan @isro @akshaykumar @taapsee @sonakshisinha @MenenNithya @TheSharmanJoshi @IamKirtiKulhari @Jaganshakti… https://t.co/eFgAaNfcIY',\n",
              " '@PrernaG26345926 @Astro_Neel @isro @chandrayan2 you are being too naïve, \"nobody needs to tell anybody\"...\"everythi… https://t.co/mLqU1cUjvi',\n",
              " '@ARanganathan72 @isro Madhavan Nair is involved in so many scams.\\nHe talks pro-Hindutva crap most of the time to ge… https://t.co/NzEb0JM6xa',\n",
              " \"#chandrayaan2 mission of #global interest. Here a piece by #deutsche #welle #germany 's #international #broadcaster… https://t.co/rGedGbwjIw\",\n",
              " '@isro I think that vikram lander is okay, but there is an issue with antenna of orbiter to communicate with vikram lander...',\n",
              " 'We are proud of you @isro. 🇮🇳 #Chandrayaan2 https://t.co/O9x0wHnVMI',\n",
              " '@ashishsking92 @isro @shyamupcop @sengarlive @navsekera @brajeshlive @lkopolice @adityatiwaree @Pvsindhu1… https://t.co/vzaUfZMqFO',\n",
              " \"@isro What's the update of #Chandrayaan2 ???\",\n",
              " '@sanjuktachat6 @ARanganathan72 @isro No idea. Given his stature &amp; post ,I hope it is a photoshop .',\n",
              " '@Mnomics_ @ARanganathan72 @isro Can you confirm if the said person had actually said that! Newspapers make up stories all the time.',\n",
              " \"@isro Hum honge kaamyaab.. anxiously waiting for #Chandrayaan3 please.. can't wait for that moment that we are in m… https://t.co/S7m023KR9G\",\n",
              " '@peaceforchange @isro can u tell me where Yor Terrorists r goingToTake U,ToAnother #peshawarIncident,INDIANS promot… https://t.co/dj6SQTUVSp',\n",
              " '@DishPatani @isro Jai hind',\n",
              " '@throughjhankar @isro Currently, #Moon is below @GoldstoneDSN, and above @CanberraDSN maybe lets hope @CanberraDSN… https://t.co/Di1c3tf84e',\n",
              " '@isro Any new update??',\n",
              " '@Real_Anuj @UP_Silk @isro Hey ram',\n",
              " 'Try om @isro to communicate with vikram',\n",
              " '@AnilSinghvi_ @isro @PMOIndia @narendramodi @ZeeBusiness THANK U SINGHVI JI....TODAYS EARNING RS 45000.....AAPKA BA… https://t.co/zrmEOcNm6q',\n",
              " 'The Hubble has detected water vapour in an exoplanet, 110 light years away. It is bigger than earth too!\\n\\nHell with… https://t.co/y9VjbPELv7',\n",
              " \"NASA's DSN trying to contact #Chandrayaan2 #VikramLander. But there is not up and down stream.\\n@isro https://t.co/tp0Kk5CYJo\",\n",
              " \"@isro My kid's Vikram Lander and Pragyan Rover https://t.co/K7xQnW60fK\",\n",
              " \"As #India joins the scramble for a berth in #outerspace, take a closer look at @isro's aspirational ventures and th… https://t.co/i5Da5Dmi50\",\n",
              " '@KrishrakhiH @isro Nice',\n",
              " '@indiatvnews @NASA @isro I see',\n",
              " '@isro hope everything will be okay soon',\n",
              " '@isro Sir, I want to say something to you, I am just guessing that a space company has hacked Sayed Lander and Rove… https://t.co/M9uC6yANOb',\n",
              " '@isro See @isro  Someone has found the reason behind the chandrayan- 2 failure @PMOIndia https://t.co/fZUZHtes19',\n",
              " '@isro what a night it was!! Just amazed and proud of myself being an Indian. Keep going. We all are with with you.',\n",
              " \"@isro And Sir Dr. K. Sivan, we proud Indians living abroad can't  forget ur tears. We love u, respect u, and salute… https://t.co/QViirMbexJ\",\n",
              " '@sonakshisinha @akshaykumar @vidya_balan @taapsee @IamKirtiKulhari @MenenNithya @Jaganshakti @foxstarhindi @isro Co… https://t.co/FFHf0D1jLy',\n",
              " '@isro Launched 75missions, 105 spacecraft Missions, 297Foreign satellites, 10 student Satellites But @fawadchaudhry… https://t.co/T8JZEIYzH0',\n",
              " '@VinuVeda @isro @hd_kumaraswamy Hey shameless @hd_kumaraswamy ,  ಸಾಲಮನ್ನಾ credit should go to Banks and Officers in… https://t.co/QkRz5li8Wg',\n",
              " '@isro Sir. Dr. K. Sivan and fellow scientists, we have more than 130 Cr people in India. Among this, maybe 1% of ou… https://t.co/Z1ikKSzdSv',\n",
              " \"@isro Awake Vikram lander,it's not time sleep in the lap of Moon, more than 100 crores of Indian's awaiting for you.. come on\",\n",
              " \"@Suppandi6 @ARanganathan72 @isro If you go like that then Newton's laws would have resulted in failure of every pro… https://t.co/ZCnve8p5n3\",\n",
              " '@FaithAtheismNub @isro I dont think so! Agree to disagree. For all these resources a professional body like ISRO wo… https://t.co/XGHw036hDF',\n",
              " '@alok_pk @NarendraJERTHI @isro Fake news',\n",
              " '@ARanganathan72 @isro If in doubt, always check with the topmost expert in this field. \\n\\nhttps://t.co/mAvNrqnjDD',\n",
              " '@TheLoneWolf447 @AdeelQu70956289 @Saurabhinbharat @peaceforchange @isro @neiltyson Again as usual, twisted crap. In… https://t.co/vIAi4jCEZt',\n",
              " 'Vikram rang the bell too, entered inside,met the family, but failed to inform his mom ISRO that he has reached safe… https://t.co/pPpbSM2Qcj',\n",
              " \"@Mariappan0487 @M19Sen @dinesh_navada @BlackBallBoy1 @holatombola @isro Where is the imposition. You're creating a… https://t.co/wIv3wvncyc\",\n",
              " '@sanghaviharsh @DChaurasia2312 @isro This is the result of your poor parenting &amp; the false pride you are teaching him.',\n",
              " \"@I_Sidra_says @MawraHocane Bas Yahi @isro is Superior and porkistan 🇵🇰 agency can't even match 0.00001% of Indian s… https://t.co/s79o4QFt9O\",\n",
              " \"@coastal8049 @df2mz To all those 'hoping' to connect to vikram - Forget it!It crashed at 110 miles/hr -how in the w… https://t.co/LUW9tJ0k5o\",\n",
              " '@shahidansaris @AsiliKoshur @jytkoul @isro @PMOIndia @narendramodi_in my country is my identity... allah hafiz',\n",
              " '@NASA will be assisting @isro to connect with the #VikramLander, #NASA , apart from the radio signal, will also sha… https://t.co/tQLJgT2e8Y',\n",
              " '@nascom1 @NASA @isro @esa @NASA I requested you to boost the signal level to high frequency as the private telecom… https://t.co/riG5IpJrJ7',\n",
              " '@TheCarleyScott @satispy @spacegovuk @AusSpaceAgency @SASIC_Aus @spaceindustryoz @esaoperations @NASAJPL… https://t.co/L8GCuLYw1B',\n",
              " '@isro I m a seeker, now india is dominant bcoz they can see wats happening in moon for 7 yrs, a close radar by orbi… https://t.co/EtWe3NeMNH',\n",
              " '@satispy @spacegovuk @AusSpaceAgency @SASIC_Aus @spaceindustryoz @esaoperations @NASAJPL @ILSpaceAgency @isro… https://t.co/l18ND32ghC',\n",
              " '@indiatvnews @NASA @isro This just might work, right? 🤞',\n",
              " '@isro kindly contact @Raahi_supergirl for next #MarsMission https://t.co/FTj6gthJnO https://t.co/pcBIYvevGw',\n",
              " \"Chandrayaan 2: Here's how NASA is helping ISRO in reviving Vikram Lander - The Financial Express… https://t.co/gPgzsg9TIR\",\n",
              " '@isro confidential you',\n",
              " 'Thank you @NASA for helping @isro scientists to establish communication with lander Vikram 🙏🙏',\n",
              " '@isro The fruits of hard work and the solution to the problem\\n Must get right late.\\n#ISROSpotsVikram\\n#Chandrayaan3\\n#MissionMangal',\n",
              " '@AmarUjalaNews @isro @curaffairs What a pathetic way of publicity....crap trp bhikhari media twist statements \"15 m… https://t.co/V4X3Zz6YAF',\n",
              " '@NarendraJERTHI @isro Source??',\n",
              " 'Government hospital- wrong SURGERY in pudukottai!\\nSpend Chennai metro rail phase 2 const. Money in developing gover… https://t.co/3txeIJOZFh',\n",
              " '@FuturisingIN @RPJaiswal8 @isro Oh my bad in your case its flying carpet 😂😂',\n",
              " \"@chaitannya @ARanganathan72 @isro Newton didn't discover gravity. Gravity as a physical phenomenon was known to hum… https://t.co/I1H3gPeNjn\",\n",
              " \"NASA's deep space network beaming radio frequency to Lander Vikram\\n\\n#NASA #ISRO @NASA @isro #VikramLander\\n\\nhttps://t.co/9ZBdjpir1J\",\n",
              " '@ARanganathan72 @isro Newton proposed a theory, gave equations, answered many unanswered questions. So Gravity is c… https://t.co/7CWI42FcY5',\n",
              " 'Dear @isro next time when you send rocket or moonlander please test it on #Gujarat #Road it has similar potholes an… https://t.co/RRCxGkEbC5',\n",
              " '@free_thinker If people have believed in it then they would have been real fools as @isro is an organization which… https://t.co/EPbRoUJuyD',\n",
              " '@TheOfficialSBI Dear SBI, Chandryan was finally found on moon and @isro trying their level to establish contact\\nThe… https://t.co/moqcSLjzVh',\n",
              " '@isro sir/mam update from lander',\n",
              " '@kakar_harsha @AdeelQu70956289 @Saurabhinbharat @peaceforchange @isro @neiltyson Pardon the unintentional numbering… https://t.co/PD5zTNkc5U',\n",
              " '@keveeyes @narendramodi @isro @swachhbharat And with Bear Grylls... dont forget... what a PM!',\n",
              " 'If India had a budget like NASA, ISRO will  launch whole Pakistan to space @isro @yogiputinnath @MajorPoonia @majorgauravarya',\n",
              " '@kakar_harsha @AdeelQu70956289 @Saurabhinbharat @peaceforchange @isro @neiltyson 1947\\nIndia got 16 weapons and ordi… https://t.co/SxZoIrmonr',\n",
              " '@shivaiyer2017 @M19Sen @dinesh_navada @BlackBallBoy1 @holatombola @isro Exactly... ppl should be given freedom to s… https://t.co/NqQodCvAuw',\n",
              " \"@rjvraina @AsiliKoshur @jytkoul @isro @PMOIndia @narendramodi_in That's sweet of you. Islam is my belief and… https://t.co/O1gKWpgUwR\",\n",
              " '@sonakshisinha @akshaykumar @vidya_balan @taapsee @IamKirtiKulhari @MenenNithya @Jaganshakti @foxstarhindi @isro Be… https://t.co/AHZBwwYGeO',\n",
              " '@kakar_harsha @AdeelQu70956289 @Saurabhinbharat @peaceforchange @isro @neiltyson Fauji Foundation, which provides j… https://t.co/PHSOfeh31R',\n",
              " '@isro Please post image of vikram taken by orbiter 🙏🙏',\n",
              " '@NASAGoddard @NASAHubble @NASA @NASAJPL \\n@isro\\nYou did what is good for mankind ...',\n",
              " \"@shahidansaris @AsiliKoshur @jytkoul @isro @PMOIndia @narendramodi_in i don't have problems in reading kalima at an… https://t.co/ezST15o5wa\",\n",
              " '@isro not only makes state of the art space rockets and satellites, they also create top of the class world inspiri… https://t.co/ThJJbRwDbJ',\n",
              " '@kakar_harsha @AdeelQu70956289 @Saurabhinbharat @peaceforchange @isro @neiltyson How about Indian Generals becoming… https://t.co/ZhQKeMZf9R',\n",
              " '@isro Chandrayaan-2 orbiter will map regions of the moon that have never seen sunlight https://t.co/1mx35oorm1',\n",
              " '@sonakshisinha @akshaykumar @vidya_balan @taapsee @IamKirtiKulhari @MenenNithya @Jaganshakti @foxstarhindi @isro… https://t.co/fgd3bz0sTN',\n",
              " '@isro must be hired this guy😋😋 https://t.co/ZIfFzx5qr6',\n",
              " '@kakar_harsha @AdeelQu70956289 @Saurabhinbharat @peaceforchange @isro @neiltyson Deae Gen Kakar,\\nFunny speech,\\nThe… https://t.co/XYiU5H8HRW',\n",
              " '@isro We all are proud of u ISRO for the hard work u have done',\n",
              " '@YadavDrAshish @chaitannya @ARanganathan72 @isro Einstein did not exactly \"debunk\" Newtonian gravity. That is not h… https://t.co/ggO9BcPafn',\n",
              " '@IrfanPathan @isro This is my poem sir please read my poem sir',\n",
              " '@Hindusthaani1 @Astro_Neel @isro @chandrayan2 But if they get the half knowledge regarding landing crash so how the… https://t.co/sQ95mqL4OJ',\n",
              " '@isro when will be Chanderyan 3rd launch?',\n",
              " 'JGD 🙏 RADHE KRISHNA \\U0001f970\\U0001f9d8🏻\\u200d♂️🤹\\U0001f9b8🏻\\u200d♂️🦁 🚔😉🌃 ⛈️for u on Indus river🕉️🌍🇮🇳🚀I m 🤝 @AjitKDoval_NSA @adgpi @IAF_MCC… https://t.co/orr8gbDrOQ',\n",
              " '@sonakshisinha @akshaykumar @vidya_balan @taapsee @IamKirtiKulhari @MenenNithya @Jaganshakti @foxstarhindi @isro Co… https://t.co/gt6XXbMdGa',\n",
              " \"@isro scientist reveals 3 crucial reasons why #VikramLanderFound could'nt land properly on moon, \\nread on-… https://t.co/Tk76iWwDfW\",\n",
              " \"@shrutiKaul7 @fawadchaudhry @isro One more I'll educated fool. https://t.co/D9ftTlfpQf\",\n",
              " \"@ARanganathan72 @isro Whatever, Einstein didn't.\",\n",
              " '@sonakshisinha @akshaykumar @vidya_balan @taapsee @IamKirtiKulhari @MenenNithya @Jaganshakti @foxstarhindi @isro Co… https://t.co/NvmxpJfi6j',\n",
              " 'Waiting for updates from @isro #VikramLanderFound #Chandrayan2',\n",
              " '@sonakshisinha @AKSHAYsABHI @akshaykumar @vidya_balan @taapsee @IamKirtiKulhari @MenenNithya @Jaganshakti… https://t.co/asVXfEGYI6',\n",
              " 'Judicious use of resources is an @isro speciality -- world’s cheapest solutions for space missions, from the compac… https://t.co/NKXjjNZKcI',\n",
              " '@sonakshisinha @akshaykumar @vidya_balan @taapsee @IamKirtiKulhari @MenenNithya @Jaganshakti @foxstarhindi @isro Wh… https://t.co/S375KT1pLo',\n",
              " '@sonakshisinha @akshaykumar @vidya_balan @taapsee @IamKirtiKulhari @MenenNithya @Jaganshakti @foxstarhindi @isro सो… https://t.co/Jqf8bcX51j',\n",
              " '@sonakshisinha @akshaykumar @vidya_balan @taapsee @IamKirtiKulhari @MenenNithya @Jaganshakti @foxstarhindi @isro Co… https://t.co/ykI67EHVIw',\n",
              " 'Just wondering how much of 300Cr will @akshaykumar donate to @isro who have him the story. @PMOIndia Mission Mangal… https://t.co/SKUekdlcyn',\n",
              " '@Astro_Neel @Hindusthaani1 @isro Okk but how u get to know these facts about @isro',\n",
              " '@shrutiKaul7 @fawadchaudhry @isro Those are bigger fools who listen see &amp; give concern to those type of Ill educate… https://t.co/3yqD07H0zy',\n",
              " '@sonakshisinha @akshaykumar @vidya_balan @taapsee @IamKirtiKulhari @MenenNithya @Jaganshakti @foxstarhindi @isro Ek… https://t.co/IcLYcA7YHs',\n",
              " '@sonakshisinha @akshaykumar @vidya_balan @taapsee @IamKirtiKulhari @MenenNithya @Jaganshakti @foxstarhindi @isro Co… https://t.co/iFc9g8E1j3',\n",
              " '@sonakshisinha @akshaykumar @vidya_balan @taapsee @IamKirtiKulhari @MenenNithya @Jaganshakti @foxstarhindi @isro Lo… https://t.co/UlSrJ1xaa6',\n",
              " '@sonakshisinha @akshaykumar @vidya_balan @taapsee @IamKirtiKulhari @MenenNithya @Jaganshakti @foxstarhindi @isro In… https://t.co/kGdzwIehP4',\n",
              " \"@YadavDrAshish @chaitannya @ARanganathan72 @isro That's not the point. Our story of science gives the impression th… https://t.co/0iAdlNfIw8\",\n",
              " '@isro request to isro  please develop a prithviyaan,  which would orbit india and send the pics of pothloes on the roads to government',\n",
              " '@isro @pallavabagla @coastal8049 any better way of tracking the lander other than simply gazing the Nasa Deep Space… https://t.co/MJ17ig2qAH',\n",
              " '@isro \\nKindly research according to this system.If you need any guidance then feel free to contact me .\\nSatyanaraya… https://t.co/5ruB63x4xE',\n",
              " 'Congratulations to our entire team @akshaykumar @vidya_balan @taapsee @IamKirtiKulhari @MenenNithya @Jaganshakti… https://t.co/iULzc2JOK1',\n",
              " '@AltsarkarF @ICMRDELHI @isro For many in this country their social thoughts m responsibilities are limited to their… https://t.co/dOyyfriYLL',\n",
              " '@isro Try to best always',\n",
              " \"@PrernaG26345926 @Hindusthaani1 @isro Don't believe these pictures out there about the lander. ISRO has denied conf… https://t.co/NtcAusjJGy\",\n",
              " '@boomlive_in @isro You are late, we knew this on the day images were shared on SM platform',\n",
              " '#FactCheck\\nNo, (.@ravishndtv) Ravish Kumar did not call.@isro Brahminical and anti-minority. Fake quote attributed… https://t.co/a8qa4B5vig',\n",
              " '@isro Hope is still alive',\n",
              " '@ManojKu37511344 @ASINGH6993 @ksb9024 @bultyy_jaglan @Dr_Uditraj @isro @Jey_AAR1 @Tiwari__jii @dineshsahu195… https://t.co/H896TVNzI8',\n",
              " '@ARanganathan72 @isro The chairman is right ! Even to send rockets on the moon, we need to use Aryabhata’s method o… https://t.co/TolbKTnk3F',\n",
              " 'NASA trying to communicate with Vikram lander ... To share images with ISRO\\n\\n@isro @NASA #ISRO #ISROweareproudofyou… https://t.co/XSJpXINoID',\n",
              " '#FactCheck\\n.@boomlive_in found that the images being shared were unrelated and not taken by the #Chandrayaan2 space… https://t.co/Kx1gbeLh5Q',\n",
              " \"@narendramodi As i said earlier 👆\\nCongis must've celebrated that day coz yesterday only #HDKumaraswamy said this fa… https://t.co/VtbSx5wrP0\",\n",
              " \"@GautamGambhir @narendramodi @isro It's so Harrison moment about Indian\",\n",
              " '.@boomlive_in found that the images being shared were unrelated and not taken by the #Chandrayaan2 spacecraft.… https://t.co/CffVcIpm4U',\n",
              " '@ARanganathan72 @isro Marxists and their slave intellectuals cult will say isro chief prays to tirupati so isro chiefs are not scientists.',\n",
              " '@MawraHocane OK Sorry. This is My Last Tweet under Your This Tweet #MawraHocane\\nSo prod on you @isro team😍We all Lo… https://t.co/SJ04K0Zrlj',\n",
              " 'Another bold statement by Porki Science Minister @fawadchaudhry .............😮😮😮😮\\n\\nWhen the moon🌙🌙 is easily seen o… https://t.co/RFPuwWklUZ',\n",
              " '@DrKumarVishwas @PMOIndia @isro @narendramodi jai how',\n",
              " 'Dear @isro please update something about #VikramLander I am checking your twitter account every hour since last few days...🙏😍',\n",
              " '@VinuVeda @isro @hd_kumaraswamy Stupidity of Destruction 😡',\n",
              " 'Loved it... @isro are you listening? https://t.co/CRmZ2XRjsq',\n",
              " \"@adityanarayanh8 @isro No @isro is wrong. All make mistakes. We R aware of death of 7 astronauts because of NASA's… https://t.co/8DfMhROruW\",\n",
              " '@DRDO_India @nawegate @SpokespersonMoD @DefenceMinIndia @DrSubhashMoS @isro HOW CAN NUCLEAR FUSION WITH HELIUM 3 GE… https://t.co/c3E0N8dqzi',\n",
              " \"@TeamYouTube @YouTubeIndia  Kindly look at this channel! this is @isro's  Official @YouTube Channel!\",\n",
              " '@isro #VikramLander #Chandrayaan2 Some Company in Name of #NoviDigital Copyright Struck your @YouTube Official… https://t.co/FfJ8YcJgzN',\n",
              " '@DRDO_India @nawegate @SpokespersonMoD @DefenceMinIndia @DrSubhashMoS WITHOUT TELLING NASA , @isro MUST DUPLICATE (… https://t.co/wSGLG982Gl',\n",
              " 'Where, I ask, are the Science Leaders in India, the University Professors, the Directors of bodies like CSIR and… https://t.co/Y8jYJa83Aw',\n",
              " '@isro ganapatiji please help isro in establishing communication with vikram we will give you modaks and kudumulu as prasad pls help',\n",
              " '@chaitannya @ARanganathan72 @isro Can u write that equation u r attributing to Newton??',\n",
              " \"Pakistan's Space Agency SUPARCO was established on 14 December 1961\\n&amp; our India's space agency @isro was establishe… https://t.co/xhM2VUL5Lk\",\n",
              " '@isro and @NASA should hire this guy for their next mission, He can go on Mars by putting cows dung on his body😂😂😂 https://t.co/d5lApq0b67',\n",
              " '@isro Matter of great proud. #SALUTES https://t.co/oyxu5MIz5l',\n",
              " '@zeeshansiddiq @zartajgulwazir @isro and @NASA should hire this guy for their next mission, He can go on Mars by pu… https://t.co/z2SkAWPKco',\n",
              " '@zartajgulwazir @isro and @NASA should hire this guy for their next mission, He can go on Mars by putting cows dung on his body😂😂😂',\n",
              " \"@arshiamaheen @lifewithaheart @isro @NASA @Sameraofficial1 @fawadchaudhry She won't realize cox she is addicted to… https://t.co/2u9tvqAy8x\",\n",
              " '@nascom1 @NASA @isro @esa Sir, you should know @isro  is how important to other agencies like @nasa  to take payloa… https://t.co/V9xeWyJCgO',\n",
              " '@Wieblebub_Knowl @wieblebub @isro @nasa are preparing to work together ,lets see the harmony of both and explore the gigantic universe',\n",
              " '@isro All 1.3 billions of indian people proud on isro',\n",
              " 'Will our Government ask sorry to poor people for DEMONITAZION and unnecessary Chennai metro rail phase 2 constructi… https://t.co/SZdTWfG7AD',\n",
              " '@Wieblebub_Knowl @wieblebub i think u know @isro ,its recently launched #Chandrayaan2 or moon lander ,we got succee… https://t.co/EuMXtjFRnx',\n",
              " '@ArvindC86626883 @isro Proud on our scientists',\n",
              " '@ArvindC86626883 @isro Right✔',\n",
              " '@NASA and @isro are you working together???😍😍😍 https://t.co/g59CNs7XRB',\n",
              " '@331Nadeem @RPJaiswal8 @isro love you bro',\n",
              " \"@MUKUNDBAGARIA @NASA @isro @ANI @narendramodi @SpaceX @TarekFatah @fawadchaudhry @RahulGandhi takes a planet. \\nit's… https://t.co/9MkSIj3rSr\",\n",
              " '@nikhilsahay2 @cgbassa @NASAJPL @isro @kvsankar @radiotelescoop Coz by the next ping, it would have been upside dow… https://t.co/BMB2767yAW',\n",
              " \"@nikhilsahay2 @cgbassa @NASAJPL @isro @kvsankar @radiotelescoop I don't think vikram reoriented itself. It was spin… https://t.co/aikfowRSfu\",\n",
              " '@Bhushanadhau1 @akshaykumar @taapsee @vidya_balan @IamKirtiKulhari @sonakshisinha @MenenNithya @foxstarhindi… https://t.co/bqrZOnJan9',\n",
              " '@urstrulyMahesh @isro Congrats all',\n",
              " '@aeronett @coastal8049 Only @isro know what can be considered normal.',\n",
              " '@coastal8049 So is it done then ?\\n Even with that slime margin can we reactivate and get work done from (tilted)lander as planned ? @isro',\n",
              " '@vrikshit @PMOIndia @UNinIndia @GargiRawat @GautamGambhir @ArvindKejriwal @deespeak @mayur_rx @isro @ReallySwara… https://t.co/f8qNYU52qc',\n",
              " \"@isro \\n\\nDear Sir\\nit's just a thought... \\ncan we use car airbag model and expansion chemical as a PLAN-B safety cove… https://t.co/Ni1R5Rfna8\",\n",
              " '@Sujay__Raj @isro Hope so \\nBut what hearing from isro that they have mentioned that it had a hard landing but still waiting for hope',\n",
              " '@isro You guys should tweet at least regulary, not only about the moon rover #Chandrayaan2..... \\nThere is the other… https://t.co/UIDs2CGvEm',\n",
              " \"We are proud of @isro n it's team but not of these unscientific activities. Pardon me Sir but it's facts. https://t.co/0bsk5Ls6Sl\",\n",
              " '@MsKajalAggarwal @isro Nice',\n",
              " '22nd July 2019 marks a historic day in Indian history as #ISRO launched one of a kind space program, Chandrayan 2.… https://t.co/5VkT6eOyj0',\n",
              " '@cashkumark @ARanganathan72 @isro Russians are good at science and deserved credit. We Hindus are ashamed of oursel… https://t.co/1vKvaQQp7U',\n",
              " '@narendramodi @isro Congratulations',\n",
              " '@isro Well done',\n",
              " 'If @isro successfully establishes communication with the lander then it will be able to understand what went wrong… https://t.co/CcW4bXO3Ys',\n",
              " 'Proud of you @isro,@narendramodi https://t.co/Wd3CmQailX',\n",
              " 'Not Only #ISRO, @NASA also Trying to Contact With Lander Vikram !\\n\\n@isro @ANI @narendramodi @SpaceX @TarekFatah… https://t.co/DxizMOqWO2',\n",
              " '@isro All the best @isro',\n",
              " '@mnkrishna @isro Our ISRO Team is full of Super Heroes.\\n👍👏🙏',\n",
              " '@upma23 The next Vikram lander should be cylindrical ball type with the ability to roll itself. So even if the land… https://t.co/H2ZPgNhL28',\n",
              " '@RAC7R @ARanganathan72 @isro Aristotle did it first by this logic \\nNewton is credited for establishing a formal rel… https://t.co/uZZ6PQBcKf',\n",
              " '@Abhiind108 @Dr_Uditraj @isro Ek number',\n",
              " 'Never underestimate the power of #ISRO\\n#MissionMangal \\n#Mars2020 \\n@isro @NASA @NASASolarSystem @NASAJPL @PMOIndia… https://t.co/JIUrnvf5KQ',\n",
              " '@NASA @isro Dear @nasa can u please send hello messages to most wanted #Daudibrahim in #pakistan he is also not traceable...',\n",
              " \"On Monday, @NASA will send their #LunarReconaissanceOrbiter to the #Moon to locate @isro's #VikramLander \\n\\nREAD MOR… https://t.co/o4fb6bfs8e\",\n",
              " 'Kindly refer to our isro chief Dr sivan sir @isro . A message from the 6th standard girl about the chandrayaan2. https://t.co/knV2yKNThd',\n",
              " '@sant_omkar @Harshukla4 @khushikadri @NASA @isro I think you drink👇😂😂\\n . .  #CowColaEnegy',\n",
              " '@NASA helping @isro to find #Vikramlander and make a contact with it. This is really a very good gesture from NASA.… https://t.co/MVmGsvLVZt',\n",
              " '@Anjan13522746 @SwamiGeetika @TajinderBagga @isro Mr. IT cell. You are the real tukde tukde gang not NDTV. Atleast… https://t.co/KN2lH6ZMbg',\n",
              " '@Srigans911 @SwamiGeetika @TajinderBagga @isro Knock knock. Anybody in there? Do you read real news? You surely are out of your mind. 😁',\n",
              " \"@M19Sen @shivaiyer2017 @BlackBallBoy1 @holatombola @isro Okay. Be in your world of imagination. We don't disturb you .\",\n",
              " \"@M19Sen @shivaiyer2017 @BlackBallBoy1 @holatombola @isro Expect others to speak Hindi??\\nWe don't expect. Don't put words in our mouths..\",\n",
              " '@travel7soul @isro Increment cut to be correct.',\n",
              " \"@isro   \\n\\n#isroMahan\\nAapko Success Jarur milegi .\\nVote for ISRO THAT MY TWITTER POLL OK \\n, ,,, LET'S START\",\n",
              " '@isro @NASA @CanberraDSN @nascom1 \\n\\nKudos to ISRO and NASA’s scientists, they are still trying to contact the Vikra… https://t.co/K7cWBpGbhL',\n",
              " '@M19Sen @dinesh_navada @BlackBallBoy1 @holatombola @isro Ppl should be permitted to speak and converse in the langu… https://t.co/EZtW7A7By9',\n",
              " '@M19Sen @dinesh_navada @BlackBallBoy1 @holatombola @isro So what?  Sugar is sugar whether you call it sugar or shakara or shakkar.',\n",
              " \"To @narendramodi Ji, #MannKiBaat\\n1. Well, if you could explain to us how @nsitharaman Ji blamed us when we're unemp… https://t.co/fNM1APjrC4\",\n",
              " '@ARanganathan72 @isro If you go in temple, you will see Navgrah with Sun in centre. We do it from 1000s of years. M… https://t.co/ImUho4eiVk',\n",
              " '@narendramodi  @isro  As like NASA we should make a page something like this for our country people to involve and… https://t.co/FF85PgK8V7',\n",
              " 'Officials of the Department of Water Resources said that the #Kolardam in #Bhopal has spilled after three years. Ea… https://t.co/FlOOD28Pp8',\n",
              " '@isro any updates?',\n",
              " '@shivaiyer2017 @dinesh_navada @BlackBallBoy1 @holatombola @isro The same dialogue used by odhisa people during 1960… https://t.co/apj7Qg2Ca6',\n",
              " \"@isro Yes  It's true\",\n",
              " '@ARanganathan72 @isro It’s not a question of knowing Science. How Nair knows that Aryabhattaknew of gravity. Which science book he read??',\n",
              " '@shivaiyer2017 @dinesh_navada @BlackBallBoy1 @holatombola @isro Hindi was not majority at the time of 1930s when Co… https://t.co/aVk0qH5cVU',\n",
              " '@dinesh_navada @shivaiyer2017 @BlackBallBoy1 @holatombola @isro But the reality is Kannadigas expect others to speak Hindi.',\n",
              " '@himat35261317 @isro We are proud of India',\n",
              " '🙏🙏this moment when the whole Indian feel proud .\\n#thanksteammissionmangal\\n@akshaykumar and Team🙏\\n@isro our pride https://t.co/gMAowQFrVb',\n",
              " '@Patriot76836616 @Ibne_Sena @peaceforchange @isro Tea, Breakfast, Lunch, Dinner, Bed, Pillow and specifically \"Pork… https://t.co/cseZJlvrYi',\n",
              " '@M19Sen @dinesh_navada @BlackBallBoy1 @holatombola @isro I speak Tamil and hindi.  Nothing has happened to my Tamil.',\n",
              " '@isro Sir please respond what is going on 🙏🙏🙏',\n",
              " '@leishembaa @isro Poor #Einstein #Newton need to come back as reincarnation and join politics just to prove themselves again.',\n",
              " '@M19Sen @dinesh_navada @BlackBallBoy1 @holatombola @isro Learning any language is and learning the language spoken… https://t.co/oVsMgHBm50',\n",
              " '@dinesh_navada @shivaiyer2017 @BlackBallBoy1 @holatombola @isro In this era, learning Hindi is a sin.',\n",
              " 'My letter to #VikramLander!! With a copy to Prime Minister @narendramodi ji, @isro chief #KSivan ji, all the scient… https://t.co/RPd0OcCM9z',\n",
              " '@shivaiyer2017 @dinesh_navada @BlackBallBoy1 @holatombola @isro Learning Hindi is knowledge !!!',\n",
              " \"@isro what's new update about Chandrayaan 2\",\n",
              " '@dnu1 @isro Have you ever asked your daughters about love , Romance and Bfs? U will be surprised to know their know… https://t.co/fGvXcRAx2F',\n",
              " '@isro Please inform the current situation',\n",
              " '@Ryan_N_Watkins @gareebscientist @LRO_NASA @isro This shows that really everyone knows that ISRO is a great organis… https://t.co/cbdbT6iMrW',\n",
              " 'Feel It Hurts !\\n@DrKumarVishwas @narendramodi @isro https://t.co/ftVIxtYLxM',\n",
              " '@isro You will get touch in with vikram lander September 19',\n",
              " '@isro We are proud of our scientists...',\n",
              " '@isro you will get in touch with vikram lander September 19',\n",
              " 'Feel It Hurts !\\n@DrKumarVishwas\\n \\n@narendramodi\\n \\n@isro',\n",
              " '@isro You well get in touch with vikram lander September 19',\n",
              " '@umanathtrip @centerofright @dhume but how internationalisation helps ?  who wud bother also if india was doing gre… https://t.co/DFCV97sgMv',\n",
              " '@isro You will get in touch with Vikram lander September 19',\n",
              " '@narendramodi @isro I am proud to be an Indian...',\n",
              " '@joybhattacharj Thank you for hitting the nail in the head. We hv alway made “money excuse” when we lose out on mny… https://t.co/iTDm2JJyvj',\n",
              " '@hotnicprav @SwamiGeetika @TajinderBagga @isro Are you out of mind ?',\n",
              " '@vrikshit @PMOIndia @UNinIndia @GargiRawat @GautamGambhir @ArvindKejriwal @deespeak @mayur_rx @isro @ReallySwara… https://t.co/KzpZRScuDD',\n",
              " '@SwarajyaMag @hd_kumaraswamy I think @isro forgot to call HD Reanna with his lucky lemon🍋 for all luck😉😁😁😂.@BJP4Karnataka',\n",
              " '@isro Give us some update on Vikram Lander please',\n",
              " '@isro sir, i request to u pls do some oma or pooja and pray to god, as u this is one of the indian culture for succ… https://t.co/glixHZlJ6c',\n",
              " '@isro YouTube: https://t.co/2Bl9AG3lZl']"
            ]
          },
          "metadata": {
            "tags": []
          },
          "execution_count": 125
        }
      ]
    },
    {
      "cell_type": "code",
      "metadata": {
        "id": "wuuxZ_POt2a1",
        "colab_type": "code",
        "colab": {
          "base_uri": "https://localhost:8080/",
          "height": 33
        },
        "outputId": "220fec7b-976c-48a7-d9bd-507498e91929"
      },
      "source": [
        "# find the total number of tweets fetched\n",
        "len(tweets_text)"
      ],
      "execution_count": 126,
      "outputs": [
        {
          "output_type": "execute_result",
          "data": {
            "text/plain": [
              "295"
            ]
          },
          "metadata": {
            "tags": []
          },
          "execution_count": 126
        }
      ]
    },
    {
      "cell_type": "code",
      "metadata": {
        "id": "uR7H0woWoCTZ",
        "colab_type": "code",
        "colab": {
          "base_uri": "https://localhost:8080/",
          "height": 50
        },
        "outputId": "f864f512-12b6-42a2-e362-d7663f82aca4"
      },
      "source": [
        "# pull a particular Tweet\n",
        "print(tweets_text[0])\n",
        "print(tweets_text[7])"
      ],
      "execution_count": 127,
      "outputs": [
        {
          "output_type": "stream",
          "text": [
            "@BangaloreMirror @NASA @isro Prayer of crores of Indians will come up shortly.\n",
            "@TweetsOfVipin @NASA @isro @ANI @IndianExpress @narendramodi This screen shot was probably during the time when lan… https://t.co/q6nG4bQ2fu\n"
          ],
          "name": "stdout"
        }
      ]
    },
    {
      "cell_type": "code",
      "metadata": {
        "id": "QTNbOLOlp0Dg",
        "colab_type": "code",
        "colab": {
          "base_uri": "https://localhost:8080/",
          "height": 180
        },
        "outputId": "f35a8f5e-8b63-4da1-e73a-3bd3e4f899ba"
      },
      "source": [
        "# pull Tweets by search words\n",
        "tweets = tw.Cursor(api.search, q='hdfc card offers-filter:retweets', lang=\"en\", since = '2019-04-01').items(10)\n",
        "tweets_text = [tweet.text for tweet in tweets]\n",
        "tweets_text"
      ],
      "execution_count": 128,
      "outputs": [
        {
          "output_type": "execute_result",
          "data": {
            "text/plain": [
              "['Exclusive Offer for HDFC Card Holders!\\nOrder #Coolwinks Eyeglasses &amp; Sunglasses &amp; get Extra 50% Off* when you pay u… https://t.co/Sn0YepPbjz',\n",
              " '@talktodebu Hi, we wish to inform that, HDFC Bank offers several promotional offers such as Smart EMI, Insta Jumbo… https://t.co/aj2rGRR0ru',\n",
              " 'Launch offers include no-cost EMIs up to 12 months. HDFC Bank Credit and Debit card users can avail offers up to Rs… https://t.co/5VtRNZ3Kvh',\n",
              " '@HDFC_Bank i am using Hdfc credit card, i applied for this card 3 yrs back till now there is no such offers provide… https://t.co/Es7yVF7fmz',\n",
              " '@Flipkart Why axis bank? How many people have axix card? At least hdfc or sbi or even icici debit card..y icici cre… https://t.co/ZyPrz1hDxT',\n",
              " 'BookMyShow : Get 15% discount up to INR 100 for Movies and Non-Movies\\n\\nThis offer can be availed twice a month\\xa0and… https://t.co/5pu82Nx8C9',\n",
              " \"A new website, a new app, more offers for credit card holders...what's happening at HDFC Bank? Too much competition?\",\n",
              " '@Flipkart @flipkartsupport \\n#TheBigBillionDays Sale \\nWhy not ICICI @ICICIBank  Debit card are coming under this off… https://t.co/PIq6BNXlH0',\n",
              " 'HDFC Credit Card offer: Get Bonus Reward Points as per communication on achieving spend target as mentioned in comm… https://t.co/m3umJM0GAm',\n",
              " 'HDFC Money Back Credit Card: Features, Benefits, Apply, offers https://t.co/RY9RAWwzc2 #HDFC #MoneyBack #CeditCard']"
            ]
          },
          "metadata": {
            "tags": []
          },
          "execution_count": 128
        }
      ]
    },
    {
      "cell_type": "code",
      "metadata": {
        "id": "vlYTEtr1nWAO",
        "colab_type": "code",
        "colab": {
          "base_uri": "https://localhost:8080/",
          "height": 180
        },
        "outputId": "1c190bf1-a232-4cde-a2ac-16de8a989e53"
      },
      "source": [
        "# pull Tweets by hashtags\n",
        "tweets = tw.Cursor(api.search, q = '#miband4-filter:retweets', lang=\"en\", since='2019-04-01').items(10)\n",
        "tweets_text = [tweet.text for tweet in tweets]\n",
        "tweets_text"
      ],
      "execution_count": 129,
      "outputs": [
        {
          "output_type": "execute_result",
          "data": {
            "text/plain": [
              "[\"#MiBand4 Killer: #Lenovo Carme Smartwatch is here, check out who's better!\\n\\n#DCTech \\nhttps://t.co/h7swx5M0g2\",\n",
              " 'Is it a yes or no for the #MiBand4? Know now!\\n\\n#DCTech\\nhttps://t.co/1PLfhwYV1U',\n",
              " '#miband4 when is going to lunch',\n",
              " '@BrochureLive Retweet Done ☑️\\n#ContestAlert\\n#Winners #win #AmazonGiftCard #MiBand4 #mifan #xiaomiindia #Xiaomi… https://t.co/cMRwqvCLGo',\n",
              " '#Xiaomi #MiBand4: 10 reasons why Mi Band 4 seems like a great upgrade over Mi Band 3 https://t.co/zflvrslv6f… https://t.co/Rw4eZHDYg1',\n",
              " '@BrochureLive Retweet done ✅✅\\n\\n#ContestAlert #Winners #win #AmazonGiftCard #MiBand4 #mifan #xiaomiindia #Xiaomi… https://t.co/NpkJ5EdFQ8',\n",
              " 'Mi Band 4 India: Expected price, specifications and all you need to know \\n#MiBand4\\nhttps://t.co/ANz6KWmUOS',\n",
              " 'Watch the latest video, enter the giveaway to win #MiBand4 https://t.co/aIotFdAuSj 💥💥💥✌️ https://t.co/jI7a6VTLHE',\n",
              " 'Huami and Mi are among the most popular wearable brands that never fail to fascinate users with attractive features… https://t.co/YTRYOirdwN',\n",
              " \"My 11 yrs Son wanna fitness band and he saw many videos but finalised @XiaomiIndia's Mi Band 4. Luckily available f… https://t.co/faJe4LOgD9\"]"
            ]
          },
          "metadata": {
            "tags": []
          },
          "execution_count": 129
        }
      ]
    },
    {
      "cell_type": "code",
      "metadata": {
        "id": "VFLIBIoVmm2N",
        "colab_type": "code",
        "colab": {
          "base_uri": "https://localhost:8080/",
          "height": 1000
        },
        "outputId": "86e062e4-3bd6-46f9-f1c8-75789c9b2272"
      },
      "source": [
        "# find user and location info\n",
        "tweets = tw.Cursor(api.search, q='#iphone-filter:retweets', lang=\"en\", since='2019-04-01').items(1000)\n",
        "users = [[tweet.user.screen_name, tweet.user.location] for tweet in tweets]\n",
        "users\n",
        "location = pd.DataFrame(data=users, columns=['Screen_Name', \"Location\"])\n",
        "location"
      ],
      "execution_count": 134,
      "outputs": [
        {
          "output_type": "execute_result",
          "data": {
            "text/html": [
              "<div>\n",
              "<style scoped>\n",
              "    .dataframe tbody tr th:only-of-type {\n",
              "        vertical-align: middle;\n",
              "    }\n",
              "\n",
              "    .dataframe tbody tr th {\n",
              "        vertical-align: top;\n",
              "    }\n",
              "\n",
              "    .dataframe thead th {\n",
              "        text-align: right;\n",
              "    }\n",
              "</style>\n",
              "<table border=\"1\" class=\"dataframe\">\n",
              "  <thead>\n",
              "    <tr style=\"text-align: right;\">\n",
              "      <th></th>\n",
              "      <th>Screen_Name</th>\n",
              "      <th>Location</th>\n",
              "    </tr>\n",
              "  </thead>\n",
              "  <tbody>\n",
              "    <tr>\n",
              "      <th>0</th>\n",
              "      <td>DigitalDealerCo</td>\n",
              "      <td></td>\n",
              "    </tr>\n",
              "    <tr>\n",
              "      <th>1</th>\n",
              "      <td>vernesgo</td>\n",
              "      <td>Manila</td>\n",
              "    </tr>\n",
              "    <tr>\n",
              "      <th>2</th>\n",
              "      <td>SpamMagnetBot</td>\n",
              "      <td></td>\n",
              "    </tr>\n",
              "    <tr>\n",
              "      <th>3</th>\n",
              "      <td>AJavedSoofi</td>\n",
              "      <td>Karachi</td>\n",
              "    </tr>\n",
              "    <tr>\n",
              "      <th>4</th>\n",
              "      <td>empire_cheats</td>\n",
              "      <td></td>\n",
              "    </tr>\n",
              "    <tr>\n",
              "      <th>5</th>\n",
              "      <td>dynamicportrai1</td>\n",
              "      <td>Ticino, Switzerland</td>\n",
              "    </tr>\n",
              "    <tr>\n",
              "      <th>6</th>\n",
              "      <td>JRajharan</td>\n",
              "      <td>Tamil Nadu, India</td>\n",
              "    </tr>\n",
              "    <tr>\n",
              "      <th>7</th>\n",
              "      <td>The_Proc</td>\n",
              "      <td>Amsterdam, North Holland</td>\n",
              "    </tr>\n",
              "    <tr>\n",
              "      <th>8</th>\n",
              "      <td>Ulrich_S_Design</td>\n",
              "      <td>Cape Town, South Africa</td>\n",
              "    </tr>\n",
              "    <tr>\n",
              "      <th>9</th>\n",
              "      <td>radim_kacer</td>\n",
              "      <td></td>\n",
              "    </tr>\n",
              "    <tr>\n",
              "      <th>10</th>\n",
              "      <td>wilmslowlaptops</td>\n",
              "      <td>Wilmslow 01625 251053</td>\n",
              "    </tr>\n",
              "    <tr>\n",
              "      <th>11</th>\n",
              "      <td>Luffyonepiece01</td>\n",
              "      <td></td>\n",
              "    </tr>\n",
              "    <tr>\n",
              "      <th>12</th>\n",
              "      <td>NusTrivia</td>\n",
              "      <td>Vancouver, British Columbia</td>\n",
              "    </tr>\n",
              "    <tr>\n",
              "      <th>13</th>\n",
              "      <td>jirotomoton</td>\n",
              "      <td></td>\n",
              "    </tr>\n",
              "    <tr>\n",
              "      <th>14</th>\n",
              "      <td>acumecltd</td>\n",
              "      <td></td>\n",
              "    </tr>\n",
              "    <tr>\n",
              "      <th>15</th>\n",
              "      <td>StephenFenech</td>\n",
              "      <td>Sydney, Australia</td>\n",
              "    </tr>\n",
              "    <tr>\n",
              "      <th>16</th>\n",
              "      <td>acumecltd</td>\n",
              "      <td></td>\n",
              "    </tr>\n",
              "    <tr>\n",
              "      <th>17</th>\n",
              "      <td>acumecltd</td>\n",
              "      <td></td>\n",
              "    </tr>\n",
              "    <tr>\n",
              "      <th>18</th>\n",
              "      <td>acumecltd</td>\n",
              "      <td></td>\n",
              "    </tr>\n",
              "    <tr>\n",
              "      <th>19</th>\n",
              "      <td>acumecltd</td>\n",
              "      <td></td>\n",
              "    </tr>\n",
              "    <tr>\n",
              "      <th>20</th>\n",
              "      <td>acumecltd</td>\n",
              "      <td></td>\n",
              "    </tr>\n",
              "    <tr>\n",
              "      <th>21</th>\n",
              "      <td>acumecltd</td>\n",
              "      <td></td>\n",
              "    </tr>\n",
              "    <tr>\n",
              "      <th>22</th>\n",
              "      <td>acumecltd</td>\n",
              "      <td></td>\n",
              "    </tr>\n",
              "    <tr>\n",
              "      <th>23</th>\n",
              "      <td>acumecltd</td>\n",
              "      <td></td>\n",
              "    </tr>\n",
              "    <tr>\n",
              "      <th>24</th>\n",
              "      <td>acumecltd</td>\n",
              "      <td></td>\n",
              "    </tr>\n",
              "    <tr>\n",
              "      <th>25</th>\n",
              "      <td>acumecltd</td>\n",
              "      <td></td>\n",
              "    </tr>\n",
              "    <tr>\n",
              "      <th>26</th>\n",
              "      <td>acumecltd</td>\n",
              "      <td></td>\n",
              "    </tr>\n",
              "    <tr>\n",
              "      <th>27</th>\n",
              "      <td>Sunleil</td>\n",
              "      <td></td>\n",
              "    </tr>\n",
              "    <tr>\n",
              "      <th>28</th>\n",
              "      <td>acumecltd</td>\n",
              "      <td></td>\n",
              "    </tr>\n",
              "    <tr>\n",
              "      <th>29</th>\n",
              "      <td>acumecltd</td>\n",
              "      <td></td>\n",
              "    </tr>\n",
              "    <tr>\n",
              "      <th>...</th>\n",
              "      <td>...</td>\n",
              "      <td>...</td>\n",
              "    </tr>\n",
              "    <tr>\n",
              "      <th>970</th>\n",
              "      <td>pabloisyou</td>\n",
              "      <td>Burnaby, British Columbia</td>\n",
              "    </tr>\n",
              "    <tr>\n",
              "      <th>971</th>\n",
              "      <td>PBRTweets</td>\n",
              "      <td></td>\n",
              "    </tr>\n",
              "    <tr>\n",
              "      <th>972</th>\n",
              "      <td>pcexpander</td>\n",
              "      <td>Palermo, Sicilia</td>\n",
              "    </tr>\n",
              "    <tr>\n",
              "      <th>973</th>\n",
              "      <td>iPodHacks142</td>\n",
              "      <td>United Kingdom</td>\n",
              "    </tr>\n",
              "    <tr>\n",
              "      <th>974</th>\n",
              "      <td>aapldotio</td>\n",
              "      <td></td>\n",
              "    </tr>\n",
              "    <tr>\n",
              "      <th>975</th>\n",
              "      <td>scanems</td>\n",
              "      <td>Dublin, Ireland 🇮🇪</td>\n",
              "    </tr>\n",
              "    <tr>\n",
              "      <th>976</th>\n",
              "      <td>andreasc</td>\n",
              "      <td>Geneva</td>\n",
              "    </tr>\n",
              "    <tr>\n",
              "      <th>977</th>\n",
              "      <td>JetCityNinja</td>\n",
              "      <td>seattle</td>\n",
              "    </tr>\n",
              "    <tr>\n",
              "      <th>978</th>\n",
              "      <td>bitcoinconnect</td>\n",
              "      <td></td>\n",
              "    </tr>\n",
              "    <tr>\n",
              "      <th>979</th>\n",
              "      <td>NusTrivia</td>\n",
              "      <td>Vancouver, British Columbia</td>\n",
              "    </tr>\n",
              "    <tr>\n",
              "      <th>980</th>\n",
              "      <td>G808Photos</td>\n",
              "      <td>Hawaii, USA</td>\n",
              "    </tr>\n",
              "    <tr>\n",
              "      <th>981</th>\n",
              "      <td>bondswell_com</td>\n",
              "      <td>IG/Vine/Tumblr: bondswell</td>\n",
              "    </tr>\n",
              "    <tr>\n",
              "      <th>982</th>\n",
              "      <td>TechInRL</td>\n",
              "      <td>Canada</td>\n",
              "    </tr>\n",
              "    <tr>\n",
              "      <th>983</th>\n",
              "      <td>Whitestone_DE</td>\n",
              "      <td>Berlin, Germany</td>\n",
              "    </tr>\n",
              "    <tr>\n",
              "      <th>984</th>\n",
              "      <td>NusTrivia</td>\n",
              "      <td>Vancouver, British Columbia</td>\n",
              "    </tr>\n",
              "    <tr>\n",
              "      <th>985</th>\n",
              "      <td>TonyAnto1</td>\n",
              "      <td>Berlin</td>\n",
              "    </tr>\n",
              "    <tr>\n",
              "      <th>986</th>\n",
              "      <td>Webimprints</td>\n",
              "      <td>Pennsylvania, USA</td>\n",
              "    </tr>\n",
              "    <tr>\n",
              "      <th>987</th>\n",
              "      <td>DomainFQ</td>\n",
              "      <td></td>\n",
              "    </tr>\n",
              "    <tr>\n",
              "      <th>988</th>\n",
              "      <td>Swati_THN</td>\n",
              "      <td>Planet Earth</td>\n",
              "    </tr>\n",
              "    <tr>\n",
              "      <th>989</th>\n",
              "      <td>ArgentArts</td>\n",
              "      <td></td>\n",
              "    </tr>\n",
              "    <tr>\n",
              "      <th>990</th>\n",
              "      <td>bitcoinconnect</td>\n",
              "      <td></td>\n",
              "    </tr>\n",
              "    <tr>\n",
              "      <th>991</th>\n",
              "      <td>MARTIN_CASAS</td>\n",
              "      <td>St. Louis, Mo</td>\n",
              "    </tr>\n",
              "    <tr>\n",
              "      <th>992</th>\n",
              "      <td>pj316</td>\n",
              "      <td>Chester</td>\n",
              "    </tr>\n",
              "    <tr>\n",
              "      <th>993</th>\n",
              "      <td>PotatoTechi</td>\n",
              "      <td></td>\n",
              "    </tr>\n",
              "    <tr>\n",
              "      <th>994</th>\n",
              "      <td>cloudsilicon</td>\n",
              "      <td>Toronto, Ontario</td>\n",
              "    </tr>\n",
              "    <tr>\n",
              "      <th>995</th>\n",
              "      <td>DigitalDealerCo</td>\n",
              "      <td></td>\n",
              "    </tr>\n",
              "    <tr>\n",
              "      <th>996</th>\n",
              "      <td>UltraLogic_Ent</td>\n",
              "      <td>14 Oremeji Street Ikeja Lagos</td>\n",
              "    </tr>\n",
              "    <tr>\n",
              "      <th>997</th>\n",
              "      <td>bitcoinconnect</td>\n",
              "      <td></td>\n",
              "    </tr>\n",
              "    <tr>\n",
              "      <th>998</th>\n",
              "      <td>trip_elix</td>\n",
              "      <td>United States</td>\n",
              "    </tr>\n",
              "    <tr>\n",
              "      <th>999</th>\n",
              "      <td>Sunleil</td>\n",
              "      <td></td>\n",
              "    </tr>\n",
              "  </tbody>\n",
              "</table>\n",
              "<p>1000 rows × 2 columns</p>\n",
              "</div>"
            ],
            "text/plain": [
              "         Screen_Name                       Location\n",
              "0    DigitalDealerCo                               \n",
              "1           vernesgo                         Manila\n",
              "2      SpamMagnetBot                               \n",
              "3        AJavedSoofi                        Karachi\n",
              "4      empire_cheats                               \n",
              "5    dynamicportrai1            Ticino, Switzerland\n",
              "6          JRajharan              Tamil Nadu, India\n",
              "7           The_Proc       Amsterdam, North Holland\n",
              "8    Ulrich_S_Design        Cape Town, South Africa\n",
              "9        radim_kacer                               \n",
              "10   wilmslowlaptops          Wilmslow 01625 251053\n",
              "11   Luffyonepiece01                               \n",
              "12         NusTrivia    Vancouver, British Columbia\n",
              "13       jirotomoton                               \n",
              "14         acumecltd                               \n",
              "15     StephenFenech              Sydney, Australia\n",
              "16         acumecltd                               \n",
              "17         acumecltd                               \n",
              "18         acumecltd                               \n",
              "19         acumecltd                               \n",
              "20         acumecltd                               \n",
              "21         acumecltd                               \n",
              "22         acumecltd                               \n",
              "23         acumecltd                               \n",
              "24         acumecltd                               \n",
              "25         acumecltd                               \n",
              "26         acumecltd                               \n",
              "27           Sunleil                               \n",
              "28         acumecltd                               \n",
              "29         acumecltd                               \n",
              "..               ...                            ...\n",
              "970       pabloisyou      Burnaby, British Columbia\n",
              "971        PBRTweets                               \n",
              "972       pcexpander               Palermo, Sicilia\n",
              "973     iPodHacks142                 United Kingdom\n",
              "974        aapldotio                               \n",
              "975          scanems             Dublin, Ireland 🇮🇪\n",
              "976         andreasc                         Geneva\n",
              "977     JetCityNinja                        seattle\n",
              "978   bitcoinconnect                               \n",
              "979        NusTrivia    Vancouver, British Columbia\n",
              "980       G808Photos                    Hawaii, USA\n",
              "981    bondswell_com      IG/Vine/Tumblr: bondswell\n",
              "982         TechInRL                         Canada\n",
              "983    Whitestone_DE                Berlin, Germany\n",
              "984        NusTrivia    Vancouver, British Columbia\n",
              "985        TonyAnto1                         Berlin\n",
              "986      Webimprints              Pennsylvania, USA\n",
              "987         DomainFQ                               \n",
              "988        Swati_THN                   Planet Earth\n",
              "989       ArgentArts                               \n",
              "990   bitcoinconnect                               \n",
              "991     MARTIN_CASAS                  St. Louis, Mo\n",
              "992            pj316                        Chester\n",
              "993      PotatoTechi                               \n",
              "994     cloudsilicon               Toronto, Ontario\n",
              "995  DigitalDealerCo                               \n",
              "996   UltraLogic_Ent  14 Oremeji Street Ikeja Lagos\n",
              "997   bitcoinconnect                               \n",
              "998        trip_elix                  United States\n",
              "999          Sunleil                               \n",
              "\n",
              "[1000 rows x 2 columns]"
            ]
          },
          "metadata": {
            "tags": []
          },
          "execution_count": 134
        }
      ]
    },
    {
      "cell_type": "code",
      "metadata": {
        "id": "ZkMPzUmQmm4V",
        "colab_type": "code",
        "colab": {}
      },
      "source": [
        "# let's begin with NLP related activities on 1000 Tweets\n",
        "tweets = tw.Cursor(api.search, q='india economy-filter:retweets', lang=\"en\", since = '2019-04-01').items(1000)\n",
        "tweets_text = [tweet.text for tweet in tweets]"
      ],
      "execution_count": 0,
      "outputs": []
    },
    {
      "cell_type": "code",
      "metadata": {
        "id": "yqQOciEDE5_d",
        "colab_type": "code",
        "colab": {}
      },
      "source": [
        "tweets_text = pd.read_csv(\"tweets.csv\")"
      ],
      "execution_count": 0,
      "outputs": []
    },
    {
      "cell_type": "code",
      "metadata": {
        "id": "ZNkJyc9UNGqs",
        "colab_type": "code",
        "colab": {
          "base_uri": "https://localhost:8080/",
          "height": 305
        },
        "outputId": "89b73f23-12e0-43f6-bed1-839ca2345d64"
      },
      "source": [
        "tweets_text.info()\n",
        "tweets_text.head()"
      ],
      "execution_count": 165,
      "outputs": [
        {
          "output_type": "stream",
          "text": [
            "<class 'pandas.core.frame.DataFrame'>\n",
            "RangeIndex: 1000 entries, 0 to 999\n",
            "Data columns (total 2 columns):\n",
            "Unnamed: 0    1000 non-null int64\n",
            "Tweets        1000 non-null object\n",
            "dtypes: int64(1), object(1)\n",
            "memory usage: 15.7+ KB\n"
          ],
          "name": "stdout"
        },
        {
          "output_type": "execute_result",
          "data": {
            "text/html": [
              "<div>\n",
              "<style scoped>\n",
              "    .dataframe tbody tr th:only-of-type {\n",
              "        vertical-align: middle;\n",
              "    }\n",
              "\n",
              "    .dataframe tbody tr th {\n",
              "        vertical-align: top;\n",
              "    }\n",
              "\n",
              "    .dataframe thead th {\n",
              "        text-align: right;\n",
              "    }\n",
              "</style>\n",
              "<table border=\"1\" class=\"dataframe\">\n",
              "  <thead>\n",
              "    <tr style=\"text-align: right;\">\n",
              "      <th></th>\n",
              "      <th>Unnamed: 0</th>\n",
              "      <th>Tweets</th>\n",
              "    </tr>\n",
              "  </thead>\n",
              "  <tbody>\n",
              "    <tr>\n",
              "      <th>0</th>\n",
              "      <td>0</td>\n",
              "      <td>'PM @narendramodi will create more efficiency ...</td>\n",
              "    </tr>\n",
              "    <tr>\n",
              "      <th>1</th>\n",
              "      <td>1</td>\n",
              "      <td>The central government had no outstanding #loa...</td>\n",
              "    </tr>\n",
              "    <tr>\n",
              "      <th>2</th>\n",
              "      <td>2</td>\n",
              "      <td>Why Modi government 2.0 might have to change i...</td>\n",
              "    </tr>\n",
              "    <tr>\n",
              "      <th>3</th>\n",
              "      <td>3</td>\n",
              "      <td>@BhavikaKapoor5 Whenever and wherever the gove...</td>\n",
              "    </tr>\n",
              "    <tr>\n",
              "      <th>4</th>\n",
              "      <td>4</td>\n",
              "      <td>India’s growth rate ‘much weaker than expected...</td>\n",
              "    </tr>\n",
              "  </tbody>\n",
              "</table>\n",
              "</div>"
            ],
            "text/plain": [
              "   Unnamed: 0                                             Tweets\n",
              "0           0  'PM @narendramodi will create more efficiency ...\n",
              "1           1  The central government had no outstanding #loa...\n",
              "2           2  Why Modi government 2.0 might have to change i...\n",
              "3           3  @BhavikaKapoor5 Whenever and wherever the gove...\n",
              "4           4  India’s growth rate ‘much weaker than expected..."
            ]
          },
          "metadata": {
            "tags": []
          },
          "execution_count": 165
        }
      ]
    },
    {
      "cell_type": "code",
      "metadata": {
        "id": "ww3gg79CNjKB",
        "colab_type": "code",
        "colab": {
          "base_uri": "https://localhost:8080/",
          "height": 115
        },
        "outputId": "6d8d9a9b-efb1-4185-89ea-7829e4092d8b"
      },
      "source": [
        "tweets1 = tweets_text.Tweets\n",
        "tweets1.head()"
      ],
      "execution_count": 170,
      "outputs": [
        {
          "output_type": "execute_result",
          "data": {
            "text/plain": [
              "0    'PM @narendramodi will create more efficiency ...\n",
              "1    The central government had no outstanding #loa...\n",
              "2    Why Modi government 2.0 might have to change i...\n",
              "3    @BhavikaKapoor5 Whenever and wherever the gove...\n",
              "4    India’s growth rate ‘much weaker than expected...\n",
              "Name: Tweets, dtype: object"
            ]
          },
          "metadata": {
            "tags": []
          },
          "execution_count": 170
        }
      ]
    },
    {
      "cell_type": "code",
      "metadata": {
        "id": "EsOnwDjzKQoO",
        "colab_type": "code",
        "colab": {}
      },
      "source": [
        "from nltk.corpus import stopwords"
      ],
      "execution_count": 0,
      "outputs": []
    },
    {
      "cell_type": "code",
      "metadata": {
        "id": "xmg53qlO_IwC",
        "colab_type": "code",
        "colab": {}
      },
      "source": [
        "corpus = [] # form an empty list called corpus\n",
        "ps = PorterStemmer() # for stemming the words to original form, for example - \"running to run\"\n",
        "stop_words = set(stopwords.words('english')) # remove words such as will, I, and, at etc.\n",
        "for i in range(0, 1000): # iterate through the list of 1000 tweets\n",
        "  # remove handles (@), numbers, urls, emojis and any other special characters to have only text\n",
        "  tweets1_cln = re.sub(\"(@[A-Za-z0-9]+)|([^0-9A-Za-z \\t])|(\\w+:\\/\\/\\S+)|[0-9]\", '',tweets1[i])\n",
        "  # convert all words to lower case\n",
        "  tweets1_cln = tweets1_cln.lower()\n",
        "  # split sentences into words\n",
        "  tweets1_cln = tweets1_cln.split()\n",
        "  # remove English stop words\n",
        "  tweets1_cln = [x for x in tweets1_cln if not x in stop_words]\n",
        "  # stem words to the base form\n",
        "  #tweets_text_cln = [ps.stem(x) for x in tweets_text_cln]\n",
        "  # join words to form the original sentences \n",
        "  tweets1_cln = \" \".join(tweets1_cln)\n",
        "  # append to the list to get all Tweets in one place\n",
        "  corpus.append(tweets1_cln)"
      ],
      "execution_count": 0,
      "outputs": []
    },
    {
      "cell_type": "code",
      "metadata": {
        "id": "QEdGooFN_Iys",
        "colab_type": "code",
        "colab": {}
      },
      "source": [
        "bagofwords = []\n",
        "for i in range(0,1000):\n",
        "  words = corpus[i].split()\n",
        "  bagofwords.append(words)\n",
        "  "
      ],
      "execution_count": 0,
      "outputs": []
    },
    {
      "cell_type": "code",
      "metadata": {
        "id": "6BBhx-rZ_I1i",
        "colab_type": "code",
        "colab": {
          "base_uri": "https://localhost:8080/",
          "height": 33
        },
        "outputId": "a1d8b363-e182-4076-9226-abb7ebe20e04"
      },
      "source": [
        "bagofwords[0]"
      ],
      "execution_count": 176,
      "outputs": [
        {
          "output_type": "execute_result",
          "data": {
            "text/plain": [
              "['pm', 'create', 'efficiency', 'economy']"
            ]
          },
          "metadata": {
            "tags": []
          },
          "execution_count": 176
        }
      ]
    },
    {
      "cell_type": "code",
      "metadata": {
        "id": "m6v2cXcz_I4X",
        "colab_type": "code",
        "colab": {
          "base_uri": "https://localhost:8080/",
          "height": 391
        },
        "outputId": "288a3122-d225-46fd-b029-cafbf903da04"
      },
      "source": [
        "# leverage itertools and collection to count frequency\n",
        "all_words = list(itertools.chain(*bagofwords))\n",
        "print(all_words[0:10])\n",
        "print()\n",
        "print(\"Most commonly occuring words and frequency\")\n",
        "words_freq = collections.Counter(all_words)\n",
        "words_freq.most_common(20)"
      ],
      "execution_count": 178,
      "outputs": [
        {
          "output_type": "stream",
          "text": [
            "['pm', 'create', 'efficiency', 'economy', 'central', 'government', 'outstanding', 'loans', 'week', 'earlier']\n",
            "\n",
            "Most commonly occuring words and frequency\n"
          ],
          "name": "stdout"
        },
        {
          "output_type": "execute_result",
          "data": {
            "text/plain": [
              "[('india', 426),\n",
              " ('economy', 399),\n",
              " ('indias', 132),\n",
              " ('indian', 64),\n",
              " ('modi', 57),\n",
              " ('growth', 54),\n",
              " ('amp', 53),\n",
              " ('much', 48),\n",
              " ('economic', 48),\n",
              " ('trillion', 44),\n",
              " ('government', 35),\n",
              " ('via', 35),\n",
              " ('expected', 35),\n",
              " ('people', 35),\n",
              " ('dont', 34),\n",
              " ('world', 34),\n",
              " ('imf', 34),\n",
              " ('one', 33),\n",
              " ('billion', 33),\n",
              " ('weaker', 32)]"
            ]
          },
          "metadata": {
            "tags": []
          },
          "execution_count": 178
        }
      ]
    },
    {
      "cell_type": "code",
      "metadata": {
        "id": "qmPc7g_9_I7g",
        "colab_type": "code",
        "colab": {}
      },
      "source": [
        "words_to_remove = ['india', 'economy', 'indian', 'much', 'amp']\n",
        "bagofwords_new = [[x for x in word if not x in words_to_remove] for word in bagofwords]"
      ],
      "execution_count": 0,
      "outputs": []
    },
    {
      "cell_type": "code",
      "metadata": {
        "id": "6BzXMTc6_I9e",
        "colab_type": "code",
        "colab": {
          "base_uri": "https://localhost:8080/",
          "height": 407
        },
        "outputId": "aa87db2f-c649-487d-afd4-da4bca82ea74"
      },
      "source": [
        "all_words = list(itertools.chain(*bagofwords_new))\n",
        "print(all_words[0:10])\n",
        "print()\n",
        "print(\"Most commonly occuring words and frequency\\n\")\n",
        "words_freq = collections.Counter(all_words)\n",
        "words_freq.most_common(20)"
      ],
      "execution_count": 180,
      "outputs": [
        {
          "output_type": "stream",
          "text": [
            "['pm', 'create', 'efficiency', 'central', 'government', 'outstanding', 'loans', 'week', 'earlier', 'well']\n",
            "\n",
            "Most commonly occuring words and frequency\n",
            "\n"
          ],
          "name": "stdout"
        },
        {
          "output_type": "execute_result",
          "data": {
            "text/plain": [
              "[('indias', 132),\n",
              " ('modi', 57),\n",
              " ('growth', 54),\n",
              " ('economic', 48),\n",
              " ('trillion', 44),\n",
              " ('government', 35),\n",
              " ('via', 35),\n",
              " ('expected', 35),\n",
              " ('people', 35),\n",
              " ('dont', 34),\n",
              " ('world', 34),\n",
              " ('imf', 34),\n",
              " ('one', 33),\n",
              " ('billion', 33),\n",
              " ('weaker', 32),\n",
              " ('pakistan', 32),\n",
              " ('minister', 32),\n",
              " ('govt', 31),\n",
              " ('gdp', 31),\n",
              " ('trade', 29)]"
            ]
          },
          "metadata": {
            "tags": []
          },
          "execution_count": 180
        }
      ]
    },
    {
      "cell_type": "code",
      "metadata": {
        "id": "3N-AI5UUQuCM",
        "colab_type": "code",
        "colab": {
          "base_uri": "https://localhost:8080/",
          "height": 191
        },
        "outputId": "add57e35-dd4a-48ac-ba63-071d28798765"
      },
      "source": [
        "freq_word_df = pd.DataFrame(words_freq.most_common(20), columns=['Wrds', 'Freq'])\n",
        "freq_word_df.head()"
      ],
      "execution_count": 188,
      "outputs": [
        {
          "output_type": "execute_result",
          "data": {
            "text/html": [
              "<div>\n",
              "<style scoped>\n",
              "    .dataframe tbody tr th:only-of-type {\n",
              "        vertical-align: middle;\n",
              "    }\n",
              "\n",
              "    .dataframe tbody tr th {\n",
              "        vertical-align: top;\n",
              "    }\n",
              "\n",
              "    .dataframe thead th {\n",
              "        text-align: right;\n",
              "    }\n",
              "</style>\n",
              "<table border=\"1\" class=\"dataframe\">\n",
              "  <thead>\n",
              "    <tr style=\"text-align: right;\">\n",
              "      <th></th>\n",
              "      <th>Wrds</th>\n",
              "      <th>Freq</th>\n",
              "    </tr>\n",
              "  </thead>\n",
              "  <tbody>\n",
              "    <tr>\n",
              "      <th>0</th>\n",
              "      <td>indias</td>\n",
              "      <td>132</td>\n",
              "    </tr>\n",
              "    <tr>\n",
              "      <th>1</th>\n",
              "      <td>modi</td>\n",
              "      <td>57</td>\n",
              "    </tr>\n",
              "    <tr>\n",
              "      <th>2</th>\n",
              "      <td>growth</td>\n",
              "      <td>54</td>\n",
              "    </tr>\n",
              "    <tr>\n",
              "      <th>3</th>\n",
              "      <td>economic</td>\n",
              "      <td>48</td>\n",
              "    </tr>\n",
              "    <tr>\n",
              "      <th>4</th>\n",
              "      <td>trillion</td>\n",
              "      <td>44</td>\n",
              "    </tr>\n",
              "  </tbody>\n",
              "</table>\n",
              "</div>"
            ],
            "text/plain": [
              "       Wrds  Freq\n",
              "0    indias   132\n",
              "1      modi    57\n",
              "2    growth    54\n",
              "3  economic    48\n",
              "4  trillion    44"
            ]
          },
          "metadata": {
            "tags": []
          },
          "execution_count": 188
        }
      ]
    },
    {
      "cell_type": "code",
      "metadata": {
        "id": "6i7J28-_QuFM",
        "colab_type": "code",
        "colab": {
          "base_uri": "https://localhost:8080/",
          "height": 595
        },
        "outputId": "f1658015-59a9-43fd-8565-591907d3ebd0"
      },
      "source": [
        "fig,ax = plt.subplots(figsize=(15,10))\n",
        "freq_word_df.sort_values(by='Freq').plot.barh(x= 'Wrds', y = 'Freq', ax=ax,color=\"green\")\n",
        "plt.show();"
      ],
      "execution_count": 189,
      "outputs": [
        {
          "output_type": "display_data",
          "data": {
            "image/png": "[encoded data removed]",
            "text/plain": [
              "<Figure size 1080x720 with 1 Axes>"
            ]
          },
          "metadata": {
            "tags": []
          }
        }
      ]
    },
    {
      "cell_type": "code",
      "metadata": {
        "id": "HekAwq8xQuHz",
        "colab_type": "code",
        "colab": {}
      },
      "source": [
        "from wordcloud import WordCloud, STOPWORDS\n",
        "import matplotlib.pyplot as plt\n",
        "word_string=\" \".join(freq_word_df.Wrds)\n",
        "wordcloud = WordCloud(#stopwords=STOPWORDS,\n",
        "                     background_color='black',\n",
        "                     max_words=20\n",
        "                     ).generate(word_string)"
      ],
      "execution_count": 0,
      "outputs": []
    },
    {
      "cell_type": "code",
      "metadata": {
        "id": "hMWhH-va_JAV",
        "colab_type": "code",
        "colab": {
          "base_uri": "https://localhost:8080/",
          "height": 468
        },
        "outputId": "826b63a8-4c86-4b25-81e7-4be5031b0003"
      },
      "source": [
        "plt.figure(figsize=(15,10))\n",
        "plt.clf()\n",
        "plt.imshow(wordcloud)\n",
        "plt.axis('off')\n",
        "plt.show()"
      ],
      "execution_count": 193,
      "outputs": [
        {
          "output_type": "display_data",
          "data": {
            "image/png": "[encoded data removed]",
            "text/plain": [
              "<Figure size 1080x720 with 1 Axes>"
            ]
          },
          "metadata": {
            "tags": []
          }
        }
      ]
    },
    {
      "cell_type": "code",
      "metadata": {
        "id": "O3QncSpEVRL5",
        "colab_type": "code",
        "colab": {
          "base_uri": "https://localhost:8080/",
          "height": 50
        },
        "outputId": "97238ab3-b3e5-4552-f526-5544d4e89397"
      },
      "source": [
        "sentiment_text = [TextBlob(tweet) for tweet in corpus]\n",
        "print(sentiment_text[0].polarity)\n",
        "print(sentiment_text[0])"
      ],
      "execution_count": 194,
      "outputs": [
        {
          "output_type": "stream",
          "text": [
            "0.0\n",
            "pm create efficiency economy\n"
          ],
          "name": "stdout"
        }
      ]
    },
    {
      "cell_type": "code",
      "metadata": {
        "id": "6SCx1-ZIVRVF",
        "colab_type": "code",
        "colab": {
          "base_uri": "https://localhost:8080/",
          "height": 1000
        },
        "outputId": "409fade5-3966-4820-c332-33461534c7f3"
      },
      "source": [
        "sentiments = [[tweet.sentiment.polarity, str(tweet)] for tweet in sentiment_text]\n",
        "sentiment_df = pd.DataFrame(sentiments, columns=[\"Polarity\", \"Tweet_Text\"])\n",
        "sentiment_df.sort_values(by='Polarity', ascending=False)"
      ],
      "execution_count": 195,
      "outputs": [
        {
          "output_type": "execute_result",
          "data": {
            "text/html": [
              "<div>\n",
              "<style scoped>\n",
              "    .dataframe tbody tr th:only-of-type {\n",
              "        vertical-align: middle;\n",
              "    }\n",
              "\n",
              "    .dataframe tbody tr th {\n",
              "        vertical-align: top;\n",
              "    }\n",
              "\n",
              "    .dataframe thead th {\n",
              "        text-align: right;\n",
              "    }\n",
              "</style>\n",
              "<table border=\"1\" class=\"dataframe\">\n",
              "  <thead>\n",
              "    <tr style=\"text-align: right;\">\n",
              "      <th></th>\n",
              "      <th>Polarity</th>\n",
              "      <th>Tweet_Text</th>\n",
              "    </tr>\n",
              "  </thead>\n",
              "  <tbody>\n",
              "    <tr>\n",
              "      <th>321</th>\n",
              "      <td>1.000000</td>\n",
              "      <td>feeling concerned economy government india try...</td>\n",
              "    </tr>\n",
              "    <tr>\n",
              "      <th>941</th>\n",
              "      <td>1.000000</td>\n",
              "      <td>itc best company india going economy india fin...</td>\n",
              "    </tr>\n",
              "    <tr>\n",
              "      <th>993</th>\n",
              "      <td>1.000000</td>\n",
              "      <td>thinking indias economy rising excellent</td>\n",
              "    </tr>\n",
              "    <tr>\n",
              "      <th>424</th>\n",
              "      <td>1.000000</td>\n",
              "      <td>best please vote bjp coming election aap suppo...</td>\n",
              "    </tr>\n",
              "    <tr>\n",
              "      <th>56</th>\n",
              "      <td>0.933333</td>\n",
              "      <td>india must determine best economy billion indi...</td>\n",
              "    </tr>\n",
              "    <tr>\n",
              "      <th>54</th>\n",
              "      <td>0.900000</td>\n",
              "      <td>india must determine best economy billion indi...</td>\n",
              "    </tr>\n",
              "    <tr>\n",
              "      <th>58</th>\n",
              "      <td>0.800000</td>\n",
              "      <td>madam country withyou worries india amp econom...</td>\n",
              "    </tr>\n",
              "    <tr>\n",
              "      <th>664</th>\n",
              "      <td>0.800000</td>\n",
              "      <td>gandhi great ask king n pm concentrate crumbli...</td>\n",
              "    </tr>\n",
              "    <tr>\n",
              "      <th>751</th>\n",
              "      <td>0.800000</td>\n",
              "      <td>u must studied madarsepakistans economy great ...</td>\n",
              "    </tr>\n",
              "    <tr>\n",
              "      <th>618</th>\n",
              "      <td>0.800000</td>\n",
              "      <td>great effort tons gold reached england britain...</td>\n",
              "    </tr>\n",
              "    <tr>\n",
              "      <th>129</th>\n",
              "      <td>0.800000</td>\n",
              "      <td>thats great think india become great economy</td>\n",
              "    </tr>\n",
              "    <tr>\n",
              "      <th>356</th>\n",
              "      <td>0.800000</td>\n",
              "      <td>lol india un designated terrorist soil pakista...</td>\n",
              "    </tr>\n",
              "    <tr>\n",
              "      <th>19</th>\n",
              "      <td>0.800000</td>\n",
              "      <td>economy discuss everything force one language ...</td>\n",
              "    </tr>\n",
              "    <tr>\n",
              "      <th>211</th>\n",
              "      <td>0.800000</td>\n",
              "      <td>happy birthday sir keep rocking world n contin...</td>\n",
              "    </tr>\n",
              "    <tr>\n",
              "      <th>203</th>\n",
              "      <td>0.800000</td>\n",
              "      <td>modis sabka saath sabka vikas great vision kerry</td>\n",
              "    </tr>\n",
              "    <tr>\n",
              "      <th>123</th>\n",
              "      <td>0.800000</td>\n",
              "      <td>know n bajawa also knows cant win war india sc...</td>\n",
              "    </tr>\n",
              "    <tr>\n",
              "      <th>922</th>\n",
              "      <td>0.800000</td>\n",
              "      <td>god bless india great country whosepm modi mur...</td>\n",
              "    </tr>\n",
              "    <tr>\n",
              "      <th>513</th>\n",
              "      <td>0.800000</td>\n",
              "      <td>mkholo lol yet largest economy africa largest ...</td>\n",
              "    </tr>\n",
              "    <tr>\n",
              "      <th>580</th>\n",
              "      <td>0.800000</td>\n",
              "      <td>pot hole government deliver gobernancecitizens...</td>\n",
              "    </tr>\n",
              "    <tr>\n",
              "      <th>90</th>\n",
              "      <td>0.750000</td>\n",
              "      <td>bjps agenda one nationone language wont succes...</td>\n",
              "    </tr>\n",
              "    <tr>\n",
              "      <th>798</th>\n",
              "      <td>0.700000</td>\n",
              "      <td>bit bright news indian economy reports bn fdi ...</td>\n",
              "    </tr>\n",
              "    <tr>\n",
              "      <th>409</th>\n",
              "      <td>0.700000</td>\n",
              "      <td>status kerala highlight something good kerala ...</td>\n",
              "    </tr>\n",
              "    <tr>\n",
              "      <th>680</th>\n",
              "      <td>0.700000</td>\n",
              "      <td>srmcp dont compare superior growth bro tamilnadu</td>\n",
              "    </tr>\n",
              "    <tr>\n",
              "      <th>525</th>\n",
              "      <td>0.700000</td>\n",
              "      <td>reasons ecommerce good indian economy ecom bri...</td>\n",
              "    </tr>\n",
              "    <tr>\n",
              "      <th>26</th>\n",
              "      <td>0.700000</td>\n",
              "      <td>hope something good comest rhetoric finance mi...</td>\n",
              "    </tr>\n",
              "    <tr>\n",
              "      <th>880</th>\n",
              "      <td>0.700000</td>\n",
              "      <td>bjp good answer reverse engineering knw reason...</td>\n",
              "    </tr>\n",
              "    <tr>\n",
              "      <th>215</th>\n",
              "      <td>0.700000</td>\n",
              "      <td>inflation good economy like india inflation me...</td>\n",
              "    </tr>\n",
              "    <tr>\n",
              "      <th>637</th>\n",
              "      <td>0.700000</td>\n",
              "      <td>forego good price help offline traders</td>\n",
              "    </tr>\n",
              "    <tr>\n",
              "      <th>175</th>\n",
              "      <td>0.700000</td>\n",
              "      <td>manmoji world thinking achieve good things raise</td>\n",
              "    </tr>\n",
              "    <tr>\n",
              "      <th>995</th>\n",
              "      <td>0.700000</td>\n",
              "      <td>indiawhen youre good making excuses</td>\n",
              "    </tr>\n",
              "    <tr>\n",
              "      <th>...</th>\n",
              "      <td>...</td>\n",
              "      <td>...</td>\n",
              "    </tr>\n",
              "    <tr>\n",
              "      <th>723</th>\n",
              "      <td>-0.500000</td>\n",
              "      <td>bhushan steel promoters illegally avail rs cro...</td>\n",
              "    </tr>\n",
              "    <tr>\n",
              "      <th>890</th>\n",
              "      <td>-0.525000</td>\n",
              "      <td>people arrested kerala expect least kashmir di...</td>\n",
              "    </tr>\n",
              "    <tr>\n",
              "      <th>971</th>\n",
              "      <td>-0.600000</td>\n",
              "      <td>mandate misused abused dangerous fashion sonia...</td>\n",
              "    </tr>\n",
              "    <tr>\n",
              "      <th>762</th>\n",
              "      <td>-0.600000</td>\n",
              "      <td>since tories fucking gig economy im going star...</td>\n",
              "    </tr>\n",
              "    <tr>\n",
              "      <th>613</th>\n",
              "      <td>-0.600000</td>\n",
              "      <td>piyush goyal admits einstein faux pas says afr...</td>\n",
              "    </tr>\n",
              "    <tr>\n",
              "      <th>256</th>\n",
              "      <td>-0.600000</td>\n",
              "      <td>people india unhappy modi economybreakingnews ...</td>\n",
              "    </tr>\n",
              "    <tr>\n",
              "      <th>562</th>\n",
              "      <td>-0.600000</td>\n",
              "      <td>west afraid cause economy hegemony threat coun...</td>\n",
              "    </tr>\n",
              "    <tr>\n",
              "      <th>261</th>\n",
              "      <td>-0.600000</td>\n",
              "      <td>people india unhappy gst breakingnews breaking...</td>\n",
              "    </tr>\n",
              "    <tr>\n",
              "      <th>871</th>\n",
              "      <td>-0.600000</td>\n",
              "      <td>indias economy suffers car crash pain spreads ...</td>\n",
              "    </tr>\n",
              "    <tr>\n",
              "      <th>682</th>\n",
              "      <td>-0.600000</td>\n",
              "      <td>piyush goyal admits einstein faux pas says afr...</td>\n",
              "    </tr>\n",
              "    <tr>\n",
              "      <th>617</th>\n",
              "      <td>-0.633333</td>\n",
              "      <td>else could shameful disastrous situation thisi...</td>\n",
              "    </tr>\n",
              "    <tr>\n",
              "      <th>437</th>\n",
              "      <td>-0.650000</td>\n",
              "      <td>eu gone negative rates recessioniscoming china...</td>\n",
              "    </tr>\n",
              "    <tr>\n",
              "      <th>601</th>\n",
              "      <td>-0.700000</td>\n",
              "      <td>ohho looks like someone badly burneddont show ...</td>\n",
              "    </tr>\n",
              "    <tr>\n",
              "      <th>913</th>\n",
              "      <td>-0.700000</td>\n",
              "      <td>rathee india going bad worsecorrupt mediaecono...</td>\n",
              "    </tr>\n",
              "    <tr>\n",
              "      <th>255</th>\n",
              "      <td>-0.700000</td>\n",
              "      <td>finance minister remove hurdles revive economy...</td>\n",
              "    </tr>\n",
              "    <tr>\n",
              "      <th>708</th>\n",
              "      <td>-0.700000</td>\n",
              "      <td>trudeaus sympathy khalistani separatism almost...</td>\n",
              "    </tr>\n",
              "    <tr>\n",
              "      <th>370</th>\n",
              "      <td>-0.700000</td>\n",
              "      <td>must desperate hey moron us accounts man made ...</td>\n",
              "    </tr>\n",
              "    <tr>\n",
              "      <th>473</th>\n",
              "      <td>-0.700000</td>\n",
              "      <td>happens lot places instance india economy suff...</td>\n",
              "    </tr>\n",
              "    <tr>\n",
              "      <th>378</th>\n",
              "      <td>-0.750000</td>\n",
              "      <td>mms another puppet worst economy regime failed...</td>\n",
              "    </tr>\n",
              "    <tr>\n",
              "      <th>487</th>\n",
              "      <td>-0.750000</td>\n",
              "      <td>india greatly disappointed seat paid exorbitan...</td>\n",
              "    </tr>\n",
              "    <tr>\n",
              "      <th>96</th>\n",
              "      <td>-0.800000</td>\n",
              "      <td>dont hate millennials buying cars driving indi...</td>\n",
              "    </tr>\n",
              "    <tr>\n",
              "      <th>92</th>\n",
              "      <td>-0.800000</td>\n",
              "      <td>dont hate millennials buying cars driving indi...</td>\n",
              "    </tr>\n",
              "    <tr>\n",
              "      <th>83</th>\n",
              "      <td>-0.800000</td>\n",
              "      <td>dont hate millennials buying cars driving indi...</td>\n",
              "    </tr>\n",
              "    <tr>\n",
              "      <th>9</th>\n",
              "      <td>-0.800000</td>\n",
              "      <td>dont hate millennials millennials driving forc...</td>\n",
              "    </tr>\n",
              "    <tr>\n",
              "      <th>227</th>\n",
              "      <td>-0.800000</td>\n",
              "      <td>kashmiris morons listen mainstream indiathat w...</td>\n",
              "    </tr>\n",
              "    <tr>\n",
              "      <th>981</th>\n",
              "      <td>-0.800000</td>\n",
              "      <td>idiot started draconian fines make india trill...</td>\n",
              "    </tr>\n",
              "    <tr>\n",
              "      <th>733</th>\n",
              "      <td>-0.800000</td>\n",
              "      <td>see spread poison hate relating bharat bharat ...</td>\n",
              "    </tr>\n",
              "    <tr>\n",
              "      <th>84</th>\n",
              "      <td>-0.800000</td>\n",
              "      <td>dont hate millennials buying cars driving indi...</td>\n",
              "    </tr>\n",
              "    <tr>\n",
              "      <th>59</th>\n",
              "      <td>-0.850000</td>\n",
              "      <td>sir please look economy going bad worst please...</td>\n",
              "    </tr>\n",
              "    <tr>\n",
              "      <th>400</th>\n",
              "      <td>-1.000000</td>\n",
              "      <td>crawl may hysterical pipelines ignores fact bc...</td>\n",
              "    </tr>\n",
              "  </tbody>\n",
              "</table>\n",
              "<p>1000 rows × 2 columns</p>\n",
              "</div>"
            ],
            "text/plain": [
              "     Polarity                                         Tweet_Text\n",
              "321  1.000000  feeling concerned economy government india try...\n",
              "941  1.000000  itc best company india going economy india fin...\n",
              "993  1.000000           thinking indias economy rising excellent\n",
              "424  1.000000  best please vote bjp coming election aap suppo...\n",
              "56   0.933333  india must determine best economy billion indi...\n",
              "54   0.900000  india must determine best economy billion indi...\n",
              "58   0.800000  madam country withyou worries india amp econom...\n",
              "664  0.800000  gandhi great ask king n pm concentrate crumbli...\n",
              "751  0.800000  u must studied madarsepakistans economy great ...\n",
              "618  0.800000  great effort tons gold reached england britain...\n",
              "129  0.800000       thats great think india become great economy\n",
              "356  0.800000  lol india un designated terrorist soil pakista...\n",
              "19   0.800000  economy discuss everything force one language ...\n",
              "211  0.800000  happy birthday sir keep rocking world n contin...\n",
              "203  0.800000   modis sabka saath sabka vikas great vision kerry\n",
              "123  0.800000  know n bajawa also knows cant win war india sc...\n",
              "922  0.800000  god bless india great country whosepm modi mur...\n",
              "513  0.800000  mkholo lol yet largest economy africa largest ...\n",
              "580  0.800000  pot hole government deliver gobernancecitizens...\n",
              "90   0.750000  bjps agenda one nationone language wont succes...\n",
              "798  0.700000  bit bright news indian economy reports bn fdi ...\n",
              "409  0.700000  status kerala highlight something good kerala ...\n",
              "680  0.700000   srmcp dont compare superior growth bro tamilnadu\n",
              "525  0.700000  reasons ecommerce good indian economy ecom bri...\n",
              "26   0.700000  hope something good comest rhetoric finance mi...\n",
              "880  0.700000  bjp good answer reverse engineering knw reason...\n",
              "215  0.700000  inflation good economy like india inflation me...\n",
              "637  0.700000             forego good price help offline traders\n",
              "175  0.700000   manmoji world thinking achieve good things raise\n",
              "995  0.700000                indiawhen youre good making excuses\n",
              "..        ...                                                ...\n",
              "723 -0.500000  bhushan steel promoters illegally avail rs cro...\n",
              "890 -0.525000  people arrested kerala expect least kashmir di...\n",
              "971 -0.600000  mandate misused abused dangerous fashion sonia...\n",
              "762 -0.600000  since tories fucking gig economy im going star...\n",
              "613 -0.600000  piyush goyal admits einstein faux pas says afr...\n",
              "256 -0.600000  people india unhappy modi economybreakingnews ...\n",
              "562 -0.600000  west afraid cause economy hegemony threat coun...\n",
              "261 -0.600000  people india unhappy gst breakingnews breaking...\n",
              "871 -0.600000  indias economy suffers car crash pain spreads ...\n",
              "682 -0.600000  piyush goyal admits einstein faux pas says afr...\n",
              "617 -0.633333  else could shameful disastrous situation thisi...\n",
              "437 -0.650000  eu gone negative rates recessioniscoming china...\n",
              "601 -0.700000  ohho looks like someone badly burneddont show ...\n",
              "913 -0.700000  rathee india going bad worsecorrupt mediaecono...\n",
              "255 -0.700000  finance minister remove hurdles revive economy...\n",
              "708 -0.700000  trudeaus sympathy khalistani separatism almost...\n",
              "370 -0.700000  must desperate hey moron us accounts man made ...\n",
              "473 -0.700000  happens lot places instance india economy suff...\n",
              "378 -0.750000  mms another puppet worst economy regime failed...\n",
              "487 -0.750000  india greatly disappointed seat paid exorbitan...\n",
              "96  -0.800000  dont hate millennials buying cars driving indi...\n",
              "92  -0.800000  dont hate millennials buying cars driving indi...\n",
              "83  -0.800000  dont hate millennials buying cars driving indi...\n",
              "9   -0.800000  dont hate millennials millennials driving forc...\n",
              "227 -0.800000  kashmiris morons listen mainstream indiathat w...\n",
              "981 -0.800000  idiot started draconian fines make india trill...\n",
              "733 -0.800000  see spread poison hate relating bharat bharat ...\n",
              "84  -0.800000  dont hate millennials buying cars driving indi...\n",
              "59  -0.850000  sir please look economy going bad worst please...\n",
              "400 -1.000000  crawl may hysterical pipelines ignores fact bc...\n",
              "\n",
              "[1000 rows x 2 columns]"
            ]
          },
          "metadata": {
            "tags": []
          },
          "execution_count": 195
        }
      ]
    },
    {
      "cell_type": "code",
      "metadata": {
        "id": "E-tjwcqnVRYN",
        "colab_type": "code",
        "colab": {
          "base_uri": "https://localhost:8080/",
          "height": 607
        },
        "outputId": "e18a5f8a-a536-4114-99d4-b203213392af"
      },
      "source": [
        "fig, ax = plt.subplots(figsize=(15, 10))\n",
        "# plot histogram of the polarity values\n",
        "sentiment_df.hist(bins=[-1,-0.75,-0.5,-0.25,0.5,0.75,1], ax=ax, color=\"#CD7F32\")\n",
        "plt.title(\"Sentiment Distribution on India Economy\")\n",
        "plt.show();"
      ],
      "execution_count": 196,
      "outputs": [
        {
          "output_type": "display_data",
          "data": {
            "image/png": "[encoded data removed]",
            "text/plain": [
              "<Figure size 1080x720 with 1 Axes>"
            ]
          },
          "metadata": {
            "tags": []
          }
        }
      ]
    },
    {
      "cell_type": "code",
      "metadata": {
        "id": "Nh1qmHH_WVJ2",
        "colab_type": "code",
        "colab": {}
      },
      "source": [
        ""
      ],
      "execution_count": 0,
      "outputs": []
    },
    {
      "cell_type": "code",
      "metadata": {
        "id": "h96vVGshWVMc",
        "colab_type": "code",
        "colab": {}
      },
      "source": [
        ""
      ],
      "execution_count": 0,
      "outputs": []
    },
    {
      "cell_type": "code",
      "metadata": {
        "id": "WBFbBD6YWVPY",
        "colab_type": "code",
        "colab": {}
      },
      "source": [
        ""
      ],
      "execution_count": 0,
      "outputs": []
    }
  ]
}