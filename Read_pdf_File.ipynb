{
  "nbformat": 4,
  "nbformat_minor": 0,
  "metadata": {
    "colab": {
      "name": "Read_pdf_File.ipynb",
      "provenance": [],
      "collapsed_sections": [],
      "include_colab_link": true
    },
    "kernelspec": {
      "name": "python3",
      "display_name": "Python 3"
    }
  },
  "cells": [
    {
      "cell_type": "markdown",
      "metadata": {
        "id": "view-in-github",
        "colab_type": "text"
      },
      "source": [
        "<a href=\"https://colab.research.google.com/github/sureshakukkaje/Python/blob/master/Read_pdf_File.ipynb\" target=\"_parent\"><img src=\"https://colab.research.google.com/assets/colab-badge.svg\" alt=\"Open In Colab\"/></a>"
      ]
    },
    {
      "cell_type": "code",
      "metadata": {
        "id": "k6sFO77rAZDF",
        "colab_type": "code",
        "colab": {}
      },
      "source": [
        "# imort libraries\n",
        "import re\n",
        "import pandas as pd \n",
        "import numpy as np \n",
        "import matplotlib.pyplot as plt \n",
        "import seaborn as sns\n",
        "import string\n",
        "import nltk\n",
        "import warnings \n",
        "warnings.filterwarnings(\"ignore\", category=DeprecationWarning)\n",
        "\n",
        "%matplotlib inline"
      ],
      "execution_count": 0,
      "outputs": []
    },
    {
      "cell_type": "code",
      "metadata": {
        "id": "5ohOlU4iBNt8",
        "colab_type": "code",
        "colab": {}
      },
      "source": [
        "# magic command to print mulitple statements in single command \n",
        "from IPython.core.interactiveshell import InteractiveShell\n",
        "InteractiveShell.ast_node_interactivity=\"all\""
      ],
      "execution_count": 0,
      "outputs": []
    },
    {
      "cell_type": "code",
      "metadata": {
        "id": "2TQW2sHpCiTg",
        "colab_type": "code",
        "colab": {
          "base_uri": "https://localhost:8080/",
          "height": 34
        },
        "outputId": "6271f82a-dff6-46e5-d860-c4e7f1534683"
      },
      "source": [
        "# install PyPDF2 library\n",
        "pip install PyPDF2"
      ],
      "execution_count": 30,
      "outputs": [
        {
          "output_type": "stream",
          "text": [
            "Requirement already satisfied: PyPDF2 in /usr/local/lib/python3.6/dist-packages (1.26.0)\n"
          ],
          "name": "stdout"
        }
      ]
    },
    {
      "cell_type": "code",
      "metadata": {
        "id": "9SPi1QdgBN5x",
        "colab_type": "code",
        "colab": {}
      },
      "source": [
        "# importing PyPDF2 \n",
        "import PyPDF2"
      ],
      "execution_count": 0,
      "outputs": []
    },
    {
      "cell_type": "code",
      "metadata": {
        "id": "v1a4tyjqBNzR",
        "colab_type": "code",
        "colab": {}
      },
      "source": [
        "# creating a pdf file object \n",
        "pdfdata = open('Virtual Market Survey on Automobile Infotainment Gadgets.pdf', 'rb')"
      ],
      "execution_count": 0,
      "outputs": []
    },
    {
      "cell_type": "code",
      "metadata": {
        "id": "38stiJ2cBN2e",
        "colab_type": "code",
        "colab": {
          "base_uri": "https://localhost:8080/",
          "height": 34
        },
        "outputId": "8c22ea2e-6e4c-4a8a-cda9-bd1956806ae1"
      },
      "source": [
        "pd.test"
      ],
      "execution_count": 5,
      "outputs": [
        {
          "output_type": "execute_result",
          "data": {
            "text/plain": [
              "<function pandas.util._tester.test>"
            ]
          },
          "metadata": {
            "tags": []
          },
          "execution_count": 5
        }
      ]
    },
    {
      "cell_type": "code",
      "metadata": {
        "id": "Z6AhZSC2BN9Y",
        "colab_type": "code",
        "colab": {}
      },
      "source": [
        "# creating a pdf reader object\n",
        "pdfReader = PyPDF2.PdfFileReader(pdfdata)"
      ],
      "execution_count": 0,
      "outputs": []
    },
    {
      "cell_type": "code",
      "metadata": {
        "id": "CWR-GmuOENbW",
        "colab_type": "code",
        "colab": {
          "base_uri": "https://localhost:8080/",
          "height": 34
        },
        "outputId": "14fd3dd8-e081-4378-f896-ed86ad0a00fe"
      },
      "source": [
        "# printing number of pages in pdf file \n",
        "print(pdfReader.numPages) "
      ],
      "execution_count": 34,
      "outputs": [
        {
          "output_type": "stream",
          "text": [
            "5\n"
          ],
          "name": "stdout"
        }
      ]
    },
    {
      "cell_type": "code",
      "metadata": {
        "id": "xKDWLkaGENeY",
        "colab_type": "code",
        "colab": {}
      },
      "source": [
        "# creating a page object \n",
        "pageObj = pdfReader.getPage(0) "
      ],
      "execution_count": 0,
      "outputs": []
    },
    {
      "cell_type": "code",
      "metadata": {
        "id": "ZKLjV_P4ENgo",
        "colab_type": "code",
        "colab": {
          "base_uri": "https://localhost:8080/",
          "height": 1000
        },
        "outputId": "48943454-eff8-4273-9be6-f4fd70aeb0f4"
      },
      "source": [
        "# extracting text from page \n",
        "print(pageObj.extractText()) "
      ],
      "execution_count": 36,
      "outputs": [
        {
          "output_type": "stream",
          "text": [
            "1\n",
            " \n",
            " \n",
            "Virtual Market Survey \n",
            "on\n",
            " \n",
            "Automobile Infotainment Gadgets\n",
            " \n",
            "Gautham R\n",
            ",\n",
            " \n",
            "Mutturaj Uppaladinni\n",
            ",\n",
            " \n",
            "Suresha H\n",
            "P\n",
            ",\n",
            " \n",
            "Suresha K\n",
            " \n",
            "August \n",
            "18, \n",
            "2019\n",
            " \n",
            "Abstract\n",
            " \n",
            "As technology and socio\n",
            "-\n",
            "economic trends change, so will our means of gaining \n",
            "customer insights. \n",
            " \n",
            "Today, actual\n",
            " \n",
            "customer behavior data is collected with ease, to the point \n",
            "where analysis (or data mining) is much more challenging than obtaining the data. \n",
            " \n",
            "Twitter \n",
            "is another great source of readily available data that can be mined (text analytics).\n",
            " \n",
            "Virtual \n",
            "M\n",
            "arketing \n",
            "S\n",
            "urvey in the modern era is all about data. Due to the huge amounts of \n",
            "\n",
            "many companies, as it h\n",
            "as a direct link to increasing revenue.\n",
            " \n",
            "Publicly available tweets may provide useful and in\n",
            "-\n",
            "depth insights into the real\n",
            "-\n",
            "time \n",
            "sentiment of infotainment gadgets in automobiles and provide \n",
            "motivation to others through \n",
            "online influence.\n",
            " \n",
            "Objective\n",
            " \n",
            "With the growing demand for \n",
            "more safe, \n",
            "luxurious\n",
            " \n",
            "and smart vehicles, automotive \n",
            "manufacturers are increasingly developing automobiles with integrated infotainment \n",
            "systems \n",
            "\n",
            " \n",
            "systems that provide a combination of\n",
            " \n",
            "information and\n",
            " \n",
            "entertainment \n",
            "for an \n",
            "enhanced in\n",
            "-\n",
            "vehicle experience\n",
            ".\n",
            " \n",
            "T\n",
            "he\n",
            " \n",
            "automotive \n",
            "industry in recent days is moving towards \n",
            "developing innovative technologies to enable better connectivity solutions, improve vehicle \n",
            "safety and enhance\n",
            "d\n",
            " \n",
            "in\n",
            "-\n",
            "vehicle user\n",
            " \n",
            "experience.\n",
            " \n",
            "The research presented in this paper brings a perspective to infotainment gadgets by \n",
            "conducting a virtual mar\n",
            "ket survey by using Artificial \n",
            "I\n",
            "ntelligence and Machine \n",
            "L\n",
            "earning \n",
            "methods to collec\n",
            "t public opinion in automobile \n",
            "s\n",
            "ecto\n",
            "r.\n",
            " \n",
            "The goal of this experimental \n",
            "approach is to determine if there is a correlation between the type of infotainment gadgets \n",
            "across gender, region, profession, age and education by using \n",
            "the Twitter data\n",
            " \n",
            "set\n",
            ", \n",
            "automobile portals.\n",
            " \n",
            "How Virtua\n",
            "l Market S\n",
            "urvey\n",
            " \n",
            "is\n",
            " \n",
            "revolutionizing \n",
            "market survey through Artif\n",
            "icial Intelligence \n",
            "and Machine L\n",
            "earning:\n",
            " \n",
            "1.\n",
            " \n",
            "By providing real time analysis of reviews shared through Twitter\n",
            " \n",
            "2.\n",
            " \n",
            "Fast analysis of video, audio and text from samples\n",
            " \n",
            "3.\n",
            " \n",
            "Save time and lower cost\n",
            " \n",
            "4.\n",
            " \n",
            "Greater recruitment capabilities\n",
            " \n",
            "5.\n",
            " \n",
            "Guide R&D\n",
            " \n",
            "\n"
          ],
          "name": "stdout"
        }
      ]
    },
    {
      "cell_type": "code",
      "metadata": {
        "id": "qzhE-qBDENi8",
        "colab_type": "code",
        "colab": {}
      },
      "source": [
        "# closing the pdf file object \n",
        "# pdfFileObj.close() "
      ],
      "execution_count": 0,
      "outputs": []
    },
    {
      "cell_type": "markdown",
      "metadata": {
        "id": "sG8_OCzpN5qg",
        "colab_type": "text"
      },
      "source": [
        "----------------------------------------------------------------------------------------------"
      ]
    }
  ]
}