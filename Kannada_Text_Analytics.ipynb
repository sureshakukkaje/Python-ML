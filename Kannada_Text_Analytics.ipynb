{
  "nbformat": 4,
  "nbformat_minor": 0,
  "metadata": {
    "colab": {
      "name": "Kannada_Text_Analytics.ipynb",
      "provenance": [],
      "collapsed_sections": [],
      "include_colab_link": true
    },
    "kernelspec": {
      "name": "python3",
      "display_name": "Python 3"
    }
  },
  "cells": [
    {
      "cell_type": "markdown",
      "metadata": {
        "id": "view-in-github",
        "colab_type": "text"
      },
      "source": [
        "<a href=\"https://colab.research.google.com/github/sureshakukkaje/Python/blob/master/Kannada_Text_Analytics.ipynb\" target=\"_parent\"><img src=\"https://colab.research.google.com/assets/colab-badge.svg\" alt=\"Open In Colab\"/></a>"
      ]
    },
    {
      "cell_type": "code",
      "metadata": {
        "id": "wVt1QGAdwsAH",
        "colab_type": "code",
        "colab": {}
      },
      "source": [
        "import pandas as pd\n",
        "import numpy as np\n",
        "import seaborn as sns\n",
        "import matplotlib.pyplot as plt\n",
        "from sklearn.feature_extraction.text import CountVectorizer\n",
        "from sklearn.feature_extraction.text import TfidfVectorizer\n",
        "from sklearn import preprocessing\n",
        "from sklearn.model_selection import train_test_split\n",
        "from sklearn import metrics\n",
        "%matplotlib inline\n",
        "from sklearn.naive_bayes import MultinomialNB\n",
        "from sklearn.model_selection import GridSearchCV\n",
        "from wordcloud import WordCloud"
      ],
      "execution_count": 0,
      "outputs": []
    },
    {
      "cell_type": "code",
      "metadata": {
        "id": "_RxgSrsK6IAg",
        "colab_type": "code",
        "colab": {}
      },
      "source": [
        "from IPython.core.interactiveshell import InteractiveShell\n",
        "InteractiveShell.ast_node_interactivity=\"all\""
      ],
      "execution_count": 0,
      "outputs": []
    },
    {
      "cell_type": "code",
      "metadata": {
        "id": "BS2-Xw6jxZbU",
        "colab_type": "code",
        "colab": {
          "base_uri": "https://localhost:8080/",
          "height": 214
        },
        "outputId": "f0dccd77-8681-456d-e5d5-96d05058610a"
      },
      "source": [
        "#read file\n",
        "data=pd.read_excel(\"kannada.xlsx\", encoding = \"utf8\")\n",
        "data.head()"
      ],
      "execution_count": 99,
      "outputs": [
        {
          "output_type": "execute_result",
          "data": {
            "text/html": [
              "<div>\n",
              "<style scoped>\n",
              "    .dataframe tbody tr th:only-of-type {\n",
              "        vertical-align: middle;\n",
              "    }\n",
              "\n",
              "    .dataframe tbody tr th {\n",
              "        vertical-align: top;\n",
              "    }\n",
              "\n",
              "    .dataframe thead th {\n",
              "        text-align: right;\n",
              "    }\n",
              "</style>\n",
              "<table border=\"1\" class=\"dataframe\">\n",
              "  <thead>\n",
              "    <tr style=\"text-align: right;\">\n",
              "      <th></th>\n",
              "      <th>ಜಮ್ಮು ಮತ್ತು ಕಾಶ್ಮೀರ ವಿಚಾರಕ್ಕೆ ಸಂಬಂಧಿಸಿದಂತೆ ಭಾರತವನ್ನು ಬೆಂಬಲಿಸಿರುವ ಯುರೋಪಿಯನ್ ಸಂಸದರು, ಭಯೋತ್ಪಾದಕರಿಗೆ ಆಶ್ರಯ ನೀಡುತ್ತಿರುವ ಪಾಕಿಸ್ತಾನವನ್ನು ತೀವ್ರ ತರಾಟೆಗೆ ತೆಗೆದುಕೊಂಡಿದ್ದಾರೆ.</th>\n",
              "    </tr>\n",
              "  </thead>\n",
              "  <tbody>\n",
              "    <tr>\n",
              "      <th>0</th>\n",
              "      <td>ಬ್ರಸೆಲ್ಸ್: ಜಮ್ಮು ಮತ್ತು ಕಾಶ್ಮೀರ ವಿಚಾರಕ್ಕೆ ಸಂಬಂಧ...</td>\n",
              "    </tr>\n",
              "    <tr>\n",
              "      <th>1</th>\n",
              "      <td>ಯುರೋಪಿಯನ್ ಸಂಸತ್ ನಲ್ಲಿ ನಡೆದ ವಿಶೇಷ ಚರ್ಚೆಯಲ್ಲಿ ಭಾ...</td>\n",
              "    </tr>\n",
              "    <tr>\n",
              "      <th>2</th>\n",
              "      <td>ಭಯೋತ್ಪಾದಕರಿಗೆ ಆಶ್ರಯ ನೀಡಿದ್ದಕ್ಕಾಗಿ ಪಾಕಿಸ್ತಾನದ ವ...</td>\n",
              "    </tr>\n",
              "    <tr>\n",
              "      <th>3</th>\n",
              "      <td>ಭಾರತ ವಿಶ್ವದಲ್ಲಿಯೇ ಅತ್ಯಂತ ಶ್ರೇಷ್ಠ ಪ್ರಜಾಪ್ರಭುತ್ವ...</td>\n",
              "    </tr>\n",
              "    <tr>\n",
              "      <th>4</th>\n",
              "      <td>ಈ ಉಗ್ರರು ಚಂದ್ರನಿಂದ ಬರುವುದಿಲ್ಲ.</td>\n",
              "    </tr>\n",
              "  </tbody>\n",
              "</table>\n",
              "</div>"
            ],
            "text/plain": [
              "  ಜಮ್ಮು ಮತ್ತು ಕಾಶ್ಮೀರ ವಿಚಾರಕ್ಕೆ ಸಂಬಂಧಿಸಿದಂತೆ ಭಾರತವನ್ನು ಬೆಂಬಲಿಸಿರುವ ಯುರೋಪಿಯನ್ ಸಂಸದರು, ಭಯೋತ್ಪಾದಕರಿಗೆ ಆಶ್ರಯ ನೀಡುತ್ತಿರುವ ಪಾಕಿಸ್ತಾನವನ್ನು ತೀವ್ರ ತರಾಟೆಗೆ ತೆಗೆದುಕೊಂಡಿದ್ದಾರೆ.\n",
              "0  ಬ್ರಸೆಲ್ಸ್: ಜಮ್ಮು ಮತ್ತು ಕಾಶ್ಮೀರ ವಿಚಾರಕ್ಕೆ ಸಂಬಂಧ...                                                                                                                \n",
              "1  ಯುರೋಪಿಯನ್ ಸಂಸತ್ ನಲ್ಲಿ ನಡೆದ ವಿಶೇಷ ಚರ್ಚೆಯಲ್ಲಿ ಭಾ...                                                                                                                \n",
              "2  ಭಯೋತ್ಪಾದಕರಿಗೆ ಆಶ್ರಯ ನೀಡಿದ್ದಕ್ಕಾಗಿ ಪಾಕಿಸ್ತಾನದ ವ...                                                                                                                \n",
              "3  ಭಾರತ ವಿಶ್ವದಲ್ಲಿಯೇ ಅತ್ಯಂತ ಶ್ರೇಷ್ಠ ಪ್ರಜಾಪ್ರಭುತ್ವ...                                                                                                                \n",
              "4                     ಈ ಉಗ್ರರು ಚಂದ್ರನಿಂದ ಬರುವುದಿಲ್ಲ.                                                                                                                "
            ]
          },
          "metadata": {
            "tags": []
          },
          "execution_count": 99
        }
      ]
    },
    {
      "cell_type": "code",
      "metadata": {
        "id": "WPoMpgLsw6JM",
        "colab_type": "code",
        "colab": {
          "base_uri": "https://localhost:8080/",
          "height": 232
        },
        "outputId": "850a45a6-fda3-4360-cab7-f31c314e6be7"
      },
      "source": [
        "data.info"
      ],
      "execution_count": 100,
      "outputs": [
        {
          "output_type": "execute_result",
          "data": {
            "text/plain": [
              "<bound method DataFrame.info of   ಜಮ್ಮು ಮತ್ತು ಕಾಶ್ಮೀರ ವಿಚಾರಕ್ಕೆ ಸಂಬಂಧಿಸಿದಂತೆ ಭಾರತವನ್ನು ಬೆಂಬಲಿಸಿರುವ ಯುರೋಪಿಯನ್ ಸಂಸದರು, ಭಯೋತ್ಪಾದಕರಿಗೆ ಆಶ್ರಯ ನೀಡುತ್ತಿರುವ ಪಾಕಿಸ್ತಾನವನ್ನು ತೀವ್ರ ತರಾಟೆಗೆ ತೆಗೆದುಕೊಂಡಿದ್ದಾರೆ.\n",
              "0  ಬ್ರಸೆಲ್ಸ್: ಜಮ್ಮು ಮತ್ತು ಕಾಶ್ಮೀರ ವಿಚಾರಕ್ಕೆ ಸಂಬಂಧ...                                                                                                                \n",
              "1  ಯುರೋಪಿಯನ್ ಸಂಸತ್ ನಲ್ಲಿ ನಡೆದ ವಿಶೇಷ ಚರ್ಚೆಯಲ್ಲಿ ಭಾ...                                                                                                                \n",
              "2  ಭಯೋತ್ಪಾದಕರಿಗೆ ಆಶ್ರಯ ನೀಡಿದ್ದಕ್ಕಾಗಿ ಪಾಕಿಸ್ತಾನದ ವ...                                                                                                                \n",
              "3  ಭಾರತ ವಿಶ್ವದಲ್ಲಿಯೇ ಅತ್ಯಂತ ಶ್ರೇಷ್ಠ ಪ್ರಜಾಪ್ರಭುತ್ವ...                                                                                                                \n",
              "4                     ಈ ಉಗ್ರರು ಚಂದ್ರನಿಂದ ಬರುವುದಿಲ್ಲ.                                                                                                                \n",
              "5                   ಅವರು ನೆರೆಯ ದೇಶದಿಂದ ಬರುತ್ತಿದ್ದಾರೆ                                                                                                                \n",
              "6  ಹೀಗಾಗಿ ನಾವು ಭಾರತವನ್ನು ಬೆಂಬಲಿಸಬೇಕಿದೆ ಎಂದು ರಿಸ್ಜ...                                                                                                                \n",
              "7  ಪಾಕಿಸ್ತಾನದಲ್ಲಿರುವ ಭಯೋತ್ಪಾದಕರು ಯುರೋಪಿನಲ್ಲಿ ರಕ್ತ...                                                                                                                \n",
              "8  ಇನ್ನು ಯುರೋಪಿಯನ್ ಕಮಿಷನ್ ಉಪಾಧ್ಯಕ್ಷರ ಪರವಾಗಿ ಮಾತನಾ...                                                                                                                \n",
              "9  ಭಾರತ-ಪಾಕಿಸ್ತಾನ ಮಾತುಕತೆ ಮೂಲಕ ಕಾಶ್ವೀರ ವಿವಾದವನ್ನು...                                                                                                                >"
            ]
          },
          "metadata": {
            "tags": []
          },
          "execution_count": 100
        }
      ]
    },
    {
      "cell_type": "code",
      "metadata": {
        "id": "nhYIhhgSw6Ma",
        "colab_type": "code",
        "colab": {
          "base_uri": "https://localhost:8080/",
          "height": 70
        },
        "outputId": "db8ff220-9fa4-48e8-f7ea-69d5a5c51a97"
      },
      "source": [
        "import os\n",
        "import nltk\n",
        "nltk.download('punkt')"
      ],
      "execution_count": 101,
      "outputs": [
        {
          "output_type": "stream",
          "text": [
            "[nltk_data] Downloading package punkt to /root/nltk_data...\n",
            "[nltk_data]   Package punkt is already up-to-date!\n"
          ],
          "name": "stdout"
        },
        {
          "output_type": "execute_result",
          "data": {
            "text/plain": [
              "True"
            ]
          },
          "metadata": {
            "tags": []
          },
          "execution_count": 101
        }
      ]
    },
    {
      "cell_type": "code",
      "metadata": {
        "id": "QPXugfatw6O9",
        "colab_type": "code",
        "colab": {}
      },
      "source": [
        "from nltk.corpus.reader.plaintext import PlaintextCorpusReader"
      ],
      "execution_count": 0,
      "outputs": []
    },
    {
      "cell_type": "code",
      "metadata": {
        "id": "23rShGUCw6Ri",
        "colab_type": "code",
        "colab": {
          "base_uri": "https://localhost:8080/",
          "height": 34
        },
        "outputId": "55a918ea-3589-46da-dbb7-ecdfdcaf5a9c"
      },
      "source": [
        "corpus=PlaintextCorpusReader(os.getcwd(),\"kannada.xlsx\")\n",
        "print(corpus)"
      ],
      "execution_count": 103,
      "outputs": [
        {
          "output_type": "stream",
          "text": [
            "<PlaintextCorpusReader in '/content'>\n"
          ],
          "name": "stdout"
        }
      ]
    },
    {
      "cell_type": "code",
      "metadata": {
        "id": "b7uYjN-0w6Uq",
        "colab_type": "code",
        "colab": {
          "base_uri": "https://localhost:8080/",
          "height": 34
        },
        "outputId": "fccad95a-bd3f-4e80-c178-3bc5be1c7cc9"
      },
      "source": [
        "print(\"Files in this corpus : \", corpus.fileids())"
      ],
      "execution_count": 104,
      "outputs": [
        {
          "output_type": "stream",
          "text": [
            "Files in this corpus :  ['kannada.xlsx']\n"
          ],
          "name": "stdout"
        }
      ]
    },
    {
      "cell_type": "code",
      "metadata": {
        "id": "n8MKHpfB9b1z",
        "colab_type": "code",
        "colab": {}
      },
      "source": [
        "data.to_csv(\"kannada.xlsx\", encoding='utf-8')"
      ],
      "execution_count": 0,
      "outputs": []
    },
    {
      "cell_type": "code",
      "metadata": {
        "id": "TGFBJ9lf9b7a",
        "colab_type": "code",
        "colab": {
          "base_uri": "https://localhost:8080/",
          "height": 90
        },
        "outputId": "c8883d05-be81-4afd-9a79-014a13ad8abe"
      },
      "source": [
        "for record in data:\n",
        "    print(record)\n",
        "    print(type(record))\n",
        "    print(record.split())"
      ],
      "execution_count": 106,
      "outputs": [
        {
          "output_type": "stream",
          "text": [
            "ಜಮ್ಮು ಮತ್ತು ಕಾಶ್ಮೀರ ವಿಚಾರಕ್ಕೆ ಸಂಬಂಧಿಸಿದಂತೆ ಭಾರತವನ್ನು ಬೆಂಬಲಿಸಿರುವ ಯುರೋಪಿಯನ್ ಸಂಸದರು, ಭಯೋತ್ಪಾದಕರಿಗೆ ಆಶ್ರಯ ನೀಡುತ್ತಿರುವ ಪಾಕಿಸ್ತಾನವನ್ನು ತೀವ್ರ ತರಾಟೆಗೆ ತೆಗೆದುಕೊಂಡಿದ್ದಾರೆ.\n",
            "<class 'str'>\n",
            "['ಜಮ್ಮು', 'ಮತ್ತು', 'ಕಾಶ್ಮೀರ', 'ವಿಚಾರಕ್ಕೆ', 'ಸಂಬಂಧಿಸಿದಂತೆ', 'ಭಾರತವನ್ನು', 'ಬೆಂಬಲಿಸಿರುವ', 'ಯುರೋಪಿಯನ್', 'ಸಂಸದರು,', 'ಭಯೋತ್ಪಾದಕರಿಗೆ', 'ಆಶ್ರಯ', 'ನೀಡುತ್ತಿರುವ', 'ಪಾಕಿಸ್ತಾನವನ್ನು', 'ತೀವ್ರ', 'ತರಾಟೆಗೆ', 'ತೆಗೆದುಕೊಂಡಿದ್ದಾರೆ.']\n"
          ],
          "name": "stdout"
        }
      ]
    },
    {
      "cell_type": "code",
      "metadata": {
        "id": "jz0fWOEE9b9x",
        "colab_type": "code",
        "colab": {
          "base_uri": "https://localhost:8080/",
          "height": 54
        },
        "outputId": "d7380d85-81b4-4ffd-b23c-3e16cb78548e"
      },
      "source": [
        "for record in data:\n",
        "    print(record.split())"
      ],
      "execution_count": 107,
      "outputs": [
        {
          "output_type": "stream",
          "text": [
            "['ಜಮ್ಮು', 'ಮತ್ತು', 'ಕಾಶ್ಮೀರ', 'ವಿಚಾರಕ್ಕೆ', 'ಸಂಬಂಧಿಸಿದಂತೆ', 'ಭಾರತವನ್ನು', 'ಬೆಂಬಲಿಸಿರುವ', 'ಯುರೋಪಿಯನ್', 'ಸಂಸದರು,', 'ಭಯೋತ್ಪಾದಕರಿಗೆ', 'ಆಶ್ರಯ', 'ನೀಡುತ್ತಿರುವ', 'ಪಾಕಿಸ್ತಾನವನ್ನು', 'ತೀವ್ರ', 'ತರಾಟೆಗೆ', 'ತೆಗೆದುಕೊಂಡಿದ್ದಾರೆ.']\n"
          ],
          "name": "stdout"
        }
      ]
    },
    {
      "cell_type": "code",
      "metadata": {
        "id": "_V7_NDF99cAk",
        "colab_type": "code",
        "colab": {}
      },
      "source": [
        "tokens = []"
      ],
      "execution_count": 0,
      "outputs": []
    },
    {
      "cell_type": "code",
      "metadata": {
        "id": "zrIfnhxN9cDL",
        "colab_type": "code",
        "colab": {}
      },
      "source": [
        "for record in data:\n",
        "    tokens.append(record.split())"
      ],
      "execution_count": 0,
      "outputs": []
    },
    {
      "cell_type": "code",
      "metadata": {
        "id": "K9WPZMOUCO-i",
        "colab_type": "code",
        "colab": {
          "base_uri": "https://localhost:8080/",
          "height": 301
        },
        "outputId": "262608f3-508a-47b5-9626-2ba45b4e1383"
      },
      "source": [
        "tokens"
      ],
      "execution_count": 110,
      "outputs": [
        {
          "output_type": "execute_result",
          "data": {
            "text/plain": [
              "[['ಜಮ್ಮು',\n",
              "  'ಮತ್ತು',\n",
              "  'ಕಾಶ್ಮೀರ',\n",
              "  'ವಿಚಾರಕ್ಕೆ',\n",
              "  'ಸಂಬಂಧಿಸಿದಂತೆ',\n",
              "  'ಭಾರತವನ್ನು',\n",
              "  'ಬೆಂಬಲಿಸಿರುವ',\n",
              "  'ಯುರೋಪಿಯನ್',\n",
              "  'ಸಂಸದರು,',\n",
              "  'ಭಯೋತ್ಪಾದಕರಿಗೆ',\n",
              "  'ಆಶ್ರಯ',\n",
              "  'ನೀಡುತ್ತಿರುವ',\n",
              "  'ಪಾಕಿಸ್ತಾನವನ್ನು',\n",
              "  'ತೀವ್ರ',\n",
              "  'ತರಾಟೆಗೆ',\n",
              "  'ತೆಗೆದುಕೊಂಡಿದ್ದಾರೆ.']]"
            ]
          },
          "metadata": {
            "tags": []
          },
          "execution_count": 110
        }
      ]
    },
    {
      "cell_type": "code",
      "metadata": {
        "id": "YnJOZggqCPBZ",
        "colab_type": "code",
        "colab": {}
      },
      "source": [
        ""
      ],
      "execution_count": 0,
      "outputs": []
    },
    {
      "cell_type": "code",
      "metadata": {
        "id": "DcPxDu-BCPFm",
        "colab_type": "code",
        "colab": {}
      },
      "source": [
        "#Create an emplty list\n",
        "tokens = []"
      ],
      "execution_count": 0,
      "outputs": []
    },
    {
      "cell_type": "code",
      "metadata": {
        "id": "DuQU8V2tCPH9",
        "colab_type": "code",
        "colab": {}
      },
      "source": [
        "#For each record split and append to tokens list\n",
        "for record in data:\n",
        "    toks = record.split()\n",
        "    tokens.append(toks)"
      ],
      "execution_count": 0,
      "outputs": []
    },
    {
      "cell_type": "code",
      "metadata": {
        "id": "QLlRGP4DCPKL",
        "colab_type": "code",
        "colab": {
          "base_uri": "https://localhost:8080/",
          "height": 301
        },
        "outputId": "9bd45c8b-b4a4-447d-8a63-b193006a2cca"
      },
      "source": [
        "tokens"
      ],
      "execution_count": 113,
      "outputs": [
        {
          "output_type": "execute_result",
          "data": {
            "text/plain": [
              "[['ಜಮ್ಮು',\n",
              "  'ಮತ್ತು',\n",
              "  'ಕಾಶ್ಮೀರ',\n",
              "  'ವಿಚಾರಕ್ಕೆ',\n",
              "  'ಸಂಬಂಧಿಸಿದಂತೆ',\n",
              "  'ಭಾರತವನ್ನು',\n",
              "  'ಬೆಂಬಲಿಸಿರುವ',\n",
              "  'ಯುರೋಪಿಯನ್',\n",
              "  'ಸಂಸದರು,',\n",
              "  'ಭಯೋತ್ಪಾದಕರಿಗೆ',\n",
              "  'ಆಶ್ರಯ',\n",
              "  'ನೀಡುತ್ತಿರುವ',\n",
              "  'ಪಾಕಿಸ್ತಾನವನ್ನು',\n",
              "  'ತೀವ್ರ',\n",
              "  'ತರಾಟೆಗೆ',\n",
              "  'ತೆಗೆದುಕೊಂಡಿದ್ದಾರೆ.']]"
            ]
          },
          "metadata": {
            "tags": []
          },
          "execution_count": 113
        }
      ]
    },
    {
      "cell_type": "code",
      "metadata": {
        "id": "nxrsEPCMCbEQ",
        "colab_type": "code",
        "colab": {}
      },
      "source": [
        "#Stop word removal\n",
        "sw = ['ಮತ್ತು','ಅವರು', 'ನಾವು', 'ಈ', 'ಹೀಗಾಗಿ', 'ನಾವು', 'ಎಂದು', 'ಎಂದರು.']"
      ],
      "execution_count": 0,
      "outputs": []
    },
    {
      "cell_type": "code",
      "metadata": {
        "id": "FnoJd1tPCbHH",
        "colab_type": "code",
        "colab": {
          "base_uri": "https://localhost:8080/",
          "height": 34
        },
        "outputId": "3f182e19-7bc7-43df-ffd1-1c375eb55d10"
      },
      "source": [
        "print(sw)"
      ],
      "execution_count": 115,
      "outputs": [
        {
          "output_type": "stream",
          "text": [
            "['ಮತ್ತು', 'ಅವರು', 'ನಾವು', 'ಈ', 'ಹೀಗಾಗಿ', 'ನಾವು', 'ಎಂದು', 'ಎಂದರು.']\n"
          ],
          "name": "stdout"
        }
      ]
    },
    {
      "cell_type": "code",
      "metadata": {
        "id": "VaZS-1_-CbJV",
        "colab_type": "code",
        "colab": {}
      },
      "source": [
        "#Remove the stop words from tokens\n",
        "ref_corpus = []\n",
        "for record in tokens:\n",
        "    new_record = []\n",
        "    #print(record)\n",
        "    for word in record:\n",
        "        if word in sw:\n",
        "            #print(word)\n",
        "            pass\n",
        "        else:\n",
        "            new_record.append(word)\n",
        "            #print(new_record)\n",
        "    ref_corpus.append(new_record)\n",
        "    #print(ref_corpus)"
      ],
      "execution_count": 0,
      "outputs": []
    },
    {
      "cell_type": "code",
      "metadata": {
        "id": "A6jeI_ydCbLe",
        "colab_type": "code",
        "colab": {
          "base_uri": "https://localhost:8080/",
          "height": 54
        },
        "outputId": "66c5ba9a-9145-48a4-a78a-0cfdf222d572"
      },
      "source": [
        "print(ref_corpus)"
      ],
      "execution_count": 117,
      "outputs": [
        {
          "output_type": "stream",
          "text": [
            "[['ಜಮ್ಮು', 'ಕಾಶ್ಮೀರ', 'ವಿಚಾರಕ್ಕೆ', 'ಸಂಬಂಧಿಸಿದಂತೆ', 'ಭಾರತವನ್ನು', 'ಬೆಂಬಲಿಸಿರುವ', 'ಯುರೋಪಿಯನ್', 'ಸಂಸದರು,', 'ಭಯೋತ್ಪಾದಕರಿಗೆ', 'ಆಶ್ರಯ', 'ನೀಡುತ್ತಿರುವ', 'ಪಾಕಿಸ್ತಾನವನ್ನು', 'ತೀವ್ರ', 'ತರಾಟೆಗೆ', 'ತೆಗೆದುಕೊಂಡಿದ್ದಾರೆ.']]\n"
          ],
          "name": "stdout"
        }
      ]
    },
    {
      "cell_type": "code",
      "metadata": {
        "id": "ZWo7prVkPP-g",
        "colab_type": "code",
        "colab": {
          "base_uri": "https://localhost:8080/",
          "height": 34
        },
        "outputId": "17699ff0-32ce-4ed1-b5a2-2ce60b0ecdcb"
      },
      "source": [
        "from urllib.request import urlopen \n",
        "response = urlopen('https://www.kannadaprabha.com/world/2019/sep/18/european-parliamentarians-back-india-on-kashmir-slam-pakistan-for-harbouring-terrorists-402254.html') \n",
        "html = response.read() \n",
        "print(len(html)) \n",
        "tokens = [tok for tok in html.split()]"
      ],
      "execution_count": 118,
      "outputs": [
        {
          "output_type": "stream",
          "text": [
            "102758\n"
          ],
          "name": "stdout"
        }
      ]
    },
    {
      "cell_type": "code",
      "metadata": {
        "id": "RfiKRPSgPQBg",
        "colab_type": "code",
        "colab": {
          "base_uri": "https://localhost:8080/",
          "height": 1000
        },
        "outputId": "38cb885a-07f1-4706-c895-f8d417c8a48b"
      },
      "source": [
        " #We clean it a bit \n",
        "from bs4 import BeautifulSoup \n",
        "print(\"Calling BS4\") \n",
        "soup = BeautifulSoup(html, 'html.parser') \n",
        "# kill all script and style elements \n",
        "for script in soup([\"script\", \"style\"]):    \n",
        "    script.extract()"
      ],
      "execution_count": 119,
      "outputs": [
        {
          "output_type": "stream",
          "text": [
            "Calling BS4\n"
          ],
          "name": "stdout"
        },
        {
          "output_type": "stream",
          "text": [
            "Some characters could not be decoded, and were replaced with REPLACEMENT CHARACTER.\n"
          ],
          "name": "stderr"
        },
        {
          "output_type": "execute_result",
          "data": {
            "text/plain": [
              "<script type=\"text/javascript\">\n",
              "          if ((navigator.userAgent.match(/(iphone)|(ipod)|(android)|(blackberry)|(windows phone)|(symbian)/i))){\n",
              "                  if(location.pathname=='/'){\n",
              "                      var request_uri = 'https://m.kannadaprabha.com/';\n",
              "                      top.location.href= request_uri;\n",
              "                  }\n",
              "                  else {\n",
              "                      var request_uri = \"https://m.kannadaprabha.com/article/world/european-parliamentarians-back-india-on-kashmir-slam-pakistan-for-harbouring-terrorists/402254\";\n",
              "                      top.location.href= request_uri;\n",
              "                  }\n",
              "              }\n",
              "</script>"
            ]
          },
          "metadata": {
            "tags": []
          },
          "execution_count": 119
        },
        {
          "output_type": "execute_result",
          "data": {
            "text/plain": [
              "<script type=\"application/x-javascript\"> addEventListener(\"load\", function() { setTimeout(hideURLbar, 0); }, false); function hideURLbar(){ if (window.scrollY == 0) window.scrollTo(0,1); }; </script>"
            ]
          },
          "metadata": {
            "tags": []
          },
          "execution_count": 119
        },
        {
          "output_type": "execute_result",
          "data": {
            "text/plain": [
              "<script src=\"https://ajax.googleapis.com/ajax/libs/jquery/2.1.3/jquery.min.js\"></script>"
            ]
          },
          "metadata": {
            "tags": []
          },
          "execution_count": 119
        },
        {
          "output_type": "execute_result",
          "data": {
            "text/plain": [
              "<script src=\"https://media.kannadaprabha.com/js/FrontEnd/js/slider-custom-lazy.min.js\" type=\"text/javascript\"></script>"
            ]
          },
          "metadata": {
            "tags": []
          },
          "execution_count": 119
        },
        {
          "output_type": "execute_result",
          "data": {
            "text/plain": [
              "<script type=\"text/javascript\">\n",
              "\t  var Section_id = '4';\n",
              "\t  var PSection_id = '';\n",
              "\t  var GPSection_id = '';\n",
              "\t  var view_mode = 'live';\n",
              "\t  var css_path = 'https://media.kannadaprabha.com/css/FrontEnd/';\n",
              "\t  \t   var call_active_menu = 1;\n",
              "\t   \t    var call_otherstories = 1;\n",
              "\t  $(document).ready(function () {\n",
              "<!--replace slick preview as arrow-->\n",
              "$('.slick-prev').addClass('fa fa-chevron-left');\n",
              "$('.slick-next').addClass('fa fa-chevron-right');\t\n",
              "});\n",
              "</script>"
            ]
          },
          "metadata": {
            "tags": []
          },
          "execution_count": 119
        },
        {
          "output_type": "execute_result",
          "data": {
            "text/plain": [
              "<script type=\"application/ld+json\">\n",
              "{\n",
              "\t\"@context\":\"http://schema.org\",\n",
              "\t\"@type\":\"NewsArticle\",\n",
              "\t\"mainEntityOfPage\":{\n",
              "\t\t\"@type\":\"WebPage\",\n",
              "\t\t\"@id\":\"https://www.kannadaprabha.com/world/2019/sep/18/european-parliamentarians-back-india-on-kashmir-slam-pakistan-for-harbouring-terrorists-402254.html\"\n",
              "\t},\n",
              "\t\"headline\":\"ಕಾಶ್ಮೀರ ವಿವಾದ: ಭಾರತದ ಬೆಂಬಲಕ್ಕೆ ನಿಂತ ಯುರ�...\",\n",
              "\t\"description\":\"ಜಮ್ಮು ಮತ್ತು ಕಾಶ್ಮೀರ ವಿಚಾರಕ್ಕೆ ಸಂಬಂಧಿಸಿದಂತೆ ಭಾರತವನ್ನು ಬೆಂಬಲಿಸಿರುವ ಯುರೋಪಿಯನ್ ಸಂಸದರು, ಭಯೋತ್ಪಾದಕರಿಗೆ ಆಶ್ರಯ ನೀಡುತ್ತಿರುವ ಪಾಕಿಸ್ತಾನವನ್ನು ತೀವ್ರ ತರಾಟೆಗೆ ತೆಗೆದುಕೊಂಡಿದ್ದಾರೆ.\",\n",
              "\t\t\"articleBody\":\"ಬ್ರಸೆಲ್ಸ್: ಜಮ್ಮು ಮತ್ತು ಕಾಶ್ಮೀರ ವಿಚಾರಕ್ಕೆ ಸಂಬಂಧಿಸಿದಂತೆ ಭಾರತವನ್ನು ಬೆಂಬಲಿಸಿರುವ ಯುರೋಪಿಯನ್ ಸಂಸದರು, ಭಯೋತ್ಪಾದಕರಿಗೆ ಆಶ್ರಯ ನೀಡುತ್ತಿರುವ ಪಾಕಿಸ್ತಾನವನ್ನು ತೀವ್ರ ತರಾಟೆಗೆ ತೆಗೆದುಕೊಂಡಿದ್ದಾರೆ.\n",
              "\n",
              "ಯುರೋಪಿಯನ್ ಸಂಸತ್ ನಲ್ಲಿ ನಡೆದ ವಿಶೇಷ ಚರ್ಚೆಯಲ್ಲಿ ಭಾಗವಹಿಸಿ ಮಾತನಾಡಿದ ಸಂಸದರಾದ ರಿಸ್ಜಾರ್ಡ್ ಜಾರ್ನೆಕಿ ಮತ್ತು ಫುಲ್ವಿಯೊ ಮಾರ್ಟುಸ್ಸಿಯೆಲ್ಲೊ ಅವರು, ಭಾರತ ಶ್ರೇಷ್ಠ ಪ್ರಜಾಪ್ರಭುತ್ವವನ್ನು ಹೊಂದಿದೆ ಎಂದು ಹೇಳುವ ಮೂಲಕ ಭಾರತವನ್ನು ಬೆಂಬಲಿಸಿದ್ದಾರೆ.&amp;nbsp;\n",
              "\n",
              "ಭಯೋತ್ಪಾದಕರಿಗೆ ಆಶ್ರಯ ನೀಡಿದ್ದಕ್ಕಾಗಿ ಪಾಕಿಸ್ತಾನದ ವಿರುದ್ಧ ವಾಗ್ದಾಳಿ ನಡೆಸಿದ ಯುರೋಪಿಯನ್ ಸಂಸದರು, ಪಾಕಿಸ್ತಾನ ಅಣು ಬಾಂಬ್ ಬೆದರಿಕೆ ಅತ್ಯಂತ ಕಳವಳಕಾರಿ ಎಂದು ಹೇಳಿದ್ದಾರೆ.\n",
              "\n",
              "ಭಾರತ ವಿಶ್ವದಲ್ಲಿಯೇ ಅತ್ಯಂತ ಶ್ರೇಷ್ಠ ಪ್ರಜಾಪ್ರಭುತ್ವ ಹೊಂದಿದೆ. ಭಾರತದ ಜಮ್ಮು ಮತ್ತು ಕಾಶ್ಮೀರದಲ್ಲಿನ ಭಯೋತ್ಪಾದನಾ ಕೃತ್ಯಗಳನ್ನು ನಾವು ಗಮನಿಸಬೇಕಿದೆ. ಈ ಉಗ್ರರು ಚಂದ್ರನಿಂದ ಬರುವುದಿಲ್ಲ. ಅವರು ನೆರೆಯ ದೇಶದಿಂದ ಬರುತ್ತಿದ್ದಾರೆ. ಹೀಗಾಗಿ ನಾವು ಭಾರತವನ್ನು ಬೆಂಬಲಿಸಬೇಕಿದೆ ಎಂದು ರಿಸ್ಜಾರ್ಡ್ ಜಾರ್ನೆಕಿ ಅವರು ಹೇಳಿದ್ದಾರೆ.\n",
              "\n",
              "ಪಾಕಿಸ್ತಾನದಲ್ಲಿರುವ ಭಯೋತ್ಪಾದಕರು ಯುರೋಪಿನಲ್ಲಿ ರಕ್ತಸಿಕ್ತ ಉಗ್ರ ದಾಳಿಗೆ ಸಂಚು ರೂಪಿಸಲು ಸಮರ್ಥರಾಗಿದ್ದಾರೆ ಎಂದು ಆರೋಪಿಸಿದ ಮಾರ್ಟುಸ್ಸಿಲ್ಲೊ, ಇಸ್ಲಾಮಾಬಾದ್ ಮಾನವ ಹಕ್ಕುಗಳನ್ನು ಉಲ್ಲಂಘಿಸಿದೆ ಎಂದರು.\n",
              "\n",
              "ಇನ್ನು ಯುರೋಪಿಯನ್ ಕಮಿಷನ್ ಉಪಾಧ್ಯಕ್ಷರ ಪರವಾಗಿ ಮಾತನಾಡಿದ ಇಯು ಸಚಿವ ಟೈಟ್ಟಿ ತುಪ್ಪುರೈನೆನ್ ಅವರು,&amp;#39;ಕಾಶ್ಮೀರದಲ್ಲಿ ಉದ್ವಿಗ್ನ ಪರಿಸ್ಥಿತಿಗೆ ಅವಕಾಶ ನೀಡಬಾರದು. ಭಾರತ-ಪಾಕಿಸ್ತಾನ ಮಾತುಕತೆ ಮೂಲಕ ಕಾಶ್ವೀರ ವಿವಾದವನ್ನು ಇತ್ಯರ್ಥಪಡಿಸಿಕೊಳ್ಳಬೇಕು ಎಂದು ಒತ್ತಾಯಿಸಿದರು.\",\n",
              "\t\t\"articleSection\" : \"ಅಂತಾರಾಷ್ಟ್ರೀಯ\",\n",
              "\t\t\"wordCount\" : \"3312\",\n",
              "\t\t\"datePublished\":\"2019-09-18IST19:29:00+05:30\",\n",
              "\t\"dateModified\":\"2019-09-18IST19:29:00+05:30\",\n",
              "\t\"publisher\":{\n",
              "\t\t\"@type\":\"Organization\",\n",
              "\t\t\"name\":\"kannadaprabha\",\n",
              "\t\t\"logo\":{\n",
              "\t\t\t\"@type\":\"ImageObject\",\n",
              "\t\t\t\"url\":\"https://media.kannadaprabha.com/images/FrontEnd/images/NIE-logo21.jpg\",\n",
              "\t\t\t\"width\":\"165\",\n",
              "\t\t\t\"height\":\"60\"\n",
              "\t\t\t}\n",
              "\t},\n",
              "\t\"author\":{\n",
              "\t\t\"@type\":\"Person\",\n",
              "\t\t\"name\":\"PTI\"\n",
              "\t},\n",
              "\t\"image\":{\n",
              "\t\t\"@type\":\"ImageObject\",\n",
              "\t\t\"url\":\"https://media.kannadaprabha.com/uploads/user/imagelibrary/2019/9/10/w600X390/kashmir-023.jpg\",\n",
              "\t\t\"width\":\"600\",\n",
              "\t\t\"height\":\"390\"\n",
              "\t}\n",
              "}\n",
              "</script>"
            ]
          },
          "metadata": {
            "tags": []
          },
          "execution_count": 119
        },
        {
          "output_type": "execute_result",
          "data": {
            "text/plain": [
              "<script>\n",
              "  (function(i,s,o,g,r,a,m){i['GoogleAnalyticsObject']=r;i[r]=i[r]||function(){\n",
              "  (i[r].q=i[r].q||[]).push(arguments)},i[r].l=1*new Date();a=s.createElement(o),\n",
              "  m=s.getElementsByTagName(o)[0];a.async=1;a.src=g;m.parentNode.insertBefore(a,m)\n",
              "  })(window,document,'script','//www.google-analytics.com/analytics.js','ga');\n",
              "  ga('create', 'UA-2311935-3', 'auto');\n",
              "  ga('require', 'displayfeatures');\n",
              "  ga('send', 'pageview');\n",
              "  setTimeout(\"ga('send','event','adjusted bounce rate','page visit 60 seconds or more')\",60000);\n",
              "</script>"
            ]
          },
          "metadata": {
            "tags": []
          },
          "execution_count": 119
        },
        {
          "output_type": "execute_result",
          "data": {
            "text/plain": [
              "<script>\n",
              "var _comscore = _comscore || [];\n",
              "_comscore.push({ c1: \"2\", c2: \"16833363\" });\n",
              "(function() {\n",
              "var s = document.createElement(\"script\"), el = document.getElementsByTagName(\"script\")[0]; s.async = true;\n",
              "s.src = (document.location.protocol == \"https:\" ? \"https://sb\" : \"http://b\") + \".//scorecardresearch.com/beacon.js\";\n",
              "el.parentNode.insertBefore(s, el);\n",
              "})();\n",
              "</script>"
            ]
          },
          "metadata": {
            "tags": []
          },
          "execution_count": 119
        },
        {
          "output_type": "execute_result",
          "data": {
            "text/plain": [
              "<style>\n",
              ".cssload-container-article img{\n",
              "position: absolute;\n",
              "    right:0;\n",
              "    top: 0;\n",
              "    width: 70px;\n",
              "}\n",
              ".cssload-container-article .cssload-zenith {\n",
              "    height: 70px;\n",
              "    width: 70px;\n",
              "}\n",
              ".cssload-container-article figure{ \n",
              "    left: 50%;\n",
              "    position: fixed;\n",
              "    top: 50%;\n",
              "}\n",
              "\n",
              ".CenterMarginBg{\n",
              "\tz-index:0;\n",
              "}\n",
              "\n",
              "@media only screen and (max-width: 1550px) and (min-width: 1297px){\n",
              "\n",
              ".main-menu {\n",
              "\t margin-left: 0 !important;\n",
              "\t  width: 71% ;\n",
              "}\n",
              ".widget-container-30 .col-lg-12{\n",
              "\tpadding:0 !important;\n",
              "}\n",
              "\n",
              ".RightArrow {\n",
              "    margin-left: 1085px;\n",
              "    top: 360px;\n",
              "}\n",
              ".LeftArrow{\n",
              "left: 38px;\n",
              "}\n",
              ".PrintSocial{\n",
              "\tleft:1%;\n",
              "}\n",
              "}\n",
              "\n",
              ".article-col .col-md-4{\n",
              "\tmargin-top:3%;\n",
              "}\n",
              ".LeftArrow,.RightArrow{\n",
              "\tdisplay:none !important;\n",
              "}\n",
              ".section-header,.section-content,.section-footer{\n",
              "\tbackground:transparent;\n",
              "}\n",
              "</style>"
            ]
          },
          "metadata": {
            "tags": []
          },
          "execution_count": 119
        },
        {
          "output_type": "execute_result",
          "data": {
            "text/plain": [
              "<script async=\"async\" src=\"https://www.googletagservices.com/tag/js/gpt.js\"></script>"
            ]
          },
          "metadata": {
            "tags": []
          },
          "execution_count": 119
        },
        {
          "output_type": "execute_result",
          "data": {
            "text/plain": [
              "<script>\n",
              "  var googletag = googletag || {};\n",
              "  googletag.cmd = googletag.cmd || [];\n",
              "</script>"
            ]
          },
          "metadata": {
            "tags": []
          },
          "execution_count": 119
        },
        {
          "output_type": "execute_result",
          "data": {
            "text/plain": [
              "<script>\n",
              "  googletag.cmd.push(function() {\n",
              "    googletag.defineSlot('/3167926/KNP_Art_7x9_3x1', [728, 90], 'div-gpt-ad-1527580314955-0').addService(googletag.pubads());\n",
              "    googletag.pubads().enableSingleRequest();\n",
              "    googletag.enableServices();\n",
              "  });\n",
              "</script>"
            ]
          },
          "metadata": {
            "tags": []
          },
          "execution_count": 119
        },
        {
          "output_type": "execute_result",
          "data": {
            "text/plain": [
              "<script>\n",
              "googletag.cmd.push(function() { googletag.display('div-gpt-ad-1527580314955-0'); });\n",
              "</script>"
            ]
          },
          "metadata": {
            "tags": []
          },
          "execution_count": 119
        },
        {
          "output_type": "execute_result",
          "data": {
            "text/plain": [
              "<style>\n",
              ".main_logo{\ttext-align: left; }\n",
              ".social-icons-wrapper {\twidth:100% !important;    text-align: center;    margin-top: 15%; }\n",
              ".large-screen-search { float: left; }\n",
              ".social-icon-set { float:none; margin-right: 1px; cursor: pointer; display: inline-block; }\n",
              ".social-icons-wrapper .social-icon-set-youtube { margin-right: 0; }\n",
              ".social-icons-wrapper .social-icon-set-fb { margin: 0; }\n",
              ".search1 { height: 40px !important;  float: left; width: 100%;}\n",
              ".search1 .navbar-form { margin-top: 0px !important; width: 100%; padding: 0;}\n",
              ".search1 .input-group {width: 100%;}\n",
              ".search1 .input-group-btn {width: 1% !important;}\n",
              "#error_throw{font-family: Droid regular !important;}\n",
              "#current_time{width:100%;}\n",
              "\n",
              "</style>"
            ]
          },
          "metadata": {
            "tags": []
          },
          "execution_count": 119
        },
        {
          "output_type": "execute_result",
          "data": {
            "text/plain": [
              "<script src=\"https://media.kannadaprabha.com/js/FrontEnd/js/highcharts.js\"></script>"
            ]
          },
          "metadata": {
            "tags": []
          },
          "execution_count": 119
        },
        {
          "output_type": "execute_result",
          "data": {
            "text/plain": [
              "<script type=\"text/javascript\">\n",
              "\t\t\t$(document).ready(function() {\n",
              "\t\t\t\t$('#SimpleSearchForm').submit(function(e){\n",
              "\t\t\t\t\te.preventDefault();\n",
              "\t\t\t\t\tif($('#srch-term').val().trim()==''){\n",
              "\t\t\t\t\t\t$('#error_throw').html('Please provide search keyword(s)').addClass('error');\n",
              "\t\t\t\t\t\t$('#srch-term').addClass('error');\n",
              "\t\t\t\t\t}else{\n",
              "\t\t\t\t\t\t$('#error_throw').html('').removeClass('error');\n",
              "\t\t\t\t\t\t$('#srch-term').removeClass('error');\n",
              "\t\t\t\t\t\twindow.location.href=base_url+'topic?term='+$('#srch-term').val()+'&request=ALL&search=short';\n",
              "\t\t\t\t\t}\n",
              "\t\t\t\t\t\n",
              "\t\t\t\t\t\n",
              "\t\t\t\t});\n",
              "\t\t\t});\n",
              "\t\t</script>"
            ]
          },
          "metadata": {
            "tags": []
          },
          "execution_count": 119
        },
        {
          "output_type": "execute_result",
          "data": {
            "text/plain": [
              "<script>\n",
              "$(document).ready(function(){\n",
              "        <!--Dropdown Menu--> \n",
              "\t$( \"#tabs1 li\" ).hover( function(){\n",
              "      $(this).tab('show'); \n",
              "    });\n",
              "\t\t       <!--Dropdown Menu--> \n",
              "\t$( \"#tabs7 li\" ).hover( function(){\n",
              "      $(this).tab('show'); \n",
              "    });\n",
              "\t\t       <!--Dropdown Menu--> \n",
              "\t$( \"#tabs2 li\" ).hover( function(){\n",
              "      $(this).tab('show'); \n",
              "    });\n",
              "\t\t       <!--Dropdown Menu--> \n",
              "\t$( \"#tabs4 li\" ).hover( function(){\n",
              "      $(this).tab('show'); \n",
              "    });\n",
              "\t\t       <!--Dropdown Menu--> \n",
              "\t$( \"#tabs5 li\" ).hover( function(){\n",
              "      $(this).tab('show'); \n",
              "    });\n",
              "\t\t       <!--Dropdown Menu--> \n",
              "\t$( \"#tabs6 li\" ).hover( function(){\n",
              "      $(this).tab('show'); \n",
              "    });\n",
              "\t\t       <!--Dropdown Menu--> \n",
              "\t$( \"#tabs3 li\" ).hover( function(){\n",
              "      $(this).tab('show'); \n",
              "    });\n",
              "\t\t       <!--Dropdown Menu--> \n",
              "\t$( \"#tabs17 li\" ).hover( function(){\n",
              "      $(this).tab('show'); \n",
              "    });\n",
              "\t\t       <!--Dropdown Menu--> \n",
              "\t$( \"#tabs14 li\" ).hover( function(){\n",
              "      $(this).tab('show'); \n",
              "    });\n",
              "\t\t       <!--Dropdown Menu--> \n",
              "\t$( \"#tabs11 li\" ).hover( function(){\n",
              "      $(this).tab('show'); \n",
              "    });\n",
              "\t\t       <!--Dropdown Menu--> \n",
              "\t$( \"#tabs9 li\" ).hover( function(){\n",
              "      $(this).tab('show'); \n",
              "    });\n",
              "\t\t       <!--Dropdown Menu--> \n",
              "\t$( \"#tabs12 li\" ).hover( function(){\n",
              "      $(this).tab('show'); \n",
              "    });\n",
              "\t\t       <!--Dropdown Menu--> \n",
              "\t$( \"#tabs8 li\" ).hover( function(){\n",
              "      $(this).tab('show'); \n",
              "    });\n",
              "\t\t       <!--Dropdown Menu--> \n",
              "\t$( \"#tabs10 li\" ).hover( function(){\n",
              "      $(this).tab('show'); \n",
              "    });\n",
              "\t\t       <!--Dropdown Menu--> \n",
              "\t$( \"#tabs13 li\" ).hover( function(){\n",
              "      $(this).tab('show'); \n",
              "    });\n",
              "\t\t       <!--Dropdown Menu--> \n",
              "\t$( \"#tabs15 li\" ).hover( function(){\n",
              "      $(this).tab('show'); \n",
              "    });\n",
              "\t\t       <!--Dropdown Menu--> \n",
              "\t$( \"#tabs16 li\" ).hover( function(){\n",
              "      $(this).tab('show'); \n",
              "    });\n",
              "\t\t       <!--Dropdown Menu--> \n",
              "\t$( \"#tabs21 li\" ).hover( function(){\n",
              "      $(this).tab('show'); \n",
              "    });\n",
              "\t\t       <!--Dropdown Menu--> \n",
              "\t$( \"#tabs24 li\" ).hover( function(){\n",
              "      $(this).tab('show'); \n",
              "    });\n",
              "\t\t       <!--Dropdown Menu--> \n",
              "\t$( \"#tabs30 li\" ).hover( function(){\n",
              "      $(this).tab('show'); \n",
              "    });\n",
              "\t\t       <!--Dropdown Menu--> \n",
              "\t$( \"#tabs38 li\" ).hover( function(){\n",
              "      $(this).tab('show'); \n",
              "    });\n",
              "\t\t       <!--Dropdown Menu--> \n",
              "\t$( \"#tabs39 li\" ).hover( function(){\n",
              "      $(this).tab('show'); \n",
              "    });\n",
              "\t\t       <!--Dropdown Menu--> \n",
              "\t$( \"#tabs43 li\" ).hover( function(){\n",
              "      $(this).tab('show'); \n",
              "    });\n",
              "\t\t       <!--Dropdown Menu--> \n",
              "\t$( \"#tabs44 li\" ).hover( function(){\n",
              "      $(this).tab('show'); \n",
              "    });\n",
              "\t\t       <!--Dropdown Menu--> \n",
              "\t$( \"#tabs45 li\" ).hover( function(){\n",
              "      $(this).tab('show'); \n",
              "    });\n",
              "\t\t       <!--Dropdown Menu--> \n",
              "\t$( \"#tabs48 li\" ).hover( function(){\n",
              "      $(this).tab('show'); \n",
              "    });\n",
              "\t\t       <!--Dropdown Menu--> \n",
              "\t$( \"#tabs51 li\" ).hover( function(){\n",
              "      $(this).tab('show'); \n",
              "    });\n",
              "\t\t       <!--Dropdown Menu--> \n",
              "\t$( \"#tabs52 li\" ).hover( function(){\n",
              "      $(this).tab('show'); \n",
              "    });\n",
              "\t\t       <!--Dropdown Menu--> \n",
              "\t$( \"#tabs53 li\" ).hover( function(){\n",
              "      $(this).tab('show'); \n",
              "    });\n",
              "\t\t       <!--Dropdown Menu--> \n",
              "\t$( \"#tabs54 li\" ).hover( function(){\n",
              "      $(this).tab('show'); \n",
              "    });\n",
              "\t\t       <!--Dropdown Menu--> \n",
              "\t$( \"#tabs58 li\" ).hover( function(){\n",
              "      $(this).tab('show'); \n",
              "    });\n",
              "\t\t       <!--Dropdown Menu--> \n",
              "\t$( \"#tabs59 li\" ).hover( function(){\n",
              "      $(this).tab('show'); \n",
              "    });\n",
              "\t\t       <!--Dropdown Menu--> \n",
              "\t$( \"#tabs60 li\" ).hover( function(){\n",
              "      $(this).tab('show'); \n",
              "    });\n",
              "\t\t       <!--Dropdown Menu--> \n",
              "\t$( \"#tabs61 li\" ).hover( function(){\n",
              "      $(this).tab('show'); \n",
              "    });\n",
              "\t\t       <!--Dropdown Menu--> \n",
              "\t$( \"#tabs62 li\" ).hover( function(){\n",
              "      $(this).tab('show'); \n",
              "    });\n",
              "\t\t       <!--Dropdown Menu--> \n",
              "\t$( \"#tabs65 li\" ).hover( function(){\n",
              "      $(this).tab('show'); \n",
              "    });\n",
              "\t\t       <!--Dropdown Menu--> \n",
              "\t$( \"#tabs66 li\" ).hover( function(){\n",
              "      $(this).tab('show'); \n",
              "    });\n",
              "\t\t       <!--Dropdown Menu--> \n",
              "\t$( \"#tabs67 li\" ).hover( function(){\n",
              "      $(this).tab('show'); \n",
              "    });\n",
              "\t\t       <!--Dropdown Menu--> \n",
              "\t$( \"#tabs70 li\" ).hover( function(){\n",
              "      $(this).tab('show'); \n",
              "    });\n",
              "\t\t       <!--Dropdown Menu--> \n",
              "\t$( \"#tabs73 li\" ).hover( function(){\n",
              "      $(this).tab('show'); \n",
              "    });\n",
              "\t\t       <!--Dropdown Menu--> \n",
              "\t$( \"#tabs74 li\" ).hover( function(){\n",
              "      $(this).tab('show'); \n",
              "    });\n",
              "\t\t       <!--Dropdown Menu--> \n",
              "\t$( \"#tabs78 li\" ).hover( function(){\n",
              "      $(this).tab('show'); \n",
              "    });\n",
              "\t\t       <!--Dropdown Menu--> \n",
              "\t$( \"#tabs79 li\" ).hover( function(){\n",
              "      $(this).tab('show'); \n",
              "    });\n",
              "\t\t       <!--Dropdown Menu--> \n",
              "\t$( \"#tabs82 li\" ).hover( function(){\n",
              "      $(this).tab('show'); \n",
              "    });\n",
              "\t\t       <!--Dropdown Menu--> \n",
              "\t$( \"#tabs83 li\" ).hover( function(){\n",
              "      $(this).tab('show'); \n",
              "    });\n",
              "\t\t       <!--Dropdown Menu--> \n",
              "\t$( \"#tabs87 li\" ).hover( function(){\n",
              "      $(this).tab('show'); \n",
              "    });\n",
              "\t\t       <!--Dropdown Menu--> \n",
              "\t$( \"#tabs88 li\" ).hover( function(){\n",
              "      $(this).tab('show'); \n",
              "    });\n",
              "\t\t       <!--Dropdown Menu--> \n",
              "\t$( \"#tabs89 li\" ).hover( function(){\n",
              "      $(this).tab('show'); \n",
              "    });\n",
              "\t\t       <!--Dropdown Menu--> \n",
              "\t$( \"#tabs90 li\" ).hover( function(){\n",
              "      $(this).tab('show'); \n",
              "    });\n",
              "\t\t       <!--Dropdown Menu--> \n",
              "\t$( \"#tabs91 li\" ).hover( function(){\n",
              "      $(this).tab('show'); \n",
              "    });\n",
              "\t\t       <!--Dropdown Menu--> \n",
              "\t$( \"#tabs92 li\" ).hover( function(){\n",
              "      $(this).tab('show'); \n",
              "    });\n",
              "\t\t       <!--Dropdown Menu--> \n",
              "\t$( \"#tabs98 li\" ).hover( function(){\n",
              "      $(this).tab('show'); \n",
              "    });\n",
              "\t\t       <!--Dropdown Menu--> \n",
              "\t$( \"#tabs99 li\" ).hover( function(){\n",
              "      $(this).tab('show'); \n",
              "    });\n",
              "\t\t       <!--Dropdown Menu--> \n",
              "\t$( \"#tabs103 li\" ).hover( function(){\n",
              "      $(this).tab('show'); \n",
              "    });\n",
              "\t\t       <!--Dropdown Menu--> \n",
              "\t$( \"#tabs131 li\" ).hover( function(){\n",
              "      $(this).tab('show'); \n",
              "    });\n",
              "\t\t       <!--Dropdown Menu--> \n",
              "\t$( \"#tabs136 li\" ).hover( function(){\n",
              "      $(this).tab('show'); \n",
              "    });\n",
              "\t\t       <!--Dropdown Menu--> \n",
              "\t$( \"#tabs137 li\" ).hover( function(){\n",
              "      $(this).tab('show'); \n",
              "    });\n",
              "\t\t       <!--Dropdown Menu--> \n",
              "\t$( \"#tabs138 li\" ).hover( function(){\n",
              "      $(this).tab('show'); \n",
              "    });\n",
              "\t\t       <!--Dropdown Menu--> \n",
              "\t$( \"#tabs139 li\" ).hover( function(){\n",
              "      $(this).tab('show'); \n",
              "    });\n",
              "\t\t       <!--Dropdown Menu--> \n",
              "\t$( \"#tabs141 li\" ).hover( function(){\n",
              "      $(this).tab('show'); \n",
              "    });\n",
              "\t\t       <!--Dropdown Menu--> \n",
              "\t$( \"#tabs142 li\" ).hover( function(){\n",
              "      $(this).tab('show'); \n",
              "    });\n",
              "\t\t       <!--Dropdown Menu--> \n",
              "\t$( \"#tabs143 li\" ).hover( function(){\n",
              "      $(this).tab('show'); \n",
              "    });\n",
              "\t\t       <!--Dropdown Menu--> \n",
              "\t$( \"#tabs151 li\" ).hover( function(){\n",
              "      $(this).tab('show'); \n",
              "    });\n",
              "\t\t       <!--Dropdown Menu--> \n",
              "\t$( \"#tabs153 li\" ).hover( function(){\n",
              "      $(this).tab('show'); \n",
              "    });\n",
              "\t\t       <!--Dropdown Menu--> \n",
              "\t$( \"#tabs154 li\" ).hover( function(){\n",
              "      $(this).tab('show'); \n",
              "    });\n",
              "\t\t       <!--Dropdown Menu--> \n",
              "\t$( \"#tabs155 li\" ).hover( function(){\n",
              "      $(this).tab('show'); \n",
              "    });\n",
              "\t\t       <!--Dropdown Menu--> \n",
              "\t$( \"#tabs156 li\" ).hover( function(){\n",
              "      $(this).tab('show'); \n",
              "    });\n",
              "\t\t       <!--Dropdown Menu--> \n",
              "\t$( \"#tabs157 li\" ).hover( function(){\n",
              "      $(this).tab('show'); \n",
              "    });\n",
              "\t\t       <!--Dropdown Menu--> \n",
              "\t$( \"#tabs159 li\" ).hover( function(){\n",
              "      $(this).tab('show'); \n",
              "    });\n",
              "\t\t       <!--Dropdown Menu--> \n",
              "\t$( \"#tabs160 li\" ).hover( function(){\n",
              "      $(this).tab('show'); \n",
              "    });\n",
              "\t\t  \t\t  setTimeout(function(){sessionStorage.clear(); }, 240000);  //clear Session Storage every 4 mins\n",
              "});\n",
              "//$('.menus li:nth-last-child(2)').addClass('jumbo_full');\n",
              "//$('.menus li:nth-last-child(3)').addClass('jumbo_full');\n",
              "\n",
              "\t   function show_main_menu(menuId, type){\n",
              "\t\t   var storage_name = \"menu_content_\"+menuId;\n",
              "\t\t   if (sessionStorage.getItem(storage_name)) { \t// Code for localStorage/sessionStorage.\n",
              "\t\t var sessiondata = sessionStorage.getItem(storage_name);\n",
              "\t\t\tif(type=='main'){\n",
              "\t\t\t   $('#maintabs_content-'+menuId).html(sessiondata);\n",
              "\t\t\t   $('#maintabs-'+menuId).removeAttr('onmouseover');\n",
              "\t\t\t   }else{\n",
              "\t\t\t\t$('#tabs-'+menuId).html(sessiondata);\n",
              "\t\t\t   $('#maintabs-'+type).removeAttr('onmouseover');\n",
              "\t\t\t   $('#subtabs-'+menuId).removeAttr('data-id');\n",
              "\t\t\t\t$('#subtabs-'+menuId).removeAttr('onmouseover');\n",
              "\t\t\t   }\n",
              "\t\t\t} else { // Sorry! No Web Storage support..\n",
              "\t\t $.ajax({\n",
              "\t\t\turl\t\t\t: 'https://www.kannadaprabha.com/user/commonwidget/get_menu_content',\n",
              "\t\t\tmethod\t\t: 'post',\n",
              "\t\t\tdata\t\t: { menuid: menuId, mode: 'live', 'rendermode' : 'manual', is_home : 'y', param : '', menu_type : type},\n",
              "\t\t\tbeforeSend\t: function() {\t\t\t\t\n",
              "\t\t\t\tconsole.log(menuId);\n",
              "\t\t\t\tif(type=='main'){\n",
              "\t\t\t\t  document.getElementById('maintabs_content-'+menuId).innerHTML = '<figure style=\"text-align: center;\"><img src=\"https://www.kannadaprabha.com/images/FrontEnd/images/menu-loader.gif\" style=\"width: 70px;\"></figure>';\n",
              "\t\t\t\t   }else{\n",
              "\t\t\t\t   document.getElementById('tabs-'+menuId).innerHTML = '<figure style=\"text-align: center;\"><img src=\"https://www.kannadaprabha.com/images/FrontEnd/images/menu-loader.gif\" style=\"width: 70px;position: absolute;top: 43%;left: 57%;\"></figure>';\n",
              "\t\t\t\t   }\n",
              "\t\t\t},\n",
              "\t\t\tsuccess\t\t: function(result){ \n",
              "\t\t\t       if(type=='main'){\n",
              "\t\t\t\t   $('#maintabs_content-'+menuId).html(result);\n",
              "\t\t\t\t   $('#maintabs-'+menuId).removeAttr('onmouseover');\n",
              "\t\t\t\t   }else{\n",
              "\t\t\t\t    $('#tabs-'+menuId).html(result);\n",
              "\t\t\t\t   $('#maintabs-'+type).removeAttr('onmouseover');\n",
              "\t\t\t\t   $('#subtabs-'+menuId).removeAttr('data-id');\n",
              "\t\t\t\t    $('#subtabs-'+menuId).removeAttr('onmouseover');\n",
              "\t\t\t\t   }\n",
              "\t\t\t\t   sessionStorage.setItem('menu_content_'+menuId, result);\n",
              "                   console.clear();\n",
              "\t\t\t\t   }\t\t\t\n",
              "\t\t});\n",
              "\t\t}\n",
              "\t   }\n",
              "</script>"
            ]
          },
          "metadata": {
            "tags": []
          },
          "execution_count": 119
        },
        {
          "output_type": "execute_result",
          "data": {
            "text/plain": [
              "<style>.morefrom{width: 100%;float: left;margin:2% 0 2%;} .morefrom a{font-weight:bold;color: #4672db;} .morefrom span{float:left;font-size: 16px;}</style>"
            ]
          },
          "metadata": {
            "tags": []
          },
          "execution_count": 119
        },
        {
          "output_type": "execute_result",
          "data": {
            "text/plain": [
              "<script type=\"text/javascript\">\n",
              "            $(document).ready(function() {\n",
              "                $('.whatsapp').on(\"click\", function(e) {\n",
              "                    if(/Android|webOS|iPhone|iPad|iPod|BlackBerry|IEMobile|Opera Mini/i.test(navigator.userAgent) ) {\n",
              "\n",
              "                        var article = $(this).attr(\"data-txt\");\n",
              "                        var weburl = $(this).attr(\"data-link\");\n",
              "                        var whats_app_message = article +\" - \"+encodeURIComponent(weburl);\n",
              "                        var whatsapp_url = \"whatsapp://send?text=\"+whats_app_message;\n",
              "                        window.location.href= whatsapp_url;\n",
              "\t\t\t\t\t\t//alert(whatsapp_url);\n",
              "                    }/* else{\n",
              "                        alert('you are not using mobile device.');\n",
              "                    } */\n",
              "                });\n",
              "            });\n",
              " </script>"
            ]
          },
          "metadata": {
            "tags": []
          },
          "execution_count": 119
        },
        {
          "output_type": "execute_result",
          "data": {
            "text/plain": [
              "<style>\n",
              ".ArticleDetailContent li{float: none; list-style: inherit;}\n",
              ".ArticleDetailContent blockquote {\n",
              "    padding-left: 20px !important;\n",
              "    padding-right: 8px !important;\n",
              "    border-left-width: 5px;\n",
              "    border-color: #ccc;\n",
              "    font-style: italic;\n",
              "\tmargin:10px 0 !important;\n",
              "\tpadding: 12px 16px !important;\n",
              "\tfont-size:13px !important;\n",
              "}\n",
              ".ArticleDetailContent blockquote p{font-size:13px !important;text-align:center;}\n",
              "@media screen and ( max-width: 768px){\n",
              " audio { width:100%;}\n",
              "}\n",
              "</style>"
            ]
          },
          "metadata": {
            "tags": []
          },
          "execution_count": 119
        },
        {
          "output_type": "execute_result",
          "data": {
            "text/plain": [
              "<script type=\"text/javascript\">\n",
              "\tvar base_url        = \"https://www.kannadaprabha.com/\";\n",
              "\tvar content_id      = \"402254\";\n",
              "\tvar content_type_id = \"1\";\n",
              "\tvar page_Indexid    = \"no_pagination\";\n",
              "\tvar section_id      = \"4\";\n",
              "\t//location.reload(true);\n",
              "\tvar content_url     = \"https://www.kannadaprabha.com/world/2019/sep/18/european-parliamentarians-back-india-on-kashmir-slam-pakistan-for-harbouring-terrorists-402254.html\";\n",
              "\tvar page_param      = \"4\";\n",
              "\tvar content_from    = \"live\";\n",
              "\tvar bitly_url       = \"\";\n",
              "\tvar bitly_message   = \"\";\n",
              "\t//$(\"#storyContent p:eq(0)\").before($('.author_txt').show());\n",
              "\t//$(\"#storyContent p:eq(0)\").before($('.agency_txt').show());\n",
              "\t\n",
              "</script>"
            ]
          },
          "metadata": {
            "tags": []
          },
          "execution_count": 119
        },
        {
          "output_type": "execute_result",
          "data": {
            "text/plain": [
              "<script async=\"\" charset=\"utf-8\" src=\"//platform.twitter.com/widgets.js\"></script>"
            ]
          },
          "metadata": {
            "tags": []
          },
          "execution_count": 119
        },
        {
          "output_type": "execute_result",
          "data": {
            "text/plain": [
              "<script type=\"text/javascript\">\n",
              "\n",
              "\t\t\tvar VUUKLE_CONFIG = {\n",
              "                        apiKey: \"6f27340a-c671-45a9-ae0c-13b8d5595b42\",\n",
              "                        articleId: \"402254\",                        \n",
              "                        tags: \"European parliamentarians , India, Pakistan,  Kashmir, ಯುರೋಪಿಯನ್ ಸಂಸತ್, ಭಾರತ, ಪಾಕಿಸ್ತಾನ, ಕಾಶ್ಮೀರ\",\n",
              "                        title: \"ಕಾಶ್ಮೀರ ವಿವಾದ: ಭಾರತದ ಬೆಂಬಲಕ್ಕೆ ನಿಂತ ಯುರೋಪಿಯನ್ ಸಂಸದರು, ಉಗ್ರರಿಗೆ ಆಶ್ರಯ ನೀಡುತ್ತಿರುವ ಪಾಕ್ ಗೆ ತರಾಟೆ\",\n",
              "\t\t\t\t\t\trecommendationsProtocol: \"https://www.\",\n",
              "                        comments: {\n",
              "                            transliteration: {\n",
              "                                language: 'kn',\n",
              "                                enabledByDefault: true,\n",
              "                            }\n",
              "                        }\n",
              "                    };\n",
              "\n",
              "                        (function () {\n",
              "                            var d = document,\n",
              "                                    s = d.createElement('script');\n",
              "                            s.src = 'https://cdn.vuukle.com/platform.js';\n",
              "                            (d.head || d.body).appendChild(s);\n",
              "                        })(); \n",
              "                  </script>"
            ]
          },
          "metadata": {
            "tags": []
          },
          "execution_count": 119
        },
        {
          "output_type": "execute_result",
          "data": {
            "text/plain": [
              "<script type=\"text/javascript\">\n",
              "  window._taboola = window._taboola || [];\n",
              "  _taboola.push({\n",
              "    mode: 'thumbnails-a',\n",
              "    container: 'taboola-below-article-thumbnails',\n",
              "    placement: 'Below Article Thumbnails',\n",
              "    target_type: 'mix'\n",
              "  });\n",
              "</script>"
            ]
          },
          "metadata": {
            "tags": []
          },
          "execution_count": 119
        },
        {
          "output_type": "execute_result",
          "data": {
            "text/plain": [
              "<script type=\"text/javascript\">\n",
              "  window._taboola = window._taboola || [];\n",
              "  _taboola.push({flush: true});\n",
              "</script>"
            ]
          },
          "metadata": {
            "tags": []
          },
          "execution_count": 119
        },
        {
          "output_type": "execute_result",
          "data": {
            "text/plain": [
              "<script>\n",
              "googletag.cmd.push(function() { googletag.display('div-gpt-ad-1527577603553-0'); });\n",
              "</script>"
            ]
          },
          "metadata": {
            "tags": []
          },
          "execution_count": 119
        },
        {
          "output_type": "execute_result",
          "data": {
            "text/plain": [
              "<script async=\"async\" src=\"https://www.googletagservices.com/tag/js/gpt.js\"></script>"
            ]
          },
          "metadata": {
            "tags": []
          },
          "execution_count": 119
        },
        {
          "output_type": "execute_result",
          "data": {
            "text/plain": [
              "<script>\n",
              "  var googletag = googletag || {};\n",
              "  googletag.cmd = googletag.cmd || [];\n",
              "</script>"
            ]
          },
          "metadata": {
            "tags": []
          },
          "execution_count": 119
        },
        {
          "output_type": "execute_result",
          "data": {
            "text/plain": [
              "<script>\n",
              "  googletag.cmd.push(function() {\n",
              "    //googletag.defineSlot('/3167926/knp_stg_300x250', [300, 250], 'div-gpt-ad-1558518159601-0').addService(googletag.pubads());\n",
              "    googletag.defineSlot('/3167926/knp_art_300x250_1', [300, 250], 'div-gpt-ad-1527577603553-0').addService(googletag.pubads());\n",
              "    googletag.defineSlot('/3167926/knp_art_300x250_2', [300, 250], 'div-gpt-ad-1527577603553-1').addService(googletag.pubads());\n",
              "    googletag.defineSlot('/3167926/knp_art_300x250_3', [300, 250], 'div-gpt-ad-1527577603553-2').addService(googletag.pubads());\n",
              "    googletag.defineSlot('/3167926/knp_art_300x250_4', [300, 250], 'div-gpt-ad-1527577603553-3').addService(googletag.pubads());\n",
              "    googletag.defineSlot('/3167926/knp_art_300x250_5', [300, 250], 'div-gpt-ad-1527577603553-4').addService(googletag.pubads());\n",
              "    googletag.defineSlot('/3167926/knp_art_300x250_6', [300, 250], 'div-gpt-ad-1527577603553-5').addService(googletag.pubads());\n",
              "    googletag.defineSlot('/3167926/KNP_Art_300x600', [300, 600], 'div-gpt-ad-1545303516962-0').addService(googletag.pubads());\n",
              "    googletag.defineSlot('/3167926/knp_art_1x1_1', [1, 1], 'div-gpt-ad-1527577603553-6').addService(googletag.pubads());\n",
              "    googletag.defineSlot('/3167926/knp_art_1x1_2', [1, 1], 'div-gpt-ad-1527577603553-7').addService(googletag.pubads());\n",
              "    googletag.pubads().enableSingleRequest();\n",
              "    googletag.enableServices();\n",
              "  });\n",
              "</script>"
            ]
          },
          "metadata": {
            "tags": []
          },
          "execution_count": 119
        },
        {
          "output_type": "execute_result",
          "data": {
            "text/plain": [
              "<script type=\"text/javascript\">\n",
              "  window._taboola = window._taboola || [];\n",
              "  _taboola.push({article:'auto'});\n",
              "  !function (e, f, u, i) {\n",
              "    if (!document.getElementById(i)){\n",
              "      e.async = 1;\n",
              "      e.src = u;\n",
              "      e.id = i;\n",
              "      f.parentNode.insertBefore(e, f);\n",
              "    }\n",
              "  }(document.createElement('script'),\n",
              "  document.getElementsByTagName('script')[0],\n",
              "  '//cdn.taboola.com/libtrc/newindianexpress-kannadaprabhacom/loader.js',\n",
              "  'tb_loader_script');\n",
              "  if(window.performance && typeof window.performance.mark == 'function')\n",
              "    {window.performance.mark('tbl_ic');}\n",
              "</script>"
            ]
          },
          "metadata": {
            "tags": []
          },
          "execution_count": 119
        },
        {
          "output_type": "execute_result",
          "data": {
            "text/plain": [
              "<script>\n",
              "googletag.cmd.push(function() { googletag.display('div-gpt-ad-1527577603553-1'); });\n",
              "</script>"
            ]
          },
          "metadata": {
            "tags": []
          },
          "execution_count": 119
        },
        {
          "output_type": "execute_result",
          "data": {
            "text/plain": [
              "<script>\n",
              "googletag.cmd.push(function() { googletag.display('div-gpt-ad-1527577603553-2'); });\n",
              "</script>"
            ]
          },
          "metadata": {
            "tags": []
          },
          "execution_count": 119
        },
        {
          "output_type": "execute_result",
          "data": {
            "text/plain": [
              "<script type=\"text/javascript\">\n",
              "$(document).ready(function(){\n",
              "  $('.top_news').parent('.col-lg-12').addClass('top_news_padding');\t\n",
              "});\n",
              "</script>"
            ]
          },
          "metadata": {
            "tags": []
          },
          "execution_count": 119
        },
        {
          "output_type": "execute_result",
          "data": {
            "text/plain": [
              "<script>\n",
              "googletag.cmd.push(function() { googletag.display('div-gpt-ad-1527577603553-3'); });\n",
              "</script>"
            ]
          },
          "metadata": {
            "tags": []
          },
          "execution_count": 119
        },
        {
          "output_type": "execute_result",
          "data": {
            "text/plain": [
              "<script>\n",
              "googletag.cmd.push(function() { googletag.display('div-gpt-ad-1527577603553-4'); });\n",
              "</script>"
            ]
          },
          "metadata": {
            "tags": []
          },
          "execution_count": 119
        },
        {
          "output_type": "execute_result",
          "data": {
            "text/plain": [
              "<script>\n",
              " function show_accordian_articles(content_type){\n",
              "\t\t $.ajax({\n",
              "\t\t\turl\t\t\t: 'https://www.kannadaprabha.com/user/commonwidget/get_editor_pick_content',\n",
              "\t\t\tmethod\t\t: 'post',\n",
              "\t\t\tdata\t\t: { type: content_type, param: '',mode:'live'},\n",
              "\t\t\tbeforeSend\t: function() {\t\t\t\t\n",
              "\t\t\t},\n",
              "\t\t\tsuccess\t\t: function(result){ \n",
              "\t\t\tconsole.log(result);\n",
              "\t\t\t\t   $('#'+content_type+'_content').html(result).hide().fadeIn({ duration: 1000 });\n",
              "\t\t\t\t  $('#'+content_type).removeAttr('onclick');\n",
              "\t\t\t\t   console.clear();\n",
              "\t\t\t\t   }\t\t\t\n",
              "\t\t});\n",
              "\t   }\n",
              "\n",
              "$(document).ready(function(){\n",
              "show_accordian_articles('most_read');\n",
              "});\t   \n",
              "</script>"
            ]
          },
          "metadata": {
            "tags": []
          },
          "execution_count": 119
        },
        {
          "output_type": "execute_result",
          "data": {
            "text/plain": [
              "<script>\n",
              "googletag.cmd.push(function() { googletag.display('div-gpt-ad-1527577603553-6'); });\n",
              "</script>"
            ]
          },
          "metadata": {
            "tags": []
          },
          "execution_count": 119
        },
        {
          "output_type": "execute_result",
          "data": {
            "text/plain": [
              "<script>\n",
              "googletag.cmd.push(function() { googletag.display('div-gpt-ad-1527577603553-7'); });\n",
              "</script>"
            ]
          },
          "metadata": {
            "tags": []
          },
          "execution_count": 119
        },
        {
          "output_type": "execute_result",
          "data": {
            "text/plain": [
              "<script language=\"JavaScript\">\n",
              "var zflag_nid=\"791\"; var zflag_cid=\"604\"; var zflag_sid=\"5\"; var zflag_width=\"1\"; var zflag_height=\"1\"; var zflag_sz=\"87\"; \n",
              "</script>"
            ]
          },
          "metadata": {
            "tags": []
          },
          "execution_count": 119
        },
        {
          "output_type": "execute_result",
          "data": {
            "text/plain": [
              "<script language=\"JavaScript\" src=\"https://tt3.zedo.com/jsc/tt3/fo.js\"></script>"
            ]
          },
          "metadata": {
            "tags": []
          },
          "execution_count": 119
        },
        {
          "output_type": "execute_result",
          "data": {
            "text/plain": [
              "<script language=\"JavaScript\">\n",
              "var zflag_nid=\"791\"; var zflag_cid=\"650\"; var zflag_sid=\"5\"; var zflag_width=\"1\"; var zflag_height=\"1\"; var zflag_sz=\"88\"; \n",
              "</script>"
            ]
          },
          "metadata": {
            "tags": []
          },
          "execution_count": 119
        },
        {
          "output_type": "execute_result",
          "data": {
            "text/plain": [
              "<script language=\"JavaScript\" src=\"https://tt3.zedo.com/jsc/tt3/fo.js\"></script>"
            ]
          },
          "metadata": {
            "tags": []
          },
          "execution_count": 119
        },
        {
          "output_type": "execute_result",
          "data": {
            "text/plain": [
              "<script language=\"JavaScript\">\n",
              "var zflag_nid=\"791\"; var zflag_cid=\"556\"; var zflag_sid=\"5\"; var zflag_width=\"1\"; var zflag_height=\"1\"; var zflag_sz=\"41\"; \n",
              "</script>"
            ]
          },
          "metadata": {
            "tags": []
          },
          "execution_count": 119
        },
        {
          "output_type": "execute_result",
          "data": {
            "text/plain": [
              "<script language=\"JavaScript\" src=\"https://tt3.zedo.com/jsc/tt3/fo.js\"></script>"
            ]
          },
          "metadata": {
            "tags": []
          },
          "execution_count": 119
        },
        {
          "output_type": "execute_result",
          "data": {
            "text/plain": [
              "<script language=\"JavaScript\">\n",
              "var zflag_nid=\"791\"; var zflag_cid=\"1337\"; var zflag_sid=\"5\"; var zflag_width=\"1\"; var zflag_height=\"1\"; var zflag_sz=\"33\"; \n",
              "</script>"
            ]
          },
          "metadata": {
            "tags": []
          },
          "execution_count": 119
        },
        {
          "output_type": "execute_result",
          "data": {
            "text/plain": [
              "<script language=\"JavaScript\" src=\"https://tt3.zedo.com/jsc/tt3/fo.js\"></script>"
            ]
          },
          "metadata": {
            "tags": []
          },
          "execution_count": 119
        },
        {
          "output_type": "execute_result",
          "data": {
            "text/plain": [
              "<script async=\"\" id=\"aniviewJS251993411\" src=\"https://play.aniview.com/5b59760c073ef46a2e6b8f13/5cc96695073ef44ae8316941/NIE_Kannadaprabha.com_Desktop_Floating_Rev70_3004.Js\"></script>"
            ]
          },
          "metadata": {
            "tags": []
          },
          "execution_count": 119
        },
        {
          "output_type": "execute_result",
          "data": {
            "text/plain": [
              "<script>\n",
              "var $ = $.noConflict();\n",
              "$(document).ready(function( $ ){\n",
              "    scrollToTop.init( );\n",
              "});\n",
              "var scrollToTop =\n",
              "{\n",
              "    init: function(  ){\n",
              "        //Check to see if the window is top if not then display button\n",
              "        $(window).scroll(function(){\n",
              "            if ($(this).scrollTop() > 100) {\n",
              "                $('.scrollToTop').fadeIn();\n",
              "            } else {\n",
              "                $('.scrollToTop').fadeOut();\n",
              "            }\n",
              "        });\n",
              "        // Click event to scroll to top\n",
              "        $('.scrollToTop').click(function(){\n",
              "            $('html, body').animate({scrollTop : 0},800);\n",
              "            return false;\n",
              "        });\n",
              "    }\n",
              "};\n",
              "</script>"
            ]
          },
          "metadata": {
            "tags": []
          },
          "execution_count": 119
        },
        {
          "output_type": "execute_result",
          "data": {
            "text/plain": [
              "<script defer=\"defer\" src=\"https://api.warw.in/cric3/js/script.js\"></script>"
            ]
          },
          "metadata": {
            "tags": []
          },
          "execution_count": 119
        },
        {
          "output_type": "execute_result",
          "data": {
            "text/plain": [
              "<script src=\"https://media.kannadaprabha.com/js/FrontEnd/js/remodal-article_updated.js?version=2.0\"></script>"
            ]
          },
          "metadata": {
            "tags": []
          },
          "execution_count": 119
        },
        {
          "output_type": "execute_result",
          "data": {
            "text/plain": [
              "<script src=\"https://media.kannadaprabha.com/js/FrontEnd/js/jquery.csbuttons.js\" type=\"text/javascript\"></script>"
            ]
          },
          "metadata": {
            "tags": []
          },
          "execution_count": 119
        },
        {
          "output_type": "execute_result",
          "data": {
            "text/plain": [
              "<script src=\"https://media.kannadaprabha.com/js/FrontEnd/js/article-pagination.js\" type=\"text/javascript\"></script>"
            ]
          },
          "metadata": {
            "tags": []
          },
          "execution_count": 119
        },
        {
          "output_type": "execute_result",
          "data": {
            "text/plain": [
              "<script src=\"https://media.kannadaprabha.com/js/FrontEnd/js/jquery.twbsPagination.min.js\" type=\"text/javascript\"></script>"
            ]
          },
          "metadata": {
            "tags": []
          },
          "execution_count": 119
        },
        {
          "output_type": "execute_result",
          "data": {
            "text/plain": [
              "<script>\n",
              "var close_url = \"home\";\n",
              "$( document ).ready(function() {\n",
              "\t$('#load_spinner').hide();\n",
              "\t$('.menu').affix({\n",
              "\toffset: {\n",
              "\ttop: $('header').height()\n",
              "\t}\n",
              "\t});\n",
              "});\n",
              "</script>"
            ]
          },
          "metadata": {
            "tags": []
          },
          "execution_count": 119
        },
        {
          "output_type": "execute_result",
          "data": {
            "text/plain": [
              "<script src=\"https://media.kannadaprabha.com/js/FrontEnd/js/postscribe.min.js\"></script>"
            ]
          },
          "metadata": {
            "tags": []
          },
          "execution_count": 119
        },
        {
          "output_type": "execute_result",
          "data": {
            "text/plain": [
              "<script>\n",
              "\t\tvar mb_prev = $('#mb_prev').val();\n",
              "\t\tvar mb_next = $('#mb_next').val();\n",
              "\t\tif(mb_prev!='' && mb_prev!=undefined){\n",
              "\t\t\t$('#mbn').show();\n",
              "\t\t}\n",
              "\t\t/* if(mb_next!='' && mb_next!=undefined){\n",
              "\t\t\t$('#mbn').show();\n",
              "\t\t} */\n",
              "\t\tfunction mfb(type){\n",
              "\t\t\tif(type=='whatsapp'){\n",
              "\t\t\t\t$('.whatsapp').click();\n",
              "\t\t\t}else if(type=='email'){\n",
              "\t\t\t\tvar sub =$('a[data-type=\"twitter\"]').attr('data-txt');\n",
              "\t\t\t\tvar body  =$('meta[property=\"og:url\"]').attr('content');\n",
              "\t\t\t\twindow.open('mailto:?subject='+sub+'&body='+body);\n",
              "\t\t\t}else if(type=='prev'){\n",
              "\t\t\t\twindow.location.href= mb_prev;\n",
              "\t\t\t}else if(type=='next'){\n",
              "\t\t\t\twindow.location.href= mb_next;\n",
              "\t\t\t}else{\n",
              "\t\t\t\t$('a[data-type=\"'+type+'\"]').click();\n",
              "\t\t\t}\n",
              "\t\t}\n",
              "\t</script>"
            ]
          },
          "metadata": {
            "tags": []
          },
          "execution_count": 119
        }
      ]
    },
    {
      "cell_type": "code",
      "metadata": {
        "id": "x-5Kg4iVPQGF",
        "colab_type": "code",
        "colab": {}
      },
      "source": [
        "#Get the token \n",
        "tokens = [tok for tok in soup.get_text().split()]"
      ],
      "execution_count": 0,
      "outputs": []
    },
    {
      "cell_type": "code",
      "metadata": {
        "id": "IoWwdxEePQEx",
        "colab_type": "code",
        "colab": {
          "base_uri": "https://localhost:8080/",
          "height": 54
        },
        "outputId": "092ecdf5-78ee-4fcb-c712-3a22733f41c4"
      },
      "source": [
        " print(tokens[0:100])"
      ],
      "execution_count": 121,
      "outputs": [
        {
          "output_type": "stream",
          "text": [
            "['ಕಾಶ್ಮೀರ', 'ವಿವಾದ:', 'ಭಾರತದ', 'ಬೆಂಬಲಕ್ಕೆ', 'ನಿಂತ', 'ಯುರೋಪಿಯನ್', 'ಸಂಸದರು,', 'ಉಗ್ರರಿಗೆ', 'ಆಶ್ರಯ', 'ನೀಡುತ್ತಿರುವ', 'ಪಾಕ್', 'ಗೆ', 'ತರಾಟೆ-', 'Kannada', 'Prabha', 'ರಾಜ್ಯ', 'ರಾಷ್ಟ್ರೀಯ', 'ಅಂತಾರಾಷ್ಟ್ರೀಯ', 'ಕ್ರೀಡೆ', 'ಕ್ರಿಕೆಟ್', 'ವಾಣಿಜ್ಯ', 'ಸಿನಿಮಾ', 'ಸುದ್ದಿ', 'ಬಾಲಿವುಡ್', 'ವಿಮರ್ಶೆ', 'ರಾಜಕೀಯ', 'ಆರೋಗ್ಯ', 'ಜೀವನಶೈಲಿ', 'ಫೋಟೊ', 'ಗ್ಯಾಲರಿ', 'ಸಿನಿಮಾ', 'ದೇಶ', 'ಇತರೆ', 'ಕ್ರೀಡೆ', 'ವಿಡಿಯೋ', 'ಸುದ್ದಿ', 'ಮನರಂಜನೆ', 'ಆಹಾರ', 'ವಿಹಾರ', 'ಆರೋಗ್ಯ', 'ಕ್ರೀಡೆ', 'ಪ್ರವಾಸ', '&', 'ವಾಹನ', 'ಫ್ಯಾಷನ್', '&', 'ಜೀವನಶೈಲಿ', 'ಅಂಕಣಗಳು', 'ಅಡುಗೆ', 'ಆಧ್ಯಾತ್ಮ', 'ತಂತ್ರಜ್ಢಾನ', 'ವಾಹನ', 'ವಿಶೇಷ', 'Wednesday,', 'September,', '18,', '2019', 'Toggle', 'navigation', 'ರಾಜ್ಯ', 'ರಾಷ್ಟ್ರೀಯ', 'ಅಂತಾರಾಷ್ಟ್ರೀಯ', 'ಕ್ರೀಡೆ', 'ಕ್ರಿಕೆಟ್', 'ವಾಣಿಜ್ಯ', 'ಸಿನಿಮಾ', 'ಸಿನಿಮಾ', 'ಸುದ್ದಿ', 'ಸಿನಿಮಾ', 'ವಿಮರ್ಶೆ', 'ಬಾಲಿವುಡ್', 'ರಾಜಕೀಯ', 'ಆರೋಗ್ಯ', 'ಜೀವನಶೈಲಿ', 'ಅಂಕಣಗಳು', 'Toggle', 'navigation', 'ಫೋಟೊ', 'ಗ್ಯಾಲರಿವಿಡಿಯೋಸಿನಿಮಾ', 'ಸುದ್ದಿಬಾಲಿವುಡ್ಆಧ್ಯಾತ್ಮತಂತ್ರಜ್ಞಾನವಾಹನಅಡುಗೆವಿಶೇಷಗ್ಯಾಲರಿ', 'ಮುಖಪುಟ', 'ಅಂತಾರಾಷ್ಟ್ರೀಯ', 'ಕಾಶ್ಮೀರ', 'ವಿವಾದ:', 'ಭಾರತದ', 'ಬೆಂಬಲಕ್ಕೆ', 'ನಿಂತ', 'ಯುರೋಪಿಯನ್', 'ಸಂಸದರು,', 'ಉಗ್ರರಿಗೆ', 'ಆಶ್ರಯ', 'ನೀಡುತ್ತಿರುವ', 'ಪಾಕ್', 'ಗೆ', 'ತರಾಟೆ', 'ಜಮ್ಮು', 'ಮತ್ತು', 'ಕಾಶ್ಮೀರ', 'ವಿಚಾರಕ್ಕೆ', 'ಸಂಬಂಧಿಸಿದಂತೆ']\n"
          ],
          "name": "stdout"
        }
      ]
    },
    {
      "cell_type": "code",
      "metadata": {
        "id": "xZcLTPxkUvjQ",
        "colab_type": "code",
        "colab": {}
      },
      "source": [
        "def wordfreq (words):    \n",
        "    \"\"\"Function to generated the frequency distribution of the \n",
        "given text\"\"\"    \n",
        "    word_freq={}    \n",
        "    for tok in words:        \n",
        "        if tok.lower() in word_freq:            \n",
        "            word_freq [tok.lower()]+=1        \n",
        "        else:            \n",
        "            word_freq [tok.lower()]=1    \n",
        "    return word_freq"
      ],
      "execution_count": 0,
      "outputs": []
    },
    {
      "cell_type": "code",
      "metadata": {
        "id": "HFgskK3AUvn5",
        "colab_type": "code",
        "colab": {}
      },
      "source": [
        "new_tokens = wordfreq(tokens)"
      ],
      "execution_count": 0,
      "outputs": []
    },
    {
      "cell_type": "code",
      "metadata": {
        "id": "kt5ytdXDUvq7",
        "colab_type": "code",
        "colab": {
          "base_uri": "https://localhost:8080/",
          "height": 406
        },
        "outputId": "578539b7-da7c-49b7-8f54-05ce94781107"
      },
      "source": [
        "import nltk \n",
        "import operator \n",
        "%matplotlib inline \n",
        "Freq_dist_nltk=nltk.FreqDist(tokens) \n",
        "print(Freq_dist_nltk) \n",
        "sorted_d = sorted(Freq_dist_nltk.items(), key=operator.itemgetter(1),reverse=True) \n",
        "print(sorted_d[:25]) \n",
        "Freq_dist_nltk.plot(25, cumulative=False)"
      ],
      "execution_count": 124,
      "outputs": [
        {
          "output_type": "stream",
          "text": [
            "<FreqDist with 344 samples and 484 outcomes>\n",
            "[('|', 22), ('ಯುರೋಪಿಯನ್', 8), ('ಕಾಶ್ಮೀರ', 6), ('ಸಂಸದರು,', 5), ('ಆಶ್ರಯ', 5), ('ಸಿನಿಮಾ', 5), ('ಎಂದು', 5), ('ಭಾರತದ', 4), ('ನೀಡುತ್ತಿರುವ', 4), ('ಅಂತಾರಾಷ್ಟ್ರೀಯ', 4), ('ಕ್ರೀಡೆ', 4), ('ಸುದ್ದಿ', 4), ('2019', 4), ('ಮತ್ತು', 4), ('ಭಾರತವನ್ನು', 4), ('ಆರೋಗ್ಯ', 3), ('ಜೀವನಶೈಲಿ', 3), ('ಫೋಟೊ', 3), ('&', 3), ('ಜಮ್ಮು', 3), ('ಭಯೋತ್ಪಾದಕರಿಗೆ', 3), ('ಭಾರತ', 3), ('ಚಿತ್ರದ', 3), ('Us', 3), ('ವಿವಾದ:', 2)]\n"
          ],
          "name": "stdout"
        },
        {
          "output_type": "display_data",
          "data": {
            "image/png": "[encoded data removed]",
            "text/plain": [
              "<Figure size 432x288 with 1 Axes>"
            ]
          },
          "metadata": {
            "tags": []
          }
        }
      ]
    },
    {
      "cell_type": "code",
      "metadata": {
        "id": "GtrRCik2UvtV",
        "colab_type": "code",
        "colab": {}
      },
      "source": [
        "from wordcloud import WordCloud \n",
        "\n",
        "from wordcloud import STOPWORDS\n",
        "\n",
        "stopwords = set(STOPWORDS)\n",
        "stopwords.add(\"every\")\n",
        "stopwords.add(\"will\")\n",
        "stopwords.add(\"News\")\n",
        "stopwords.add(\"Live\")"
      ],
      "execution_count": 0,
      "outputs": []
    },
    {
      "cell_type": "code",
      "metadata": {
        "id": "fIMT7V8LWL4i",
        "colab_type": "code",
        "colab": {}
      },
      "source": [
        "def plot_wordcloud(wordcloud):\n",
        "    plt.imshow(wordcloud)\n",
        "    plt.axis(\"off\")\n",
        "    plt.show()"
      ],
      "execution_count": 0,
      "outputs": []
    },
    {
      "cell_type": "code",
      "metadata": {
        "id": "Fu5VjuDFUvx1",
        "colab_type": "code",
        "colab": {
          "base_uri": "https://localhost:8080/",
          "height": 218
        },
        "outputId": "bb690357-7569-4fac-ac44-38a7481bcd4d"
      },
      "source": [
        "wordcloud = WordCloud(stopwords=stopwords, relative_scaling=1.0).generate(soup.get_text())\n",
        "plot_wordcloud(wordcloud)"
      ],
      "execution_count": 127,
      "outputs": [
        {
          "output_type": "display_data",
          "data": {
            "image/png": "[encoded data removed]",
            "text/plain": [
              "<Figure size 432x288 with 1 Axes>"
            ]
          },
          "metadata": {
            "tags": []
          }
        }
      ]
    }
  ]
}